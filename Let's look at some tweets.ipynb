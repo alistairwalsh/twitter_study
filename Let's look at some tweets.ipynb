{
 "cells": [
  {
   "cell_type": "markdown",
   "metadata": {},
   "source": [
    "# Let's look at some tweets"
   ]
  },
  {
   "cell_type": "code",
   "execution_count": 1,
   "metadata": {
    "collapsed": false
   },
   "outputs": [
    {
     "name": "stdout",
     "output_type": "stream",
     "text": [
      "@Roman_Empire_76 YEAHHH I LOVE YOU😚😘😙ROMAN\n",
      "RT @WhiteHouse: \"I love Joe Biden\"\n",
      "\"I just want to thank him for being a great friend\"\n",
      "\"For not shooting anybody in the face\" —@POTUS #WHCD\n",
      "I love when ppl subtweet me and then we have a subtweet convo\n",
      "I Love Knockin The Water Out Of  Her😏👅💦💦🌊\n",
      "RT @whyilovechungha: FRKDJD CHUNGHA, I LOVE TO D*E. https://t.co/2PViu3fHtO\n",
      "I love you @ShawnMendes\n",
      "MY QUEEN @Dance10Jenna YOU ARE EVERYTHING GOALS!!! LOVE YOU SO MUCH GIRLY!!! Xoxo #JIP 😍🔥🙌🏻👑🔥❤️💕💋👅👛😊👌🏻 https://t.co/YECSk6aJS5\n",
      "RT @Jun2daKAY: #내동생 #2PMARENATOUR2016\n",
      "#FAMILY #LOVE https://t.co/GMQfZGsAZ1\n",
      "I hate being bored yo ain't shit to do . 😂\n",
      "@BAiLEY2QUiRKY this is why I love you\n",
      "Written 10 Tweets\n"
     ]
    }
   ],
   "source": [
    "from nltk.twitter import Twitter\n",
    "tw = Twitter()\n",
    "tw.tweets(keywords='love, hate', limit=10) #sample from the public stream"
   ]
  },
  {
   "cell_type": "markdown",
   "metadata": {
    "collapsed": true
   },
   "source": [
    "### That looks simple right!?!"
   ]
  },
  {
   "cell_type": "markdown",
   "metadata": {},
   "source": [
    "But a lot of things can go wrong getting to this point.\n",
    "\n",
    "1. You need credentials to access twitter\n",
    "2. You need both nltk and twython\n",
    "3. You need to create a bash environmental variable to point to where you have saved your Twitter credentials"
   ]
  },
  {
   "cell_type": "markdown",
   "metadata": {},
   "source": [
    "### 1. Credentials to access twitter\n",
    "\n",
    "- go to https://apps.twitter.com/ and create an app, you'll receive 4 codes. \n",
    "\n",
    "- Make a folder in your home directory called twitter-files and create a text document inside it called credentials.txt\n",
    "\n",
    "- Open the text file and copy the credentials into it in this format \n",
    "\n",
    "```\n",
    "app_key=YOUR CONSUMER KEY  \n",
    "app_secret=YOUR CONSUMER SECRET  \n",
    "oauth_token=YOUR ACCESS TOKEN  \n",
    "oauth_token_secret=YOUR ACCESS TOKEN SECRET\n",
    "```\n",
    "\n"
   ]
  },
  {
   "cell_type": "markdown",
   "metadata": {},
   "source": [
    "### 2. Make this information available to the system\n",
    "\n",
    "- ### look in your home directory for a '.bashrc' file. \n",
    "\n",
    "It's a hidden file so you will need to display hidden files first.\n",
    "\n",
    "You might need to create it if it doesn't exist....\n",
    "\n",
    "On OSX there is a '.bash_profile' and no '.bashrc' file. Creating a '.bashrc' file doesn't work without a pointer in the '.bash_profile' file. \n",
    "Open the '.bash_profile' file and write this line of code in it -\n",
    "\n",
    "```\n",
    "[[ -s ~/.bashrc ]] && source ~/.bashrc\n",
    "```\n",
    "This will point to the .bashrc file\n",
    "\n",
    "and then create '.bashrc' or modify the existing one with - \n",
    "\n",
    "```\n",
    "export TWITTER=\"/path/to/your/twitter-files\"\n",
    "```\n",
    "\n",
    "Changing the path to the folder containing the 'credentials.txt' file"
   ]
  },
  {
   "cell_type": "markdown",
   "metadata": {},
   "source": [
    "### 3. Create an env with the libraries you need "
   ]
  },
  {
   "cell_type": "markdown",
   "metadata": {},
   "source": [
    "- open a terminal and use conda to sort out the dependancies (a twython recipe is available on dimazest's channel) \n"
   ]
  },
  {
   "cell_type": "markdown",
   "metadata": {},
   "source": [
    "    conda create -n positive anaconda nltk twython -c https://conda.binstar.org/dimazest\n"
   ]
  },
  {
   "cell_type": "markdown",
   "metadata": {},
   "source": [
    "### Activate the env with\n",
    "\n",
    "    source activate positive"
   ]
  },
  {
   "cell_type": "code",
   "execution_count": 2,
   "metadata": {
    "collapsed": false
   },
   "outputs": [
    {
     "name": "stdout",
     "output_type": "stream",
     "text": [
      "I don't need any guy to love me because I already love myself enough #thxbutnothx\n",
      "i love johnny\n",
      "RT @vidovic271: Love having money but hate spending it\n",
      "RT @BrittneyPalmer: Whole lotta love.. ❤️ Shot by @coreyepstein styled by @alilevinedesign MUA @rachaelvang https://t.co/hW1M9MUhnu\n",
      "RT @brysontiller: i don't understand love\n",
      "@1D_PLL_And_Book yay!❤️ thanks love\n",
      "RT @bigbootyjenica: I don't know I just love pizza so much though\n",
      "RT @madningchaos: Really want to Picslip, but I would really love to have 600 before I do so.\n",
      "RT @girlposts: I love the positivity in this https://t.co/ie6zN6eOv2\n",
      "I would love to go to a Nicki concert too ... She stay lit af\n",
      "Written 10 Tweets\n"
     ]
    }
   ],
   "source": [
    "#Now try\n",
    "\n",
    "from nltk.twitter import Twitter\n",
    "tw = Twitter()\n",
    "tw.tweets(keywords='love, hate', limit=10) #sample from the public stream"
   ]
  },
  {
   "cell_type": "code",
   "execution_count": null,
   "metadata": {
    "collapsed": true
   },
   "outputs": [],
   "source": []
  }
 ],
 "metadata": {
  "kernelspec": {
   "display_name": "Python 3",
   "language": "python",
   "name": "python3"
  },
  "language_info": {
   "codemirror_mode": {
    "name": "ipython",
    "version": 3
   },
   "file_extension": ".py",
   "mimetype": "text/x-python",
   "name": "python",
   "nbconvert_exporter": "python",
   "pygments_lexer": "ipython3",
   "version": "3.4.4"
  }
 },
 "nbformat": 4,
 "nbformat_minor": 0
}
