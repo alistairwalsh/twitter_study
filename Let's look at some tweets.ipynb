{
 "cells": [
  {
   "cell_type": "code",
   "execution_count": 25,
   "metadata": {
    "collapsed": true
   },
   "outputs": [],
   "source": [
    "import nltk\n",
    "import json"
   ]
  },
  {
   "cell_type": "code",
   "execution_count": 7,
   "metadata": {
    "collapsed": false
   },
   "outputs": [],
   "source": [
    "#use nltk.download to open a gui and get any missing pieces like the twitter samples\n",
    "#nltk.download()"
   ]
  },
  {
   "cell_type": "code",
   "execution_count": 19,
   "metadata": {
    "collapsed": false
   },
   "outputs": [
    {
     "data": {
      "text/plain": [
       "['tweets.20150430-223406.json']"
      ]
     },
     "execution_count": 19,
     "metadata": {},
     "output_type": "execute_result"
    }
   ],
   "source": [
    "nltk.corpus.twitter_samples.fileids()"
   ]
  },
  {
   "cell_type": "code",
   "execution_count": 30,
   "metadata": {
    "collapsed": false
   },
   "outputs": [
    {
     "data": {
      "text/plain": [
       "[{'possibly_sensitive': False, 'retweet_count': 0, 'timestamp_ms': '1430429646725', 'in_reply_to_user_id': None, 'geo': None, 'source': '<a href=\"http://twitter.com\" rel=\"nofollow\">Twitter Web Client</a>', 'lang': 'en', 'in_reply_to_status_id_str': None, 'in_reply_to_user_id_str': None, 'truncated': False, 'text': 'RT @KirkKus: Indirect cost of the UK being in the EU is estimated to be costing Britain £170 billion per year! #BetterOffOut #UKIP', 'user': {'name': 'Silver Shoes', 'geo_enabled': True, 'followers_count': 804, 'verified': False, 'profile_sidebar_fill_color': 'DDEEF6', 'time_zone': None, 'profile_banner_url': 'https://pbs.twimg.com/profile_banners/107794703/1429962878', 'profile_background_image_url_https': 'https://abs.twimg.com/images/themes/theme1/bg.png', 'profile_image_url': 'http://pbs.twimg.com/profile_images/591933328481222656/2-Vrnzbv_normal.jpg', 'contributors_enabled': False, 'default_profile_image': False, 'lang': 'en', 'profile_use_background_image': True, 'notifications': None, 'screen_name': 'vienesewaltz', 'profile_background_image_url': 'http://abs.twimg.com/images/themes/theme1/bg.png', 'profile_sidebar_border_color': 'C0DEED', 'description': 'Qualified Ballroom, Latin, Sequence, Teacher of Dancing', 'follow_request_sent': None, 'url': None, 'profile_text_color': '333333', 'profile_image_url_https': 'https://pbs.twimg.com/profile_images/591933328481222656/2-Vrnzbv_normal.jpg', 'listed_count': 43, 'profile_background_color': 'C0DEED', 'following': None, 'default_profile': True, 'protected': False, 'created_at': 'Sat Jan 23 19:23:32 +0000 2010', 'is_translator': False, 'location': 'Coningsby, Lincs', 'id_str': '107794703', 'friends_count': 515, 'id': 107794703, 'profile_link_color': '0084B4', 'statuses_count': 74617, 'profile_background_tile': False, 'favourites_count': 31150, 'utc_offset': None}, 'created_at': 'Thu Apr 30 21:34:06 +0000 2015', 'entities': {'symbols': [], 'urls': [], 'hashtags': [{'indices': [111, 124], 'text': 'BetterOffOut'}, {'indices': [125, 130], 'text': 'UKIP'}], 'trends': [], 'user_mentions': [{'name': 'Kirk Kus', 'indices': [3, 11], 'id': 929903647, 'screen_name': 'KirkKus', 'id_str': '929903647'}]}, 'in_reply_to_screen_name': None, 'coordinates': None, 'id_str': '593891099434983425', 'filter_level': 'low', 'contributors': None, 'id': 593891099434983425, 'favorite_count': 0, 'in_reply_to_status_id': None, 'favorited': False, 'retweeted': False, 'place': None, 'retweeted_status': {'possibly_sensitive': False, 'retweet_count': 11, 'in_reply_to_user_id': None, 'geo': None, 'source': '<a href=\"http://twitter.com\" rel=\"nofollow\">Twitter Web Client</a>', 'lang': 'en', 'in_reply_to_status_id_str': None, 'in_reply_to_user_id_str': None, 'truncated': False, 'text': 'Indirect cost of the UK being in the EU is estimated to be costing Britain £170 billion per year! #BetterOffOut #UKIP', 'user': {'name': 'Kirk Kus', 'geo_enabled': False, 'followers_count': 2973, 'verified': False, 'profile_sidebar_fill_color': 'DDEEF6', 'time_zone': 'London', 'profile_banner_url': 'https://pbs.twimg.com/profile_banners/929903647/1430095851', 'profile_background_image_url_https': 'https://pbs.twimg.com/profile_background_images/464858470500417536/oVGrCW1A.jpeg', 'profile_image_url': 'http://pbs.twimg.com/profile_images/592490695581159424/RHicaeez_normal.jpg', 'contributors_enabled': False, 'default_profile_image': False, 'lang': 'en', 'profile_use_background_image': True, 'notifications': None, 'screen_name': 'KirkKus', 'profile_background_image_url': 'http://pbs.twimg.com/profile_background_images/464858470500417536/oVGrCW1A.jpeg', 'profile_sidebar_border_color': 'FFFFFF', 'description': '22. UKIP YI Chairman for Derbyshire. IT Technical. Studying Network & Security at @DerbyUni. @UKIP member & activist. Darley Candidate. Member of @tfa4freedom', 'follow_request_sent': None, 'url': 'http://www.mmp4uk.org', 'profile_text_color': '333333', 'profile_image_url_https': 'https://pbs.twimg.com/profile_images/592490695581159424/RHicaeez_normal.jpg', 'listed_count': 39, 'profile_background_color': 'FFFFFF', 'following': None, 'default_profile': False, 'protected': False, 'created_at': 'Tue Nov 06 14:56:03 +0000 2012', 'is_translator': False, 'location': 'Sheffield + Derby', 'id_str': '929903647', 'friends_count': 2678, 'id': 929903647, 'profile_link_color': '6E0C6E', 'statuses_count': 4589, 'profile_background_tile': True, 'favourites_count': 2137, 'utc_offset': 3600}, 'created_at': 'Thu Apr 30 21:11:02 +0000 2015', 'entities': {'symbols': [], 'urls': [], 'hashtags': [{'indices': [98, 111], 'text': 'BetterOffOut'}, {'indices': [112, 117], 'text': 'UKIP'}], 'trends': [], 'user_mentions': []}, 'in_reply_to_screen_name': None, 'coordinates': None, 'id_str': '593885295323521025', 'filter_level': 'low', 'contributors': None, 'id': 593885295323521025, 'favorite_count': 3, 'in_reply_to_status_id': None, 'favorited': False, 'retweeted': False, 'place': None}}, {'possibly_sensitive': False, 'retweet_count': 0, 'timestamp_ms': '1430429646752', 'in_reply_to_user_id': None, 'geo': None, 'source': '<a href=\"http://dlvr.it\" rel=\"nofollow\">dlvr.it</a>', 'lang': 'en', 'in_reply_to_status_id_str': None, 'in_reply_to_user_id_str': None, 'truncated': False, 'text': 'VIDEO: Sturgeon on post-election deals http://t.co/BTJwrpbmOY', 'user': {'name': 'Raymond Jones', 'geo_enabled': False, 'followers_count': 184, 'verified': False, 'profile_sidebar_fill_color': 'DDEEF6', 'time_zone': None, 'profile_background_image_url_https': 'https://abs.twimg.com/images/themes/theme1/bg.png', 'profile_image_url': 'http://pbs.twimg.com/profile_images/2163573990/hills_normal.jpg', 'contributors_enabled': False, 'default_profile_image': False, 'lang': 'en', 'profile_use_background_image': True, 'notifications': None, 'screen_name': 'RaymondDJones1', 'profile_background_image_url': 'http://abs.twimg.com/images/themes/theme1/bg.png', 'profile_sidebar_border_color': 'C0DEED', 'description': 'I am a Pesticide sprayer', 'follow_request_sent': None, 'url': 'https://twitter.com/RaymondDJones1', 'profile_text_color': '333333', 'profile_image_url_https': 'https://pbs.twimg.com/profile_images/2163573990/hills_normal.jpg', 'listed_count': 7, 'profile_background_color': 'C0DEED', 'following': None, 'default_profile': True, 'protected': False, 'created_at': 'Thu Apr 19 04:30:00 +0000 2012', 'is_translator': False, 'location': 'GILDINGWELLS', 'id_str': '557422508', 'friends_count': 16, 'id': 557422508, 'profile_link_color': '0084B4', 'statuses_count': 126843, 'profile_background_tile': False, 'favourites_count': 0, 'utc_offset': None}, 'created_at': 'Thu Apr 30 21:34:06 +0000 2015', 'entities': {'symbols': [], 'urls': [{'url': 'http://t.co/BTJwrpbmOY', 'indices': [39, 61], 'display_url': 'dlvr.it/9cgTZ3', 'expanded_url': 'http://dlvr.it/9cgTZ3'}], 'hashtags': [], 'trends': [], 'user_mentions': []}, 'in_reply_to_screen_name': None, 'coordinates': None, 'id_str': '593891099548094465', 'filter_level': 'low', 'contributors': None, 'id': 593891099548094465, 'favorite_count': 0, 'in_reply_to_status_id': None, 'favorited': False, 'retweeted': False, 'place': None}, ...]"
      ]
     },
     "execution_count": 30,
     "metadata": {},
     "output_type": "execute_result"
    }
   ],
   "source": [
    "nltk.corpus.twitter_samples.docs()"
   ]
  },
  {
   "cell_type": "code",
   "execution_count": null,
   "metadata": {
    "collapsed": true
   },
   "outputs": [],
   "source": []
  }
 ],
 "metadata": {
  "kernelspec": {
   "display_name": "Python 3",
   "language": "python",
   "name": "python3"
  },
  "language_info": {
   "codemirror_mode": {
    "name": "ipython",
    "version": 3
   },
   "file_extension": ".py",
   "mimetype": "text/x-python",
   "name": "python",
   "nbconvert_exporter": "python",
   "pygments_lexer": "ipython3",
   "version": "3.5.1"
  }
 },
 "nbformat": 4,
 "nbformat_minor": 0
}
