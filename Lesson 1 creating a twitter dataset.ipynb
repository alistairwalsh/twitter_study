{
 "cells": [
  {
   "cell_type": "markdown",
   "metadata": {},
   "source": [
    "Disclaimer: Getting live tweets means you are looking at uncensored data. Be aware that anything could be returned."
   ]
  },
  {
   "cell_type": "markdown",
   "metadata": {},
   "source": [
    "# Learning objectives\n",
    "\n",
    "1. Setup Credentials\n",
    "2. Undestand the rules Twitter has about access\n",
    "3. Get Tweets from the Twitter Stream"
   ]
  },
  {
   "cell_type": "markdown",
   "metadata": {},
   "source": [
    "# Let's look at some tweets"
   ]
  },
  {
   "cell_type": "code",
   "execution_count": 1,
   "metadata": {
    "collapsed": false
   },
   "outputs": [
    {
     "name": "stdout",
     "output_type": "stream",
     "text": [
      "RT @AllenWestRepub: Liberals should have white privilege turned back on them, as they cloak their racism in \"I'm so privileged to be... htt…\n",
      "RT @fuchujim: Hanson has zero problem with any o/s detention of Muslims, regardless of who is running them. Racism is her thing. https://t.…\n",
      "RT @TheYoungTurks: .@TomiLahren's STUPID Response To @iJesseWilliams’ #BETAwards Speech About Racism https://t.co/AMJr2KiRV8\n",
      "RT @peddoc63: Definition of racism for media &amp; Democrats depends on party affiliation and ideology🌀not based on reality. https://t.co/xb9pL…\n",
      "RT @RealArabWhatsUp: Bitch got PKK written on her bio talking about racism lmaooo\n",
      "RT @AllenWestRepub: Liberals should have white privilege turned back on them, as they cloak their racism in \"I'm so privileged to be... htt…\n",
      "@sassycrass bc *he's* the authority on \"new age\" feminism. https://t.co/20cO3Fzldj\n",
      "RT @DanielJHannan: All the BBC's Euro-zealotry, held in check during the campaign, is rushing out in this \"Leavers have provoked racism\" dr…\n",
      "@KRaySaulis Any other feminism historians out there wanna chat with me on this? @GloriaSteinem @RoomOfOurOwn @FemMajority @msmagazine\n",
      "@michaelhallida4 Hanson voters just show how far we have to go with racism in Australia.\n",
      "Written 10 Tweets\n"
     ]
    }
   ],
   "source": [
    "from nltk.twitter import Twitter\n",
    "tw = Twitter()\n",
    "tw.tweets(keywords='racism, feminism', limit=10) #sample from the public stream"
   ]
  },
  {
   "cell_type": "markdown",
   "metadata": {
    "collapsed": true
   },
   "source": [
    "### That looks simple right!?!"
   ]
  },
  {
   "cell_type": "markdown",
   "metadata": {},
   "source": [
    "But a lot of things can go wrong getting to this point.\n",
    "\n",
    "1. You need both nltk and twython libraries installed\n",
    "2. You need API credentials to access twitter\n",
    "3. You need to create a bash environmental variable to point to where you have saved your Twitter credentials"
   ]
  },
  {
   "cell_type": "markdown",
   "metadata": {},
   "source": [
    "### You need API credentials to access twitter\n",
    "\n",
    "###### This method stores credentials in a central location\n",
    "\n",
    "** There is a simpler method shown in `simple_credentials.txt`**\n",
    "\n",
    "- go to https://apps.twitter.com/ and create an app, you'll receive 4 codes. \n",
    "\n",
    "- Make a folder in your home directory called twitter-files and create a text document inside it called `credentials.txt`\n",
    "\n",
    "- Open the text file and copy the credentials into it in this format \n",
    "\n",
    "```\n",
    "app_key=YOUR CONSUMER KEY  \n",
    "app_secret=YOUR CONSUMER SECRET  \n",
    "oauth_token=YOUR ACCESS TOKEN  \n",
    "oauth_token_secret=YOUR ACCESS TOKEN SECRET\n",
    "```\n",
    "\n",
    "### It's important to keep these codes private. \n",
    "They shouldn't be included in version control hosted in public repos."
   ]
  },
  {
   "cell_type": "markdown",
   "metadata": {},
   "source": [
    "### Make this information available to the system\n",
    "\n",
    "These steps will be different depending on which operating system you are using.\n",
    "\n",
    "### OS X\n",
    "\n",
    "-  look in your home directory for a '.bashrc' file. \n",
    "\n",
    "It's a hidden file so you will need to display hidden files first.\n",
    "\n",
    "```\n",
    "> ls -a\n",
    "```\n",
    "\n",
    "You might need to create it if it doesn't exist....\n",
    "\n",
    "On OSX there is a '.bash_profile' and no '.bashrc' file. Creating a '.bashrc' file doesn't work without a pointer in the '.bash_profile' file. \n",
    "\n",
    "- Open the '.bash_profile' file and write this line of code in it -\n",
    "\n",
    "```\n",
    "> [[ -s ~/.bashrc ]] && source ~/.bashrc\n",
    "```\n",
    "\n",
    "This will point to the .bashrc file\n",
    "\n",
    "and then \n",
    "\n",
    "- create '.bashrc' or modify the existing one with - \n",
    "\n",
    "```\n",
    "> export TWITTER=\"/path/to/your/twitter-files\"\n",
    "```\n",
    "\n",
    "Changing \"/path/to/your/twitter-files\" to point to the folder containing the 'credentials.txt' file."
   ]
  },
  {
   "cell_type": "markdown",
   "metadata": {},
   "source": [
    "### Create an env with the libraries you need "
   ]
  },
  {
   "cell_type": "markdown",
   "metadata": {},
   "source": [
    "The Anaconda install comes with the conda manager. There are other virtual environment libraries if you want to explore."
   ]
  },
  {
   "cell_type": "markdown",
   "metadata": {},
   "source": [
    "- open a terminal and use conda to sort out the dependancies \n",
    "\n",
    "(a twython recipe is available on dimazest's channel, -c https://conda.binstar.org/dimazest)"
   ]
  },
  {
   "cell_type": "markdown",
   "metadata": {},
   "source": [
    "    conda create -n positive anaconda nltk twython -c https://conda.binstar.org/dimazest\n"
   ]
  },
  {
   "cell_type": "markdown",
   "metadata": {},
   "source": [
    "### Activate the env with\n",
    "\n",
    "    source activate positive\n",
    "    \n",
    "You will see (positive) prepended to the terminal prompt"
   ]
  },
  {
   "cell_type": "code",
   "execution_count": 2,
   "metadata": {
    "collapsed": false
   },
   "outputs": [
    {
     "name": "stdout",
     "output_type": "stream",
     "text": [
      "RT @DavoHowarth: I love you baby lets do this propperly x\n",
      "RT @LaurenJauregui: I love trying to use my phone at 2am to watch Netflix and have every five seconds interrupted by someone who does not u…\n",
      "RT @FemaleTexts: I LOVE THIS https://t.co/G7dr2DO1tI\n",
      "love yourself//sorry//where are you now https://t.co/1I6MUsf9jN\n",
      "Japanese 'Lars and the Real Girl' Married #Japanese Man Claims He Has Finally Found Love With A #Sex Doll.  https://t.co/kEOOPDPmqo\n",
      "RT @StreisandNicole: *Crazy In Love comes on in public*\n",
      "Friend 1: Don't start\n",
      "Friend 2: You better not \n",
      "Me: https://t.co/pt3tJrt84d\n",
      "RT @arashil5: ◎【嵐 LOVE】-season\n",
      "◎\n",
      " https://t.co/C2PGSrLD2E\n",
      "RT @lalainealbon2: I love you so much @Allyssavaldez2 diman kayo nanalo panalo ka naman sa puso namin. &lt;3 We love you so much mwaaaaaaaaaaaa\n",
      "@VMiguelG okay love love yoouu\n",
      "RT @chrismichel: Shot 6,000 pictures in Norway and returned with only one shot that I really love.  And that is success for me. https://t.c…\n",
      "Written 10 Tweets\n"
     ]
    }
   ],
   "source": [
    "#Now try\n",
    "\n",
    "from nltk.twitter import Twitter\n",
    "tw = Twitter()\n",
    "tw.tweets(keywords='love, hate', limit=10) #sample from the public stream"
   ]
  },
  {
   "cell_type": "markdown",
   "metadata": {
    "collapsed": true
   },
   "source": [
    "[next notebook](http://localhost:8888/notebooks/Lesson%202%20creating%20a%20twitter%20dataset.ipynb)"
   ]
  },
  {
   "cell_type": "code",
   "execution_count": null,
   "metadata": {
    "collapsed": true
   },
   "outputs": [],
   "source": []
  }
 ],
 "metadata": {
  "kernelspec": {
   "display_name": "Python 3",
   "language": "python",
   "name": "python3"
  },
  "language_info": {
   "codemirror_mode": {
    "name": "ipython",
    "version": 3
   },
   "file_extension": ".py",
   "mimetype": "text/x-python",
   "name": "python",
   "nbconvert_exporter": "python",
   "pygments_lexer": "ipython3",
   "version": "3.4.4"
  }
 },
 "nbformat": 4,
 "nbformat_minor": 0
}
