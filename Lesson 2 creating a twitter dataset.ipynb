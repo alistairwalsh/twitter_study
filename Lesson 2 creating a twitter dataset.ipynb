{
 "cells": [
  {
   "cell_type": "markdown",
   "metadata": {},
   "source": [
    "Disclaimer: Getting live tweets means you are looking at uncensored data. Be aware that anything could be returned."
   ]
  },
  {
   "cell_type": "markdown",
   "metadata": {},
   "source": [
    "# Learning objectives\n",
    "\n",
    "1. Look at tweet structure\n",
    "- Get tweets from a specific user\n",
    "- Save data for later analysis\n"
   ]
  },
  {
   "cell_type": "markdown",
   "metadata": {},
   "source": [
    "The Jupyter Notebook can also understand bash commands if you use the `!` magic."
   ]
  },
  {
   "cell_type": "code",
   "execution_count": 1,
   "metadata": {
    "collapsed": false
   },
   "outputs": [
    {
     "name": "stdout",
     "output_type": "stream",
     "text": [
      "credentials.txt             tweets.20160503-101308.json\r\n",
      "\u001b[34msingle\u001b[m\u001b[m                      tweets.20160503-101514.json\r\n",
      "tweets.20160501-123319.json tweets.20160503-101622.json\r\n",
      "tweets.20160501-123532.json tweets.20160503-110515.json\r\n",
      "tweets.20160501-123626.json tweets.20160503-111428.json\r\n"
     ]
    }
   ],
   "source": [
    "!ls /Users/Neuromancer/twitter-files/"
   ]
  },
  {
   "cell_type": "markdown",
   "metadata": {},
   "source": [
    "The tweets are saved in the twitter-files folder we created to hold our credentials. \n",
    "\n",
    "Multiple tweets are saved, one tweet per line.\n",
    "\n",
    "\n",
    "We'll scan the folder for `*.json` files with the `glob` library."
   ]
  },
  {
   "cell_type": "code",
   "execution_count": 2,
   "metadata": {
    "collapsed": false
   },
   "outputs": [
    {
     "data": {
      "text/plain": [
       "['/Users/Neuromancer/twitter-files/tweets.20160501-123319.json',\n",
       " '/Users/Neuromancer/twitter-files/tweets.20160501-123532.json',\n",
       " '/Users/Neuromancer/twitter-files/tweets.20160501-123626.json',\n",
       " '/Users/Neuromancer/twitter-files/tweets.20160503-101308.json',\n",
       " '/Users/Neuromancer/twitter-files/tweets.20160503-101514.json',\n",
       " '/Users/Neuromancer/twitter-files/tweets.20160503-101622.json',\n",
       " '/Users/Neuromancer/twitter-files/tweets.20160503-110515.json',\n",
       " '/Users/Neuromancer/twitter-files/tweets.20160503-111428.json']"
      ]
     },
     "execution_count": 2,
     "metadata": {},
     "output_type": "execute_result"
    }
   ],
   "source": [
    "from glob import glob\n",
    "\n",
    "folder = '/Users/Neuromancer/twitter-files/'\n",
    "files = glob(folder+'*.json')\n",
    "\n",
    "files"
   ]
  },
  {
   "cell_type": "markdown",
   "metadata": {},
   "source": [
    "The next section of code \n",
    "\n",
    "- takes the first filename from the list\n",
    "- creates a file handle for that file\n",
    "- takes the first line which is one complete tweet\n",
    "- uses the `json.loads( )` function to read the `json` format\n",
    "- then breaks after the first one"
   ]
  },
  {
   "cell_type": "code",
   "execution_count": 9,
   "metadata": {
    "collapsed": false,
    "scrolled": false
   },
   "outputs": [
    {
     "name": "stdout",
     "output_type": "stream",
     "text": [
      "('{\"coordinates\": null, \"user\": {\"contributors_enabled\": false, \"url\": null, '\n",
      " '\"profile_use_background_image\": true, \"follow_request_sent\": null, '\n",
      " '\"profile_background_image_url\": '\n",
      " '\"http://pbs.twimg.com/profile_background_images/660843415286902784/BrNuKZmA.jpg\", '\n",
      " '\"geo_enabled\": true, \"name\": \"\\\\u306d\\\\u3053\", \"id\": 275620959, '\n",
      " '\"default_profile_image\": false, \"following\": null, \"favourites_count\": '\n",
      " '7562, \"description\": '\n",
      " '\"\\\\u65e5\\\\u3005\\\\uff88\\\\uff80\\\\u3092\\\\u63a2\\\\u3057\\\\u3066\\\\u751f\\\\u304d\\\\u3066\\\\u3044\\\\u308b\\\\u2026\\\\u98ef\\\\u30c6\\\\u30ed\\\\u591a\\\\u3081\\\\u3002 '\n",
      " 'Not\\\\u524d\\\\u885b\\\\u3001\\\\u30b5\\\\u30dd\\\\u30fc\\\\u30c8\\\\u7279\\\\u5316\\\\u578b\\\\u3002\\\\u30d5\\\\u30a9\\\\u30ed\\\\u30fc\\\\uff06\\\\u30d5\\\\u30a9\\\\u30ed\\\\u30d0\\\\u3057\\\\u3066\\\\u306a\\\\u304f\\\\u3066\\\\u3082\\\\u7a81\\\\u7136\\\\u7d61\\\\u307f\\\\u884c\\\\u304f\\\\u3053\\\\u3068\\\\u3092\\\\u3054\\\\u4e86\\\\u627f\\\\u304f\\\\u3060\\\\u3055\\\\u3044\\\\u3002\\\\u3000\\\\u795e\\\\u30d0\\\\u30cf\\\\u30fb\\\\u30b0\\\\u30e9\\\\u30d6\\\\u30eb\\\\u30fbFEZ\\\\u30fbPSO2\\\\u30fb\\\\u30ea\\\\u30c8\\\\u30eb\\\\u30ce\\\\u30a2\\\\u30fb\\\\u8266\\\\u3053\\\\u308c\\\\u3000\\\\u30a2\\\\u30cb\\\\u30e1\\\\u30b2\\\\u30fc\\\\u30e0\\\\u7f8e\\\\u5c11\\\\u5973\\\\u30b2\\\\u30fc\\\\u30e0\\\\u95a2\\\\u4fc2\\\\u5e45\\\\u5e83\\\\u304f\", '\n",
      " '\"statuses_count\": 57145, \"profile_sidebar_border_color\": \"000000\", '\n",
      " '\"profile_image_url\": '\n",
      " '\"http://pbs.twimg.com/profile_images/693363545455525888/pGZV4z_I_normal.png\", '\n",
      " '\"created_at\": \"Fri Apr 01 17:07:53 +0000 2011\", \"time_zone\": \"Tokyo\", '\n",
      " '\"screen_name\": \"neko1332\", \"profile_background_color\": \"C0DEED\", '\n",
      " '\"notifications\": null, \"profile_banner_url\": '\n",
      " '\"https://pbs.twimg.com/profile_banners/275620959/1446392391\", \"protected\": '\n",
      " 'false, \"friends_count\": 446, \"utc_offset\": 32400, \"id_str\": \"275620959\", '\n",
      " '\"profile_text_color\": \"333333\", \"followers_count\": 269, '\n",
      " '\"profile_background_image_url_https\": '\n",
      " '\"https://pbs.twimg.com/profile_background_images/660843415286902784/BrNuKZmA.jpg\", '\n",
      " '\"default_profile\": false, \"verified\": false, \"lang\": \"ja\", '\n",
      " '\"is_translator\": false, \"profile_link_color\": \"4A913C\", \"location\": '\n",
      " '\"B.C.12000\", \"profile_background_tile\": true, \"listed_count\": 8, '\n",
      " '\"profile_sidebar_fill_color\": \"FFFFFF\", \"profile_image_url_https\": '\n",
      " '\"https://pbs.twimg.com/profile_images/693363545455525888/pGZV4z_I_normal.png\"}, '\n",
      " '\"contributors\": null, \"favorite_count\": 0, \"in_reply_to_user_id\": '\n",
      " '253888239, \"in_reply_to_status_id_str\": \"726599965779197952\", '\n",
      " '\"possibly_sensitive\": false, \"timestamp_ms\": \"1462069999663\", '\n",
      " '\"in_reply_to_status_id\": 726599965779197952, \"favorited\": false, '\n",
      " '\"retweet_count\": 0, \"created_at\": \"Sun May 01 02:33:19 +0000 2016\", \"geo\": '\n",
      " 'null, \"extended_entities\": {\"media\": [{\"type\": \"photo\", \"expanded_url\": '\n",
      " '\"http://twitter.com/neko1332/status/726600358324105216/photo/1\", \"url\": '\n",
      " '\"https://t.co/72G77RVCqV\", \"media_url_https\": '\n",
      " '\"https://pbs.twimg.com/media/ChVnJvlUoAARIgS.jpg\", \"indices\": [12, 35], '\n",
      " '\"media_url\": \"http://pbs.twimg.com/media/ChVnJvlUoAARIgS.jpg\", '\n",
      " '\"display_url\": \"pic.twitter.com/72G77RVCqV\", \"id_str\": '\n",
      " '\"726600331979694080\", \"id\": 726600331979694080, \"sizes\": {\"thumb\": {\"h\": '\n",
      " '150, \"w\": 150, \"resize\": \"crop\"}, \"small\": {\"h\": 510, \"w\": 340, \"resize\": '\n",
      " '\"fit\"}, \"large\": {\"h\": 1536, \"w\": 1024, \"resize\": \"fit\"}, \"medium\": {\"h\": '\n",
      " '900, \"w\": 600, \"resize\": \"fit\"}}}]}, \"in_reply_to_user_id_str\": '\n",
      " '\"253888239\", \"source\": \"<a href=\\\\\"http://twitter.com/download/android\\\\\" '\n",
      " 'rel=\\\\\"nofollow\\\\\">Twitter for Android</a>\", \"text\": \"@RayHalberd '\n",
      " 'https://t.co/72G77RVCqV\", \"truncated\": false, \"id_str\": '\n",
      " '\"726600358324105216\", \"id\": 726600358324105216, \"entities\": '\n",
      " '{\"user_mentions\": [{\"id_str\": \"253888239\", \"name\": '\n",
      " '\"\\\\u30ec\\\\u30a4\\\\u8c5a\\\\u6559\\\\u6388\", \"id\": 253888239, \"indices\": [0, '\n",
      " '11], \"screen_name\": \"RayHalberd\"}], \"media\": [{\"type\": \"photo\", '\n",
      " '\"expanded_url\": '\n",
      " '\"http://twitter.com/neko1332/status/726600358324105216/photo/1\", \"url\": '\n",
      " '\"https://t.co/72G77RVCqV\", \"media_url_https\": '\n",
      " '\"https://pbs.twimg.com/media/ChVnJvlUoAARIgS.jpg\", \"indices\": [12, 35], '\n",
      " '\"media_url\": \"http://pbs.twimg.com/media/ChVnJvlUoAARIgS.jpg\", '\n",
      " '\"display_url\": \"pic.twitter.com/72G77RVCqV\", \"id_str\": '\n",
      " '\"726600331979694080\", \"id\": 726600331979694080, \"sizes\": {\"thumb\": {\"h\": '\n",
      " '150, \"w\": 150, \"resize\": \"crop\"}, \"small\": {\"h\": 510, \"w\": 340, \"resize\": '\n",
      " '\"fit\"}, \"large\": {\"h\": 1536, \"w\": 1024, \"resize\": \"fit\"}, \"medium\": {\"h\": '\n",
      " '900, \"w\": 600, \"resize\": \"fit\"}}}], \"urls\": [], \"symbols\": [], \"hashtags\": '\n",
      " '[]}, \"retweeted\": false, \"filter_level\": \"low\", \"lang\": \"und\", '\n",
      " '\"is_quote_status\": false, \"place\": null, \"in_reply_to_screen_name\": '\n",
      " '\"RayHalberd\"}\\n')\n",
      "--------------------------------------------------\n",
      "{   'contributors': None,\n",
      "    'coordinates': None,\n",
      "    'created_at': 'Sun May 01 02:33:19 +0000 2016',\n",
      "    'entities': {   'hashtags': [],\n",
      "                    'media': [   {   'display_url': 'pic.twitter.com/72G77RVCqV',\n",
      "                                     'expanded_url': 'http://twitter.com/neko1332/status/726600358324105216/photo/1',\n",
      "                                     'id': 726600331979694080,\n",
      "                                     'id_str': '726600331979694080',\n",
      "                                     'indices': [12, 35],\n",
      "                                     'media_url': 'http://pbs.twimg.com/media/ChVnJvlUoAARIgS.jpg',\n",
      "                                     'media_url_https': 'https://pbs.twimg.com/media/ChVnJvlUoAARIgS.jpg',\n",
      "                                     'sizes': {   'large': {   'h': 1536,\n",
      "                                                               'resize': 'fit',\n",
      "                                                               'w': 1024},\n",
      "                                                  'medium': {   'h': 900,\n",
      "                                                                'resize': 'fit',\n",
      "                                                                'w': 600},\n",
      "                                                  'small': {   'h': 510,\n",
      "                                                               'resize': 'fit',\n",
      "                                                               'w': 340},\n",
      "                                                  'thumb': {   'h': 150,\n",
      "                                                               'resize': 'crop',\n",
      "                                                               'w': 150}},\n",
      "                                     'type': 'photo',\n",
      "                                     'url': 'https://t.co/72G77RVCqV'}],\n",
      "                    'symbols': [],\n",
      "                    'urls': [],\n",
      "                    'user_mentions': [   {   'id': 253888239,\n",
      "                                             'id_str': '253888239',\n",
      "                                             'indices': [0, 11],\n",
      "                                             'name': 'レイ豚教授',\n",
      "                                             'screen_name': 'RayHalberd'}]},\n",
      "    'extended_entities': {   'media': [   {   'display_url': 'pic.twitter.com/72G77RVCqV',\n",
      "                                              'expanded_url': 'http://twitter.com/neko1332/status/726600358324105216/photo/1',\n",
      "                                              'id': 726600331979694080,\n",
      "                                              'id_str': '726600331979694080',\n",
      "                                              'indices': [12, 35],\n",
      "                                              'media_url': 'http://pbs.twimg.com/media/ChVnJvlUoAARIgS.jpg',\n",
      "                                              'media_url_https': 'https://pbs.twimg.com/media/ChVnJvlUoAARIgS.jpg',\n",
      "                                              'sizes': {   'large': {   'h': 1536,\n",
      "                                                                        'resize': 'fit',\n",
      "                                                                        'w': 1024},\n",
      "                                                           'medium': {   'h': 900,\n",
      "                                                                         'resize': 'fit',\n",
      "                                                                         'w': 600},\n",
      "                                                           'small': {   'h': 510,\n",
      "                                                                        'resize': 'fit',\n",
      "                                                                        'w': 340},\n",
      "                                                           'thumb': {   'h': 150,\n",
      "                                                                        'resize': 'crop',\n",
      "                                                                        'w': 150}},\n",
      "                                              'type': 'photo',\n",
      "                                              'url': 'https://t.co/72G77RVCqV'}]},\n",
      "    'favorite_count': 0,\n",
      "    'favorited': False,\n",
      "    'filter_level': 'low',\n",
      "    'geo': None,\n",
      "    'id': 726600358324105216,\n",
      "    'id_str': '726600358324105216',\n",
      "    'in_reply_to_screen_name': 'RayHalberd',\n",
      "    'in_reply_to_status_id': 726599965779197952,\n",
      "    'in_reply_to_status_id_str': '726599965779197952',\n",
      "    'in_reply_to_user_id': 253888239,\n",
      "    'in_reply_to_user_id_str': '253888239',\n",
      "    'is_quote_status': False,\n",
      "    'lang': 'und',\n",
      "    'place': None,\n",
      "    'possibly_sensitive': False,\n",
      "    'retweet_count': 0,\n",
      "    'retweeted': False,\n",
      "    'source': '<a href=\"http://twitter.com/download/android\" '\n",
      "              'rel=\"nofollow\">Twitter for Android</a>',\n",
      "    'text': '@RayHalberd https://t.co/72G77RVCqV',\n",
      "    'timestamp_ms': '1462069999663',\n",
      "    'truncated': False,\n",
      "    'user': {   'contributors_enabled': False,\n",
      "                'created_at': 'Fri Apr 01 17:07:53 +0000 2011',\n",
      "                'default_profile': False,\n",
      "                'default_profile_image': False,\n",
      "                'description': '日々ﾈﾀを探して生きている…飯テロ多め。 '\n",
      "                               'Not前衛、サポート特化型。フォロー＆フォロバしてなくても突然絡み行くことをご了承ください。\\u3000'\n",
      "                               '神バハ・グラブル・FEZ・PSO2・リトルノア・艦これ\\u3000'\n",
      "                               'アニメゲーム美少女ゲーム関係幅広く',\n",
      "                'favourites_count': 7562,\n",
      "                'follow_request_sent': None,\n",
      "                'followers_count': 269,\n",
      "                'following': None,\n",
      "                'friends_count': 446,\n",
      "                'geo_enabled': True,\n",
      "                'id': 275620959,\n",
      "                'id_str': '275620959',\n",
      "                'is_translator': False,\n",
      "                'lang': 'ja',\n",
      "                'listed_count': 8,\n",
      "                'location': 'B.C.12000',\n",
      "                'name': 'ねこ',\n",
      "                'notifications': None,\n",
      "                'profile_background_color': 'C0DEED',\n",
      "                'profile_background_image_url': 'http://pbs.twimg.com/profile_background_images/660843415286902784/BrNuKZmA.jpg',\n",
      "                'profile_background_image_url_https': 'https://pbs.twimg.com/profile_background_images/660843415286902784/BrNuKZmA.jpg',\n",
      "                'profile_background_tile': True,\n",
      "                'profile_banner_url': 'https://pbs.twimg.com/profile_banners/275620959/1446392391',\n",
      "                'profile_image_url': 'http://pbs.twimg.com/profile_images/693363545455525888/pGZV4z_I_normal.png',\n",
      "                'profile_image_url_https': 'https://pbs.twimg.com/profile_images/693363545455525888/pGZV4z_I_normal.png',\n",
      "                'profile_link_color': '4A913C',\n",
      "                'profile_sidebar_border_color': '000000',\n",
      "                'profile_sidebar_fill_color': 'FFFFFF',\n",
      "                'profile_text_color': '333333',\n",
      "                'profile_use_background_image': True,\n",
      "                'protected': False,\n",
      "                'screen_name': 'neko1332',\n",
      "                'statuses_count': 57145,\n",
      "                'time_zone': 'Tokyo',\n",
      "                'url': None,\n",
      "                'utc_offset': 32400,\n",
      "                'verified': False}}\n"
     ]
    }
   ],
   "source": [
    "import pprint, json\n",
    "\n",
    "pp = pprint.PrettyPrinter(indent=4)\n",
    "\n",
    "first_file = files[0]\n",
    "\n",
    "with open(first_file) as infile:\n",
    "    for line in infile:\n",
    "        pp.pprint(line)\n",
    "        print('-----'*10)\n",
    "        parsed_tweet = json.loads(line)\n",
    "        pp.pprint(parsed_tweet)\n",
    "        break\n"
   ]
  },
  {
   "cell_type": "code",
   "execution_count": 55,
   "metadata": {
    "collapsed": false
   },
   "outputs": [
    {
     "data": {
      "text/plain": [
       "dict_keys(['retweet_count', 'truncated', 'coordinates', 'in_reply_to_user_id_str', 'id_str', 'filter_level', 'entities', 'text', 'place', 'source', 'user', 'lang', 'contributors', 'in_reply_to_status_id', 'possibly_sensitive', 'geo', 'favorite_count', 'created_at', 'extended_entities', 'id', 'is_quote_status', 'retweeted', 'favorited', 'in_reply_to_status_id_str', 'in_reply_to_screen_name', 'timestamp_ms', 'in_reply_to_user_id'])"
      ]
     },
     "execution_count": 55,
     "metadata": {},
     "output_type": "execute_result"
    }
   ],
   "source": [
    "parsed_tweet.keys()"
   ]
  },
  {
   "cell_type": "code",
   "execution_count": 73,
   "metadata": {
    "collapsed": false
   },
   "outputs": [
    {
     "data": {
      "text/plain": [
       "726600358324105216"
      ]
     },
     "execution_count": 73,
     "metadata": {},
     "output_type": "execute_result"
    }
   ],
   "source": [
    "parsed_tweet['id']"
   ]
  },
  {
   "cell_type": "code",
   "execution_count": 76,
   "metadata": {
    "collapsed": false
   },
   "outputs": [],
   "source": [
    "user_details = parsed_tweet['user']"
   ]
  },
  {
   "cell_type": "code",
   "execution_count": 77,
   "metadata": {
    "collapsed": false
   },
   "outputs": [
    {
     "data": {
      "text/plain": [
       "dict_keys(['screen_name', 'default_profile_image', 'geo_enabled', 'profile_link_color', 'url', 'profile_background_image_url', 'following', 'location', 'id_str', 'friends_count', 'profile_sidebar_fill_color', 'protected', 'profile_image_url', 'name', 'profile_background_tile', 'profile_banner_url', 'is_translator', 'favourites_count', 'statuses_count', 'lang', 'default_profile', 'created_at', 'contributors_enabled', 'time_zone', 'verified', 'utc_offset', 'description', 'notifications', 'profile_background_image_url_https', 'follow_request_sent', 'profile_sidebar_border_color', 'profile_image_url_https', 'listed_count', 'profile_use_background_image', 'profile_background_color', 'id', 'profile_text_color', 'followers_count'])"
      ]
     },
     "execution_count": 77,
     "metadata": {},
     "output_type": "execute_result"
    }
   ],
   "source": [
    "user_details.keys()"
   ]
  },
  {
   "cell_type": "code",
   "execution_count": 78,
   "metadata": {
    "collapsed": false
   },
   "outputs": [
    {
     "data": {
      "text/plain": [
       "True"
      ]
     },
     "execution_count": 78,
     "metadata": {},
     "output_type": "execute_result"
    }
   ],
   "source": [
    "user_details['geo_enabled']"
   ]
  },
  {
   "cell_type": "code",
   "execution_count": 79,
   "metadata": {
    "collapsed": false
   },
   "outputs": [
    {
     "data": {
      "text/plain": [
       "'B.C.12000'"
      ]
     },
     "execution_count": 79,
     "metadata": {},
     "output_type": "execute_result"
    }
   ],
   "source": [
    "user_details['location']"
   ]
  },
  {
   "cell_type": "code",
   "execution_count": null,
   "metadata": {
    "collapsed": true
   },
   "outputs": [],
   "source": [
    "parsed_tweet['']"
   ]
  },
  {
   "cell_type": "code",
   "execution_count": 83,
   "metadata": {
    "collapsed": false
   },
   "outputs": [
    {
     "data": {
      "text/plain": [
       "'日々ﾈﾀを探して生きている…飯テロ多め。 Not前衛、サポート特化型。フォロー＆フォロバしてなくても突然絡み行くことをご了承ください。\\u3000神バハ・グラブル・FEZ・PSO2・リトルノア・艦これ\\u3000アニメゲーム美少女ゲーム関係幅広く'"
      ]
     },
     "execution_count": 83,
     "metadata": {},
     "output_type": "execute_result"
    }
   ],
   "source": [
    "user_details['description']"
   ]
  },
  {
   "cell_type": "markdown",
   "metadata": {},
   "source": [
    "Which google translates to \n",
    "\n",
    "' Alive looking for a day-to-day story ... rice terrorism generous . Not avant-garde , support specialized . Please note that we tangled suddenly even without to follow & Foroba . \\ U3000 God Baja gravel · FEZ · PSO2 · Ritorunoa - ship this \\ u3000 anime game Pretty game widely relationship '"
   ]
  },
  {
   "cell_type": "code",
   "execution_count": 85,
   "metadata": {
    "collapsed": false
   },
   "outputs": [
    {
     "data": {
      "text/plain": [
       "'Sun May 01 02:33:19 +0000 2016'"
      ]
     },
     "execution_count": 85,
     "metadata": {},
     "output_type": "execute_result"
    }
   ],
   "source": [
    "parsed_tweet['created_at'] # UTC time when this Tweet was created."
   ]
  },
  {
   "cell_type": "code",
   "execution_count": 84,
   "metadata": {
    "collapsed": false
   },
   "outputs": [
    {
     "data": {
      "text/plain": [
       "32400"
      ]
     },
     "execution_count": 84,
     "metadata": {},
     "output_type": "execute_result"
    }
   ],
   "source": [
    "user_details['utc_offset']"
   ]
  },
  {
   "cell_type": "code",
   "execution_count": 56,
   "metadata": {
    "collapsed": false
   },
   "outputs": [
    {
     "data": {
      "text/plain": [
       "'@RayHalberd https://t.co/72G77RVCqV'"
      ]
     },
     "execution_count": 56,
     "metadata": {},
     "output_type": "execute_result"
    }
   ],
   "source": [
    "parsed_tweet['text']"
   ]
  },
  {
   "cell_type": "code",
   "execution_count": 70,
   "metadata": {
    "collapsed": false
   },
   "outputs": [
    {
     "data": {
      "text/plain": [
       "'Sun May 01 02:33:19 +0000 2016'"
      ]
     },
     "execution_count": 70,
     "metadata": {},
     "output_type": "execute_result"
    }
   ],
   "source": [
    "parsed_tweet['created_at']"
   ]
  },
  {
   "cell_type": "code",
   "execution_count": 71,
   "metadata": {
    "collapsed": false
   },
   "outputs": [
    {
     "data": {
      "text/plain": [
       "{'hashtags': [],\n",
       " 'media': [{'display_url': 'pic.twitter.com/72G77RVCqV',\n",
       "   'expanded_url': 'http://twitter.com/neko1332/status/726600358324105216/photo/1',\n",
       "   'id': 726600331979694080,\n",
       "   'id_str': '726600331979694080',\n",
       "   'indices': [12, 35],\n",
       "   'media_url': 'http://pbs.twimg.com/media/ChVnJvlUoAARIgS.jpg',\n",
       "   'media_url_https': 'https://pbs.twimg.com/media/ChVnJvlUoAARIgS.jpg',\n",
       "   'sizes': {'large': {'h': 1536, 'resize': 'fit', 'w': 1024},\n",
       "    'medium': {'h': 900, 'resize': 'fit', 'w': 600},\n",
       "    'small': {'h': 510, 'resize': 'fit', 'w': 340},\n",
       "    'thumb': {'h': 150, 'resize': 'crop', 'w': 150}},\n",
       "   'type': 'photo',\n",
       "   'url': 'https://t.co/72G77RVCqV'}],\n",
       " 'symbols': [],\n",
       " 'urls': [],\n",
       " 'user_mentions': [{'id': 253888239,\n",
       "   'id_str': '253888239',\n",
       "   'indices': [0, 11],\n",
       "   'name': 'レイ豚教授',\n",
       "   'screen_name': 'RayHalberd'}]}"
      ]
     },
     "execution_count": 71,
     "metadata": {},
     "output_type": "execute_result"
    }
   ],
   "source": [
    "parsed_tweet['entities']"
   ]
  },
  {
   "cell_type": "code",
   "execution_count": 72,
   "metadata": {
    "collapsed": true
   },
   "outputs": [],
   "source": [
    "parsed_tweet['place']"
   ]
  },
  {
   "cell_type": "markdown",
   "metadata": {},
   "source": [
    "If the file was a single json we could use the `json.load( )` function and this might make it easier to undestand.\n",
    "\n",
    "Let's take each file and create a folder of individual tweet files."
   ]
  },
  {
   "cell_type": "code",
   "execution_count": 39,
   "metadata": {
    "collapsed": false
   },
   "outputs": [
    {
     "data": {
      "text/plain": [
       "'/Users/Neuromancer/twitter-files/tweets.20160501-123319.json'"
      ]
     },
     "execution_count": 39,
     "metadata": {},
     "output_type": "execute_result"
    }
   ],
   "source": [
    "files[0]"
   ]
  },
  {
   "cell_type": "code",
   "execution_count": 46,
   "metadata": {
    "collapsed": true
   },
   "outputs": [],
   "source": [
    "directory = files[0].split('tweets')[0]+'single'\n",
    "if not os.path.exists(directory):\n",
    "    os.makedirs(directory)"
   ]
  },
  {
   "cell_type": "code",
   "execution_count": 47,
   "metadata": {
    "collapsed": false
   },
   "outputs": [
    {
     "data": {
      "text/plain": [
       "'/Users/Neuromancer/twitter-files/single'"
      ]
     },
     "execution_count": 47,
     "metadata": {},
     "output_type": "execute_result"
    }
   ],
   "source": [
    "directory"
   ]
  },
  {
   "cell_type": "code",
   "execution_count": 51,
   "metadata": {
    "collapsed": false
   },
   "outputs": [
    {
     "name": "stdout",
     "output_type": "stream",
     "text": [
      "credentials.txt              tweets.20160503-101308.json\r\n",
      "\u001b[34msingle\u001b[m\u001b[m/                      tweets.20160503-101514.json\r\n",
      "tweets.20160501-123319.json  tweets.20160503-101622.json\r\n",
      "tweets.20160501-123532.json  tweets.20160503-110515.json\r\n",
      "tweets.20160501-123626.json  tweets.20160503-111428.json\r\n"
     ]
    }
   ],
   "source": [
    "ls /Users/Neuromancer/twitter-files/"
   ]
  },
  {
   "cell_type": "code",
   "execution_count": 45,
   "metadata": {
    "collapsed": false
   },
   "outputs": [
    {
     "name": "stdout",
     "output_type": "stream",
     "text": [
      "path /Users/Neuromancer/twitter-files/tweets.20160501-123319.json/ doesn't exist!\n"
     ]
    },
    {
     "ename": "NotADirectoryError",
     "evalue": "[Errno 20] Not a directory: '/Users/Neuromancer/twitter-files/tweets.20160501-123319.json/'",
     "output_type": "error",
     "traceback": [
      "\u001b[0;31m---------------------------------------------------------------------------\u001b[0m",
      "\u001b[0;31mNotADirectoryError\u001b[0m                        Traceback (most recent call last)",
      "\u001b[0;32m<ipython-input-45-e7a85c7bafa4>\u001b[0m in \u001b[0;36m<module>\u001b[0;34m()\u001b[0m\n\u001b[1;32m      7\u001b[0m \u001b[0;32melse\u001b[0m\u001b[0;34m:\u001b[0m\u001b[0;34m\u001b[0m\u001b[0m\n\u001b[1;32m      8\u001b[0m     \u001b[0mprint\u001b[0m\u001b[0;34m(\u001b[0m\u001b[0;34m'path '\u001b[0m\u001b[0;34m+\u001b[0m\u001b[0mfiles\u001b[0m\u001b[0;34m[\u001b[0m\u001b[0;36m0\u001b[0m\u001b[0;34m]\u001b[0m\u001b[0;34m+\u001b[0m\u001b[0;34m'/'\u001b[0m\u001b[0;34m+\u001b[0m\u001b[0;34m\" doesn't exist!\"\u001b[0m\u001b[0;34m)\u001b[0m\u001b[0;34m\u001b[0m\u001b[0m\n\u001b[0;32m----> 9\u001b[0;31m     \u001b[0mos\u001b[0m\u001b[0;34m.\u001b[0m\u001b[0mmkdir\u001b[0m\u001b[0;34m(\u001b[0m\u001b[0mfiles\u001b[0m\u001b[0;34m[\u001b[0m\u001b[0;36m0\u001b[0m\u001b[0;34m]\u001b[0m\u001b[0;34m+\u001b[0m\u001b[0;34m'/'\u001b[0m\u001b[0;34m)\u001b[0m\u001b[0;34m\u001b[0m\u001b[0m\n\u001b[0m",
      "\u001b[0;31mNotADirectoryError\u001b[0m: [Errno 20] Not a directory: '/Users/Neuromancer/twitter-files/tweets.20160501-123319.json/'"
     ]
    }
   ],
   "source": [
    "import os\n",
    "\n",
    "\n",
    "if os.path.exists(files[0]+'/'):\n",
    "    print('path '+files[0]+'/'+' exists!')\n",
    "    \n",
    "else:\n",
    "    print('path '+files[0]+'/'+\" doesn't exist!\")\n",
    "    os.mkdir(files[0]+'/')"
   ]
  },
  {
   "cell_type": "code",
   "execution_count": 26,
   "metadata": {
    "collapsed": false
   },
   "outputs": [
    {
     "ename": "AttributeError",
     "evalue": "'str' object has no attribute 'read'",
     "output_type": "error",
     "traceback": [
      "\u001b[0;31m---------------------------------------------------------------------------\u001b[0m",
      "\u001b[0;31mAttributeError\u001b[0m                            Traceback (most recent call last)",
      "\u001b[0;32m<ipython-input-26-44f223a7798e>\u001b[0m in \u001b[0;36m<module>\u001b[0;34m()\u001b[0m\n\u001b[1;32m      1\u001b[0m \u001b[0;32mwith\u001b[0m \u001b[0mopen\u001b[0m\u001b[0;34m(\u001b[0m\u001b[0mfirst_file\u001b[0m\u001b[0;34m)\u001b[0m \u001b[0;32mas\u001b[0m \u001b[0minfile\u001b[0m\u001b[0;34m:\u001b[0m\u001b[0;34m\u001b[0m\u001b[0m\n\u001b[1;32m      2\u001b[0m     \u001b[0mtext\u001b[0m \u001b[0;34m=\u001b[0m \u001b[0minfile\u001b[0m\u001b[0;34m.\u001b[0m\u001b[0mread\u001b[0m\u001b[0;34m(\u001b[0m\u001b[0;34m)\u001b[0m\u001b[0;34m\u001b[0m\u001b[0m\n\u001b[0;32m----> 3\u001b[0;31m     \u001b[0mtext_json\u001b[0m \u001b[0;34m=\u001b[0m \u001b[0mjson\u001b[0m\u001b[0;34m.\u001b[0m\u001b[0mload\u001b[0m\u001b[0;34m(\u001b[0m\u001b[0mtext\u001b[0m\u001b[0;34m)\u001b[0m\u001b[0;34m\u001b[0m\u001b[0m\n\u001b[0m",
      "\u001b[0;32m/Users/Neuromancer/anaconda/envs/positive/lib/python3.4/json/__init__.py\u001b[0m in \u001b[0;36mload\u001b[0;34m(fp, cls, object_hook, parse_float, parse_int, parse_constant, object_pairs_hook, **kw)\u001b[0m\n\u001b[1;32m    263\u001b[0m \u001b[0;34m\u001b[0m\u001b[0m\n\u001b[1;32m    264\u001b[0m     \"\"\"\n\u001b[0;32m--> 265\u001b[0;31m     return loads(fp.read(),\n\u001b[0m\u001b[1;32m    266\u001b[0m         \u001b[0mcls\u001b[0m\u001b[0;34m=\u001b[0m\u001b[0mcls\u001b[0m\u001b[0;34m,\u001b[0m \u001b[0mobject_hook\u001b[0m\u001b[0;34m=\u001b[0m\u001b[0mobject_hook\u001b[0m\u001b[0;34m,\u001b[0m\u001b[0;34m\u001b[0m\u001b[0m\n\u001b[1;32m    267\u001b[0m         \u001b[0mparse_float\u001b[0m\u001b[0;34m=\u001b[0m\u001b[0mparse_float\u001b[0m\u001b[0;34m,\u001b[0m \u001b[0mparse_int\u001b[0m\u001b[0;34m=\u001b[0m\u001b[0mparse_int\u001b[0m\u001b[0;34m,\u001b[0m\u001b[0;34m\u001b[0m\u001b[0m\n",
      "\u001b[0;31mAttributeError\u001b[0m: 'str' object has no attribute 'read'"
     ]
    }
   ],
   "source": [
    "with open(first_file) as infile:\n",
    "    text = infile.read()\n",
    "    text_json = json.load(text)"
   ]
  },
  {
   "cell_type": "code",
   "execution_count": 27,
   "metadata": {
    "collapsed": false
   },
   "outputs": [
    {
     "ename": "AttributeError",
     "evalue": "'str' object has no attribute 'read'",
     "output_type": "error",
     "traceback": [
      "\u001b[0;31m---------------------------------------------------------------------------\u001b[0m",
      "\u001b[0;31mAttributeError\u001b[0m                            Traceback (most recent call last)",
      "\u001b[0;32m<ipython-input-27-d0a522c7a0e2>\u001b[0m in \u001b[0;36m<module>\u001b[0;34m()\u001b[0m\n\u001b[0;32m----> 1\u001b[0;31m \u001b[0mjson\u001b[0m\u001b[0;34m.\u001b[0m\u001b[0mload\u001b[0m\u001b[0;34m(\u001b[0m\u001b[0mfirst_file\u001b[0m\u001b[0;34m)\u001b[0m\u001b[0;34m\u001b[0m\u001b[0m\n\u001b[0m",
      "\u001b[0;32m/Users/Neuromancer/anaconda/envs/positive/lib/python3.4/json/__init__.py\u001b[0m in \u001b[0;36mload\u001b[0;34m(fp, cls, object_hook, parse_float, parse_int, parse_constant, object_pairs_hook, **kw)\u001b[0m\n\u001b[1;32m    263\u001b[0m \u001b[0;34m\u001b[0m\u001b[0m\n\u001b[1;32m    264\u001b[0m     \"\"\"\n\u001b[0;32m--> 265\u001b[0;31m     return loads(fp.read(),\n\u001b[0m\u001b[1;32m    266\u001b[0m         \u001b[0mcls\u001b[0m\u001b[0;34m=\u001b[0m\u001b[0mcls\u001b[0m\u001b[0;34m,\u001b[0m \u001b[0mobject_hook\u001b[0m\u001b[0;34m=\u001b[0m\u001b[0mobject_hook\u001b[0m\u001b[0;34m,\u001b[0m\u001b[0;34m\u001b[0m\u001b[0m\n\u001b[1;32m    267\u001b[0m         \u001b[0mparse_float\u001b[0m\u001b[0;34m=\u001b[0m\u001b[0mparse_float\u001b[0m\u001b[0;34m,\u001b[0m \u001b[0mparse_int\u001b[0m\u001b[0;34m=\u001b[0m\u001b[0mparse_int\u001b[0m\u001b[0;34m,\u001b[0m\u001b[0;34m\u001b[0m\u001b[0m\n",
      "\u001b[0;31mAttributeError\u001b[0m: 'str' object has no attribute 'read'"
     ]
    }
   ],
   "source": [
    "json.load(first_file)"
   ]
  },
  {
   "cell_type": "code",
   "execution_count": 28,
   "metadata": {
    "collapsed": false
   },
   "outputs": [
    {
     "name": "stdout",
     "output_type": "stream",
     "text": [
      "{\"coordinates\": null, \"user\": {\"contributors_enabled\": false, \"url\": null, \"profile_use_background_image\": true, \"follow_request_sent\": null, \"profile_background_image_url\": \"http://pbs.twimg.com/profile_background_images/660843415286902784/BrNuKZmA.jpg\", \"geo_enabled\": true, \"name\": \"\\u306d\\u3053\", \"id\": 275620959, \"default_profile_image\": false, \"following\": null, \"favourites_count\": 7562, \"description\": \"\\u65e5\\u3005\\uff88\\uff80\\u3092\\u63a2\\u3057\\u3066\\u751f\\u304d\\u3066\\u3044\\u308b\\u2026\\u98ef\\u30c6\\u30ed\\u591a\\u3081\\u3002 Not\\u524d\\u885b\\u3001\\u30b5\\u30dd\\u30fc\\u30c8\\u7279\\u5316\\u578b\\u3002\\u30d5\\u30a9\\u30ed\\u30fc\\uff06\\u30d5\\u30a9\\u30ed\\u30d0\\u3057\\u3066\\u306a\\u304f\\u3066\\u3082\\u7a81\\u7136\\u7d61\\u307f\\u884c\\u304f\\u3053\\u3068\\u3092\\u3054\\u4e86\\u627f\\u304f\\u3060\\u3055\\u3044\\u3002\\u3000\\u795e\\u30d0\\u30cf\\u30fb\\u30b0\\u30e9\\u30d6\\u30eb\\u30fbFEZ\\u30fbPSO2\\u30fb\\u30ea\\u30c8\\u30eb\\u30ce\\u30a2\\u30fb\\u8266\\u3053\\u308c\\u3000\\u30a2\\u30cb\\u30e1\\u30b2\\u30fc\\u30e0\\u7f8e\\u5c11\\u5973\\u30b2\\u30fc\\u30e0\\u95a2\\u4fc2\\u5e45\\u5e83\\u304f\", \"statuses_count\": 57145, \"profile_sidebar_border_color\": \"000000\", \"profile_image_url\": \"http://pbs.twimg.com/profile_images/693363545455525888/pGZV4z_I_normal.png\", \"created_at\": \"Fri Apr 01 17:07:53 +0000 2011\", \"time_zone\": \"Tokyo\", \"screen_name\": \"neko1332\", \"profile_background_color\": \"C0DEED\", \"notifications\": null, \"profile_banner_url\": \"https://pbs.twimg.com/profile_banners/275620959/1446392391\", \"protected\": false, \"friends_count\": 446, \"utc_offset\": 32400, \"id_str\": \"275620959\", \"profile_text_color\": \"333333\", \"followers_count\": 269, \"profile_background_image_url_https\": \"https://pbs.twimg.com/profile_background_images/660843415286902784/BrNuKZmA.jpg\", \"default_profile\": false, \"verified\": false, \"lang\": \"ja\", \"is_translator\": false, \"profile_link_color\": \"4A913C\", \"location\": \"B.C.12000\", \"profile_background_tile\": true, \"listed_count\": 8, \"profile_sidebar_fill_color\": \"FFFFFF\", \"profile_image_url_https\": \"https://pbs.twimg.com/profile_images/693363545455525888/pGZV4z_I_normal.png\"}, \"contributors\": null, \"favorite_count\": 0, \"in_reply_to_user_id\": 253888239, \"in_reply_to_status_id_str\": \"726599965779197952\", \"possibly_sensitive\": false, \"timestamp_ms\": \"1462069999663\", \"in_reply_to_status_id\": 726599965779197952, \"favorited\": false, \"retweet_count\": 0, \"created_at\": \"Sun May 01 02:33:19 +0000 2016\", \"geo\": null, \"extended_entities\": {\"media\": [{\"type\": \"photo\", \"expanded_url\": \"http://twitter.com/neko1332/status/726600358324105216/photo/1\", \"url\": \"https://t.co/72G77RVCqV\", \"media_url_https\": \"https://pbs.twimg.com/media/ChVnJvlUoAARIgS.jpg\", \"indices\": [12, 35], \"media_url\": \"http://pbs.twimg.com/media/ChVnJvlUoAARIgS.jpg\", \"display_url\": \"pic.twitter.com/72G77RVCqV\", \"id_str\": \"726600331979694080\", \"id\": 726600331979694080, \"sizes\": {\"thumb\": {\"h\": 150, \"w\": 150, \"resize\": \"crop\"}, \"small\": {\"h\": 510, \"w\": 340, \"resize\": \"fit\"}, \"large\": {\"h\": 1536, \"w\": 1024, \"resize\": \"fit\"}, \"medium\": {\"h\": 900, \"w\": 600, \"resize\": \"fit\"}}}]}, \"in_reply_to_user_id_str\": \"253888239\", \"source\": \"<a href=\\\"http://twitter.com/download/android\\\" rel=\\\"nofollow\\\">Twitter for Android</a>\", \"text\": \"@RayHalberd https://t.co/72G77RVCqV\", \"truncated\": false, \"id_str\": \"726600358324105216\", \"id\": 726600358324105216, \"entities\": {\"user_mentions\": [{\"id_str\": \"253888239\", \"name\": \"\\u30ec\\u30a4\\u8c5a\\u6559\\u6388\", \"id\": 253888239, \"indices\": [0, 11], \"screen_name\": \"RayHalberd\"}], \"media\": [{\"type\": \"photo\", \"expanded_url\": \"http://twitter.com/neko1332/status/726600358324105216/photo/1\", \"url\": \"https://t.co/72G77RVCqV\", \"media_url_https\": \"https://pbs.twimg.com/media/ChVnJvlUoAARIgS.jpg\", \"indices\": [12, 35], \"media_url\": \"http://pbs.twimg.com/media/ChVnJvlUoAARIgS.jpg\", \"display_url\": \"pic.twitter.com/72G77RVCqV\", \"id_str\": \"726600331979694080\", \"id\": 726600331979694080, \"sizes\": {\"thumb\": {\"h\": 150, \"w\": 150, \"resize\": \"crop\"}, \"small\": {\"h\": 510, \"w\": 340, \"resize\": \"fit\"}, \"large\": {\"h\": 1536, \"w\": 1024, \"resize\": \"fit\"}, \"medium\": {\"h\": 900, \"w\": 600, \"resize\": \"fit\"}}}], \"urls\": [], \"symbols\": [], \"hashtags\": []}, \"retweeted\": false, \"filter_level\": \"low\", \"lang\": \"und\", \"is_quote_status\": false, \"place\": null, \"in_reply_to_screen_name\": \"RayHalberd\"}\r\n",
      "{\"coordinates\": null, \"user\": {\"contributors_enabled\": false, \"url\": null, \"profile_use_background_image\": true, \"follow_request_sent\": null, \"profile_background_image_url\": \"http://pbs.twimg.com/profile_background_images/506573220581867521/OqSFHhB0.jpeg\", \"geo_enabled\": false, \"name\": \"Paty\", \"id\": 1959668780, \"default_profile_image\": false, \"following\": null, \"favourites_count\": 432, \"description\": \"La galaxia es la libreta de tu creatividad\", \"statuses_count\": 973, \"profile_sidebar_border_color\": \"FFFFFF\", \"profile_image_url\": \"http://pbs.twimg.com/profile_images/716772414525341700/Vg-VaOkE_normal.jpg\", \"created_at\": \"Mon Oct 14 01:05:11 +0000 2013\", \"time_zone\": \"Central Time (US & Canada)\", \"screen_name\": \"MosquedaSilvan\", \"profile_background_color\": \"642D8B\", \"notifications\": null, \"profile_banner_url\": \"https://pbs.twimg.com/profile_banners/1959668780/1457796594\", \"protected\": false, \"friends_count\": 481, \"utc_offset\": -18000, \"id_str\": \"1959668780\", \"profile_text_color\": \"3D1957\", \"followers_count\": 512, \"profile_background_image_url_https\": \"https://pbs.twimg.com/profile_background_images/506573220581867521/OqSFHhB0.jpeg\", \"default_profile\": false, \"verified\": false, \"lang\": \"es\", \"is_translator\": false, \"profile_link_color\": \"FF0000\", \"location\": \"M\\u00e9xico.\", \"profile_background_tile\": true, \"listed_count\": 1, \"profile_sidebar_fill_color\": \"7AC3EE\", \"profile_image_url_https\": \"https://pbs.twimg.com/profile_images/716772414525341700/Vg-VaOkE_normal.jpg\"}, \"contributors\": null, \"favorite_count\": 0, \"in_reply_to_user_id\": null, \"retweeted_status\": {\"coordinates\": null, \"user\": {\"contributors_enabled\": false, \"url\": null, \"profile_use_background_image\": false, \"follow_request_sent\": null, \"profile_background_image_url\": \"http://pbs.twimg.com/profile_background_images/214342402/untitled.jpg\", \"geo_enabled\": false, \"name\": \"Mujer M\\u00e1gica\", \"id\": 262260565, \"default_profile_image\": false, \"following\": null, \"favourites_count\": 112, \"description\": \"Tu repartidora local de buenas vibras. Soy una gu\\u00eda m\\u00e1gica y m\\u00edstica para que vivas todos los d\\u00edas de tu vida llenos de confeti. #Lomejordemid\\u00eda\", \"statuses_count\": 164, \"profile_sidebar_border_color\": \"C0DEED\", \"profile_image_url\": \"http://pbs.twimg.com/profile_images/714599496827740161/6UAfp0Cn_normal.jpg\", \"created_at\": \"Mon Mar 07 18:09:00 +0000 2011\", \"time_zone\": \"Central Time (US & Canada)\", \"screen_name\": \"sritaconfeti\", \"profile_background_color\": \"C0DEED\", \"notifications\": null, \"profile_banner_url\": \"https://pbs.twimg.com/profile_banners/262260565/1459207913\", \"protected\": false, \"friends_count\": 1030, \"utc_offset\": -18000, \"id_str\": \"262260565\", \"profile_text_color\": \"333333\", \"followers_count\": 7161, \"profile_background_image_url_https\": \"https://pbs.twimg.com/profile_background_images/214342402/untitled.jpg\", \"default_profile\": false, \"verified\": false, \"lang\": \"en\", \"is_translator\": false, \"profile_link_color\": \"0084B4\", \"location\": \"Not all witches live in Salem\", \"profile_background_tile\": true, \"listed_count\": 43, \"profile_sidebar_fill_color\": \"DDEEF6\", \"profile_image_url_https\": \"https://pbs.twimg.com/profile_images/714599496827740161/6UAfp0Cn_normal.jpg\"}, \"contributors\": null, \"favorite_count\": 1, \"in_reply_to_user_id\": null, \"in_reply_to_status_id_str\": null, \"in_reply_to_status_id\": null, \"favorited\": false, \"retweet_count\": 1, \"created_at\": \"Tue Apr 12 13:32:57 +0000 2016\", \"geo\": null, \"in_reply_to_user_id_str\": null, \"source\": \"<a href=\\\"http://twitter.com/download/iphone\\\" rel=\\\"nofollow\\\">Twitter for iPhone</a>\", \"text\": \"Haz lo que es correcto, no lo que es f\\u00e1cil.\", \"truncated\": false, \"id_str\": \"719880992064806912\", \"id\": 719880992064806912, \"entities\": {\"user_mentions\": [], \"urls\": [], \"symbols\": [], \"hashtags\": []}, \"retweeted\": false, \"filter_level\": \"low\", \"lang\": \"es\", \"is_quote_status\": false, \"place\": null, \"in_reply_to_screen_name\": null}, \"in_reply_to_status_id_str\": null, \"timestamp_ms\": \"1462070000661\", \"in_reply_to_status_id\": null, \"favorited\": false, \"retweet_count\": 0, \"created_at\": \"Sun May 01 02:33:20 +0000 2016\", \"geo\": null, \"in_reply_to_user_id_str\": null, \"source\": \"<a href=\\\"http://twitter.com/download/android\\\" rel=\\\"nofollow\\\">Twitter for Android</a>\", \"text\": \"RT @sritaconfeti: Haz lo que es correcto, no lo que es f\\u00e1cil.\", \"truncated\": false, \"id_str\": \"726600362510053376\", \"id\": 726600362510053376, \"entities\": {\"user_mentions\": [{\"id_str\": \"262260565\", \"name\": \"Mujer M\\u00e1gica\", \"id\": 262260565, \"indices\": [3, 16], \"screen_name\": \"sritaconfeti\"}], \"urls\": [], \"symbols\": [], \"hashtags\": []}, \"retweeted\": false, \"filter_level\": \"low\", \"lang\": \"es\", \"is_quote_status\": false, \"place\": null, \"in_reply_to_screen_name\": null}\r\n",
      "{\"coordinates\": null, \"user\": {\"contributors_enabled\": false, \"url\": null, \"profile_use_background_image\": true, \"follow_request_sent\": null, \"profile_background_image_url\": \"http://abs.twimg.com/images/themes/theme1/bg.png\", \"geo_enabled\": false, \"name\": \"Edgar Torres Ayala\", \"id\": 621275398, \"default_profile_image\": false, \"following\": null, \"favourites_count\": 54, \"description\": \"I'd rather be a brainless monkey than a heartless monster\", \"statuses_count\": 292, \"profile_sidebar_border_color\": \"C0DEED\", \"profile_image_url\": \"http://pbs.twimg.com/profile_images/3017970861/917517e2070646805b443d0c87b125be_normal.jpeg\", \"created_at\": \"Thu Jun 28 20:08:05 +0000 2012\", \"time_zone\": null, \"screen_name\": \"Torrez07Ayala\", \"profile_background_color\": \"C0DEED\", \"notifications\": null, \"profile_banner_url\": \"https://pbs.twimg.com/profile_banners/621275398/1381209356\", \"protected\": false, \"friends_count\": 126, \"utc_offset\": null, \"id_str\": \"621275398\", \"profile_text_color\": \"333333\", \"followers_count\": 74, \"profile_background_image_url_https\": \"https://abs.twimg.com/images/themes/theme1/bg.png\", \"default_profile\": true, \"verified\": false, \"lang\": \"en\", \"is_translator\": false, \"profile_link_color\": \"0084B4\", \"location\": null, \"profile_background_tile\": false, \"listed_count\": 0, \"profile_sidebar_fill_color\": \"DDEEF6\", \"profile_image_url_https\": \"https://pbs.twimg.com/profile_images/3017970861/917517e2070646805b443d0c87b125be_normal.jpeg\"}, \"contributors\": null, \"favorite_count\": 0, \"in_reply_to_user_id\": null, \"retweeted_status\": {\"coordinates\": null, \"user\": {\"contributors_enabled\": false, \"url\": null, \"profile_use_background_image\": true, \"follow_request_sent\": null, \"profile_background_image_url\": \"http://pbs.twimg.com/profile_background_images/601011150818381824/FAU3ciD3.jpg\", \"geo_enabled\": false, \"name\": \"\\u27b0\", \"id\": 1164367742, \"default_profile_image\": false, \"following\": null, \"favourites_count\": 1037, \"description\": null, \"statuses_count\": 196, \"profile_sidebar_border_color\": \"000000\", \"profile_image_url\": \"http://pbs.twimg.com/profile_images/725781060001263616/VrX0jHpD_normal.jpg\", \"created_at\": \"Sat Feb 09 23:24:44 +0000 2013\", \"time_zone\": \"Mountain Time (US & Canada)\", \"screen_name\": \"MuIti\", \"profile_background_color\": \"FA743E\", \"notifications\": null, \"profile_banner_url\": \"https://pbs.twimg.com/profile_banners/1164367742/1461874665\", \"protected\": false, \"friends_count\": 3, \"utc_offset\": -21600, \"id_str\": \"1164367742\", \"profile_text_color\": \"000000\", \"followers_count\": 43945, \"profile_background_image_url_https\": \"https://pbs.twimg.com/profile_background_images/601011150818381824/FAU3ciD3.jpg\", \"default_profile\": false, \"verified\": false, \"lang\": \"en\", \"is_translator\": false, \"profile_link_color\": \"1B95E0\", \"location\": null, \"profile_background_tile\": true, \"listed_count\": 27, \"profile_sidebar_fill_color\": \"000000\", \"profile_image_url_https\": \"https://pbs.twimg.com/profile_images/725781060001263616/VrX0jHpD_normal.jpg\"}, \"contributors\": null, \"favorite_count\": 3579, \"in_reply_to_user_id\": null, \"in_reply_to_status_id_str\": null, \"in_reply_to_status_id\": null, \"favorited\": false, \"retweet_count\": 3550, \"created_at\": \"Fri Apr 22 00:00:48 +0000 2016\", \"geo\": null, \"in_reply_to_user_id_str\": null, \"source\": \"<a href=\\\"http://bufferapp.com\\\" rel=\\\"nofollow\\\">Buffer</a>\", \"text\": \"I like clingy. I like double texts, phone calls, good morning &amp; goodnight texts. I like knowing someone cares. I like knowing they try\", \"truncated\": false, \"id_str\": \"723300483239129088\", \"id\": 723300483239129088, \"entities\": {\"user_mentions\": [], \"urls\": [], \"symbols\": [], \"hashtags\": []}, \"retweeted\": false, \"filter_level\": \"low\", \"lang\": \"en\", \"is_quote_status\": false, \"place\": null, \"in_reply_to_screen_name\": null}, \"in_reply_to_status_id_str\": null, \"timestamp_ms\": \"1462070000663\", \"in_reply_to_status_id\": null, \"favorited\": false, \"retweet_count\": 0, \"created_at\": \"Sun May 01 02:33:20 +0000 2016\", \"geo\": null, \"in_reply_to_user_id_str\": null, \"source\": \"<a href=\\\"http://twitter.com/download/android\\\" rel=\\\"nofollow\\\">Twitter for Android</a>\", \"text\": \"RT @MuIti: I like clingy. I like double texts, phone calls, good morning &amp; goodnight texts. I like knowing someone cares. I like knowing th\\u2026\", \"truncated\": false, \"id_str\": \"726600362518421504\", \"id\": 726600362518421504, \"entities\": {\"user_mentions\": [{\"id_str\": \"1164367742\", \"name\": \"\\u27b0\", \"id\": 1164367742, \"indices\": [3, 9], \"screen_name\": \"MuIti\"}], \"urls\": [], \"symbols\": [], \"hashtags\": []}, \"retweeted\": false, \"filter_level\": \"low\", \"lang\": \"en\", \"is_quote_status\": false, \"place\": null, \"in_reply_to_screen_name\": null}\r\n",
      "{\"coordinates\": null, \"user\": {\"contributors_enabled\": false, \"url\": null, \"profile_use_background_image\": false, \"follow_request_sent\": null, \"profile_background_image_url\": \"http://abs.twimg.com/images/themes/theme1/bg.png\", \"geo_enabled\": true, \"name\": \"Akints\\u2728.\", \"id\": 1611988512, \"default_profile_image\": false, \"following\": null, \"favourites_count\": 1686, \"description\": null, \"statuses_count\": 11491, \"profile_sidebar_border_color\": \"000000\", \"profile_image_url\": \"http://pbs.twimg.com/profile_images/713491172061286400/Y5alPpQD_normal.jpg\", \"created_at\": \"Mon Jul 22 04:32:04 +0000 2013\", \"time_zone\": \"Pacific Time (US & Canada)\", \"screen_name\": \"OgCeeee\", \"profile_background_color\": \"000000\", \"notifications\": null, \"profile_banner_url\": \"https://pbs.twimg.com/profile_banners/1611988512/1461797897\", \"protected\": false, \"friends_count\": 833, \"utc_offset\": -25200, \"id_str\": \"1611988512\", \"profile_text_color\": \"000000\", \"followers_count\": 1094, \"profile_background_image_url_https\": \"https://abs.twimg.com/images/themes/theme1/bg.png\", \"default_profile\": false, \"verified\": false, \"lang\": \"en\", \"is_translator\": false, \"profile_link_color\": \"F5ABB5\", \"location\": \"Davion\\u2764\\ufe0f.\", \"profile_background_tile\": false, \"listed_count\": 3, \"profile_sidebar_fill_color\": \"000000\", \"profile_image_url_https\": \"https://pbs.twimg.com/profile_images/713491172061286400/Y5alPpQD_normal.jpg\"}, \"contributors\": null, \"favorite_count\": 0, \"in_reply_to_user_id\": null, \"retweeted_status\": {\"coordinates\": null, \"user\": {\"contributors_enabled\": false, \"url\": null, \"profile_use_background_image\": true, \"follow_request_sent\": null, \"profile_background_image_url\": \"http://pbs.twimg.com/profile_background_images/744012054/261e50297d6bf9088bdbddd56677c771.jpeg\", \"geo_enabled\": true, \"name\": \"Dejannie \\u2764\\ufe0f\", \"id\": 400436399, \"default_profile_image\": false, \"following\": null, \"favourites_count\": 2583, \"description\": \"\\u2022 9teen \\u2022 Hou$ton \\u2022 Ballin \\u2022 Navy Gyal\", \"statuses_count\": 9414, \"profile_sidebar_border_color\": \"FFFFFF\", \"profile_image_url\": \"http://pbs.twimg.com/profile_images/718102124991635456/f8ozMZLO_normal.jpg\", \"created_at\": \"Sat Oct 29 01:30:59 +0000 2011\", \"time_zone\": null, \"screen_name\": \"DejannieD\", \"profile_background_color\": \"642D8B\", \"notifications\": null, \"profile_banner_url\": \"https://pbs.twimg.com/profile_banners/400436399/1462002123\", \"protected\": false, \"friends_count\": 1734, \"utc_offset\": null, \"id_str\": \"400436399\", \"profile_text_color\": \"333333\", \"followers_count\": 1054, \"profile_background_image_url_https\": \"https://pbs.twimg.com/profile_background_images/744012054/261e50297d6bf9088bdbddd56677c771.jpeg\", \"default_profile\": false, \"verified\": false, \"lang\": \"en\", \"is_translator\": false, \"profile_link_color\": \"FF0000\", \"location\": \"The Boogy Down Bronx Made Me.\", \"profile_background_tile\": true, \"listed_count\": 8, \"profile_sidebar_fill_color\": \"DDEEF6\", \"profile_image_url_https\": \"https://pbs.twimg.com/profile_images/718102124991635456/f8ozMZLO_normal.jpg\"}, \"contributors\": null, \"favorite_count\": 31, \"in_reply_to_user_id\": null, \"in_reply_to_status_id_str\": null, \"possibly_sensitive\": false, \"in_reply_to_status_id\": null, \"favorited\": false, \"retweet_count\": 28, \"created_at\": \"Sun May 01 02:21:59 +0000 2016\", \"geo\": null, \"extended_entities\": {\"media\": [{\"type\": \"photo\", \"expanded_url\": \"http://twitter.com/DejannieD/status/726597507036250113/photo/1\", \"url\": \"https://t.co/q9VxypQktV\", \"media_url_https\": \"https://pbs.twimg.com/media/ChVkjr4U8AAuSD1.jpg\", \"indices\": [13, 36], \"media_url\": \"http://pbs.twimg.com/media/ChVkjr4U8AAuSD1.jpg\", \"display_url\": \"pic.twitter.com/q9VxypQktV\", \"id_str\": \"726597479127379968\", \"id\": 726597479127379968, \"sizes\": {\"thumb\": {\"h\": 150, \"w\": 150, \"resize\": \"crop\"}, \"small\": {\"h\": 453, \"w\": 340, \"resize\": \"fit\"}, \"large\": {\"h\": 1024, \"w\": 768, \"resize\": \"fit\"}, \"medium\": {\"h\": 800, \"w\": 600, \"resize\": \"fit\"}}}, {\"type\": \"photo\", \"expanded_url\": \"http://twitter.com/DejannieD/status/726597507036250113/photo/1\", \"url\": \"https://t.co/q9VxypQktV\", \"media_url_https\": \"https://pbs.twimg.com/media/ChVkjt4U4AE3z8j.jpg\", \"indices\": [13, 36], \"media_url\": \"http://pbs.twimg.com/media/ChVkjt4U4AE3z8j.jpg\", \"display_url\": \"pic.twitter.com/q9VxypQktV\", \"id_str\": \"726597479664246785\", \"id\": 726597479664246785, \"sizes\": {\"thumb\": {\"h\": 150, \"w\": 150, \"resize\": \"crop\"}, \"small\": {\"h\": 600, \"w\": 340, \"resize\": \"fit\"}, \"large\": {\"h\": 1024, \"w\": 580, \"resize\": \"fit\"}, \"medium\": {\"h\": 1024, \"w\": 580, \"resize\": \"fit\"}}}, {\"type\": \"photo\", \"expanded_url\": \"http://twitter.com/DejannieD/status/726597507036250113/photo/1\", \"url\": \"https://t.co/q9VxypQktV\", \"media_url_https\": \"https://pbs.twimg.com/media/ChVkju8VEAARC3d.jpg\", \"indices\": [13, 36], \"media_url\": \"http://pbs.twimg.com/media/ChVkju8VEAARC3d.jpg\", \"display_url\": \"pic.twitter.com/q9VxypQktV\", \"id_str\": \"726597479949471744\", \"id\": 726597479949471744, \"sizes\": {\"thumb\": {\"h\": 150, \"w\": 150, \"resize\": \"crop\"}, \"small\": {\"h\": 476, \"w\": 340, \"resize\": \"fit\"}, \"large\": {\"h\": 1024, \"w\": 732, \"resize\": \"fit\"}, \"medium\": {\"h\": 839, \"w\": 600, \"resize\": \"fit\"}}}, {\"type\": \"photo\", \"expanded_url\": \"http://twitter.com/DejannieD/status/726597507036250113/photo/1\", \"url\": \"https://t.co/q9VxypQktV\", \"media_url_https\": \"https://pbs.twimg.com/media/ChVkjyNUUAAQmE6.jpg\", \"indices\": [13, 36], \"media_url\": \"http://pbs.twimg.com/media/ChVkjyNUUAAQmE6.jpg\", \"display_url\": \"pic.twitter.com/q9VxypQktV\", \"id_str\": \"726597480826032128\", \"id\": 726597480826032128, \"sizes\": {\"thumb\": {\"h\": 150, \"w\": 150, \"resize\": \"crop\"}, \"small\": {\"h\": 680, \"w\": 321, \"resize\": \"fit\"}, \"large\": {\"h\": 1024, \"w\": 484, \"resize\": \"fit\"}, \"medium\": {\"h\": 1024, \"w\": 484, \"resize\": \"fit\"}}}]}, \"in_reply_to_user_id_str\": null, \"source\": \"<a href=\\\"http://twitter.com/download/iphone\\\" rel=\\\"nofollow\\\">Twitter for iPhone</a>\", \"text\": \"Prom 2k16 \\ud83d\\ude0b\\ud83d\\ude0d https://t.co/q9VxypQktV\", \"truncated\": false, \"id_str\": \"726597507036250113\", \"id\": 726597507036250113, \"entities\": {\"user_mentions\": [], \"media\": [{\"type\": \"photo\", \"expanded_url\": \"http://twitter.com/DejannieD/status/726597507036250113/photo/1\", \"url\": \"https://t.co/q9VxypQktV\", \"media_url_https\": \"https://pbs.twimg.com/media/ChVkjr4U8AAuSD1.jpg\", \"indices\": [13, 36], \"media_url\": \"http://pbs.twimg.com/media/ChVkjr4U8AAuSD1.jpg\", \"display_url\": \"pic.twitter.com/q9VxypQktV\", \"id_str\": \"726597479127379968\", \"id\": 726597479127379968, \"sizes\": {\"thumb\": {\"h\": 150, \"w\": 150, \"resize\": \"crop\"}, \"small\": {\"h\": 453, \"w\": 340, \"resize\": \"fit\"}, \"large\": {\"h\": 1024, \"w\": 768, \"resize\": \"fit\"}, \"medium\": {\"h\": 800, \"w\": 600, \"resize\": \"fit\"}}}], \"urls\": [], \"symbols\": [], \"hashtags\": []}, \"retweeted\": false, \"filter_level\": \"low\", \"lang\": \"pt\", \"is_quote_status\": false, \"place\": null, \"in_reply_to_screen_name\": null}, \"in_reply_to_status_id_str\": null, \"possibly_sensitive\": false, \"timestamp_ms\": \"1462070000661\", \"in_reply_to_status_id\": null, \"favorited\": false, \"retweet_count\": 0, \"created_at\": \"Sun May 01 02:33:20 +0000 2016\", \"geo\": null, \"extended_entities\": {\"media\": [{\"url\": \"https://t.co/q9VxypQktV\", \"source_user_id\": 400436399, \"source_status_id_str\": \"726597507036250113\", \"media_url_https\": \"https://pbs.twimg.com/media/ChVkjr4U8AAuSD1.jpg\", \"media_url\": \"http://pbs.twimg.com/media/ChVkjr4U8AAuSD1.jpg\", \"id_str\": \"726597479127379968\", \"id\": 726597479127379968, \"source_user_id_str\": \"400436399\", \"type\": \"photo\", \"indices\": [28, 51], \"expanded_url\": \"http://twitter.com/DejannieD/status/726597507036250113/photo/1\", \"display_url\": \"pic.twitter.com/q9VxypQktV\", \"source_status_id\": 726597507036250113, \"sizes\": {\"thumb\": {\"h\": 150, \"w\": 150, \"resize\": \"crop\"}, \"small\": {\"h\": 453, \"w\": 340, \"resize\": \"fit\"}, \"large\": {\"h\": 1024, \"w\": 768, \"resize\": \"fit\"}, \"medium\": {\"h\": 800, \"w\": 600, \"resize\": \"fit\"}}}, {\"url\": \"https://t.co/q9VxypQktV\", \"source_user_id\": 400436399, \"source_status_id_str\": \"726597507036250113\", \"media_url_https\": \"https://pbs.twimg.com/media/ChVkjt4U4AE3z8j.jpg\", \"media_url\": \"http://pbs.twimg.com/media/ChVkjt4U4AE3z8j.jpg\", \"id_str\": \"726597479664246785\", \"id\": 726597479664246785, \"source_user_id_str\": \"400436399\", \"type\": \"photo\", \"indices\": [28, 51], \"expanded_url\": \"http://twitter.com/DejannieD/status/726597507036250113/photo/1\", \"display_url\": \"pic.twitter.com/q9VxypQktV\", \"source_status_id\": 726597507036250113, \"sizes\": {\"thumb\": {\"h\": 150, \"w\": 150, \"resize\": \"crop\"}, \"small\": {\"h\": 600, \"w\": 340, \"resize\": \"fit\"}, \"large\": {\"h\": 1024, \"w\": 580, \"resize\": \"fit\"}, \"medium\": {\"h\": 1024, \"w\": 580, \"resize\": \"fit\"}}}, {\"url\": \"https://t.co/q9VxypQktV\", \"source_user_id\": 400436399, \"source_status_id_str\": \"726597507036250113\", \"media_url_https\": \"https://pbs.twimg.com/media/ChVkju8VEAARC3d.jpg\", \"media_url\": \"http://pbs.twimg.com/media/ChVkju8VEAARC3d.jpg\", \"id_str\": \"726597479949471744\", \"id\": 726597479949471744, \"source_user_id_str\": \"400436399\", \"type\": \"photo\", \"indices\": [28, 51], \"expanded_url\": \"http://twitter.com/DejannieD/status/726597507036250113/photo/1\", \"display_url\": \"pic.twitter.com/q9VxypQktV\", \"source_status_id\": 726597507036250113, \"sizes\": {\"thumb\": {\"h\": 150, \"w\": 150, \"resize\": \"crop\"}, \"small\": {\"h\": 476, \"w\": 340, \"resize\": \"fit\"}, \"large\": {\"h\": 1024, \"w\": 732, \"resize\": \"fit\"}, \"medium\": {\"h\": 839, \"w\": 600, \"resize\": \"fit\"}}}, {\"url\": \"https://t.co/q9VxypQktV\", \"source_user_id\": 400436399, \"source_status_id_str\": \"726597507036250113\", \"media_url_https\": \"https://pbs.twimg.com/media/ChVkjyNUUAAQmE6.jpg\", \"media_url\": \"http://pbs.twimg.com/media/ChVkjyNUUAAQmE6.jpg\", \"id_str\": \"726597480826032128\", \"id\": 726597480826032128, \"source_user_id_str\": \"400436399\", \"type\": \"photo\", \"indices\": [28, 51], \"expanded_url\": \"http://twitter.com/DejannieD/status/726597507036250113/photo/1\", \"display_url\": \"pic.twitter.com/q9VxypQktV\", \"source_status_id\": 726597507036250113, \"sizes\": {\"thumb\": {\"h\": 150, \"w\": 150, \"resize\": \"crop\"}, \"small\": {\"h\": 680, \"w\": 321, \"resize\": \"fit\"}, \"large\": {\"h\": 1024, \"w\": 484, \"resize\": \"fit\"}, \"medium\": {\"h\": 1024, \"w\": 484, \"resize\": \"fit\"}}}]}, \"in_reply_to_user_id_str\": null, \"source\": \"<a href=\\\"http://twitter.com/download/iphone\\\" rel=\\\"nofollow\\\">Twitter for iPhone</a>\", \"text\": \"RT @DejannieD: Prom 2k16 \\ud83d\\ude0b\\ud83d\\ude0d https://t.co/q9VxypQktV\", \"truncated\": false, \"id_str\": \"726600362510061568\", \"id\": 726600362510061568, \"entities\": {\"user_mentions\": [{\"id_str\": \"400436399\", \"name\": \"Dejannie \\u2764\\ufe0f\", \"id\": 400436399, \"indices\": [3, 13], \"screen_name\": \"DejannieD\"}], \"media\": [{\"url\": \"https://t.co/q9VxypQktV\", \"source_user_id\": 400436399, \"source_status_id_str\": \"726597507036250113\", \"media_url_https\": \"https://pbs.twimg.com/media/ChVkjr4U8AAuSD1.jpg\", \"media_url\": \"http://pbs.twimg.com/media/ChVkjr4U8AAuSD1.jpg\", \"id_str\": \"726597479127379968\", \"id\": 726597479127379968, \"source_user_id_str\": \"400436399\", \"type\": \"photo\", \"indices\": [28, 51], \"expanded_url\": \"http://twitter.com/DejannieD/status/726597507036250113/photo/1\", \"display_url\": \"pic.twitter.com/q9VxypQktV\", \"source_status_id\": 726597507036250113, \"sizes\": {\"thumb\": {\"h\": 150, \"w\": 150, \"resize\": \"crop\"}, \"small\": {\"h\": 453, \"w\": 340, \"resize\": \"fit\"}, \"large\": {\"h\": 1024, \"w\": 768, \"resize\": \"fit\"}, \"medium\": {\"h\": 800, \"w\": 600, \"resize\": \"fit\"}}}], \"urls\": [], \"symbols\": [], \"hashtags\": []}, \"retweeted\": false, \"filter_level\": \"low\", \"lang\": \"pt\", \"is_quote_status\": false, \"place\": null, \"in_reply_to_screen_name\": null}\r\n",
      "{\"coordinates\": null, \"user\": {\"contributors_enabled\": false, \"url\": null, \"profile_use_background_image\": false, \"follow_request_sent\": null, \"profile_background_image_url\": \"http://abs.twimg.com/images/themes/theme1/bg.png\", \"geo_enabled\": false, \"name\": \"\\u307a\\u308a@\\u4ea4\\u63db\\u57a2\", \"id\": 709778311946211328, \"default_profile_image\": false, \"following\": null, \"favourites_count\": 1, \"description\": \"\\u904a\\u622f\\u738b\\u30b7\\u30ea\\u30fc\\u30ba\\u30b0\\u30c3\\u30ba\\u4ea4\\u63db\\u57a2\\u3067\\u3059\\u3002\\u95c7\\u904a\\u622f\\u3001\\u6d77\\u99ac\\u702c\\u4eba\\u306e\\u30b0\\u30c3\\u30ba\\u3092\\u4e2d\\u5fc3\\u306b\\u96c6\\u3081\\u3066\\u3044\\u307e\\u3059\\u3002\\u5f53\\u65b9\\u6210\\u4eba\\u6e08\\u3002\\u6c60\\u888b\\u4ed6\\u90fd\\u5185\\u624b\\u6e21\\u3057\\u4e2d\\u5fc3\\u3067\\u3059\\u304c\\u3001\\u90f5\\u9001\\u3082\\u5e0c\\u671b\\u304c\\u3042\\u308c\\u3070\\u3054\\u76f8\\u8ac7\\u3055\\u305b\\u3066\\u9802\\u304d\\u307e\\u3059\\u3002\\u57fa\\u672c\\u30ea\\u30d7\\u3082\\u3057\\u304f\\u306fDM\\u306b\\u3066\\u304a\\u53d6\\u5f15\\u306e\\u3054\\u9023\\u7d61\\u3092\\u3055\\u305b\\u3066\\u9802\\u304d\\u307e\\u3059\\u3002\\u3088\\u308d\\u3057\\u304f\\u304a\\u9858\\u3044\\u3057\\u307e\\u3059\\u3002 \\u672c\\u57a2\\u2192@maso_17\", \"statuses_count\": 47, \"profile_sidebar_border_color\": \"000000\", \"profile_image_url\": \"http://pbs.twimg.com/profile_images/709783029321834497/jENjSkde_normal.jpg\", \"created_at\": \"Tue Mar 15 16:28:31 +0000 2016\", \"time_zone\": null, \"screen_name\": \"pero_0308\", \"profile_background_color\": \"000000\", \"notifications\": null, \"profile_banner_url\": \"https://pbs.twimg.com/profile_banners/709778311946211328/1458060437\", \"protected\": false, \"friends_count\": 5, \"utc_offset\": null, \"id_str\": \"709778311946211328\", \"profile_text_color\": \"000000\", \"followers_count\": 4, \"profile_background_image_url_https\": \"https://abs.twimg.com/images/themes/theme1/bg.png\", \"default_profile\": false, \"verified\": false, \"lang\": \"ja\", \"is_translator\": false, \"profile_link_color\": \"E81C4F\", \"location\": null, \"profile_background_tile\": false, \"listed_count\": 0, \"profile_sidebar_fill_color\": \"000000\", \"profile_image_url_https\": \"https://pbs.twimg.com/profile_images/709783029321834497/jENjSkde_normal.jpg\"}, \"contributors\": null, \"favorite_count\": 0, \"in_reply_to_user_id\": 2386647324, \"in_reply_to_status_id_str\": null, \"timestamp_ms\": \"1462070000657\", \"in_reply_to_status_id\": null, \"favorited\": false, \"retweet_count\": 0, \"created_at\": \"Sun May 01 02:33:20 +0000 2016\", \"geo\": null, \"in_reply_to_user_id_str\": \"2386647324\", \"source\": \"<a href=\\\"http://twitter.com/download/iphone\\\" rel=\\\"nofollow\\\">Twitter for iPhone</a>\", \"text\": \"@32ef436495684ce \\u691c\\u7d22\\u3088\\u308a\\u3042\\u308a\\u304c\\u3068\\u3046\\u3054\\u3056\\u3044\\u307e\\u3059(^-^)\\n\\u304a\\u8fd4\\u4e8b\\u304c\\u9045\\u304f\\u306a\\u308a\\u7533\\u3057\\u8a33\\u3042\\u308a\\u307e\\u305b\\u3093\\u3002\\u57ce\\u4e4b\\u5185\\u307e\\u3060\\u5927\\u4e08\\u592b\\u3067\\u3059\\u3001\\u8868\\u904a\\u622f\\u3068\\u306e\\u4ea4\\u63db\\u3092\\u304a\\u9858\\u3044\\u3057\\u3066\\u3082\\u3088\\u308d\\u3057\\u3044\\u3067\\u3057\\u3087\\u3046\\u304b\\uff1f\\n\\u73fe\\u5728\\u51fa\\u53e3\\u4ed8\\u8fd1\\u306b\\u3044\\u307e\\u3059\\u3001\\u30d5\\u30a9\\u30ed\\u30fc\\u3055\\u305b\\u3066\\u9802\\u304d\\u307e\\u3059\\u306d\", \"truncated\": false, \"id_str\": \"726600362493235201\", \"id\": 726600362493235201, \"entities\": {\"user_mentions\": [{\"id_str\": \"2386647324\", \"name\": \"\\u306e\\u306e\", \"id\": 2386647324, \"indices\": [0, 16], \"screen_name\": \"32ef436495684ce\"}], \"urls\": [], \"symbols\": [], \"hashtags\": []}, \"retweeted\": false, \"filter_level\": \"low\", \"lang\": \"ja\", \"is_quote_status\": false, \"place\": null, \"in_reply_to_screen_name\": \"32ef436495684ce\"}\r\n",
      "{\"coordinates\": null, \"user\": {\"contributors_enabled\": false, \"url\": null, \"profile_use_background_image\": true, \"follow_request_sent\": null, \"profile_background_image_url\": \"http://abs.twimg.com/images/themes/theme1/bg.png\", \"geo_enabled\": true, \"name\": \"\\u274c\\u3075\\u3046\\u304b\\u274c\", \"id\": 3626691493, \"default_profile_image\": false, \"following\": null, \"favourites_count\": 8520, \"description\": \"\\u6c23\\u5fd7\\u5718\\u3068\\u304a\\u7b11\\u3044\\u3068\\u95a2\\u30b8\\u30e3\\u30cb\\u221e\\u3068\\u90a6\\u30ed\\u30c3\\u30af\\u3002\\u5973\\u5b50\\u306b\\u57cb\\u3082\\u308c\\u3066\\u7d75\\u306e\\u52c9\\u5f37\\u4e2d\\u3002\\u30b2\\u30fc\\u30de\\u30fc\\u30ba\\u30cf\\u30a4\\u306a\\u65e5\\u3005\\u3002\\u30b2\\u30fc\\u30e0\\u5b9f\\u6cc1\\u597d\\u304d\\u3059\\u3050\\u308b\\u3002(\\u30b2\\u30fc\\u30e0\\u4ee5\\u5916\\u306f\\u3081\\u3055(\\u60aa\\u9b54)\\uff7b\\uff9d/\\u95a2\\u897f\\u306e\\u3053\\u30fc\\u3053\\u30fc\\u305b\\u30fc/\\u30be\\u30f3\\u30d3\\u98fc\\u3044\\u305f\\u3044/\\u305f\\u307e\\u306b\\u843d\\u63cf\\u304d\\u6295\\u4e0b\", \"statuses_count\": 17696, \"profile_sidebar_border_color\": \"C0DEED\", \"profile_image_url\": \"http://pbs.twimg.com/profile_images/710459879131992064/pbbDXK23_normal.jpg\", \"created_at\": \"Sun Sep 20 12:09:44 +0000 2015\", \"time_zone\": null, \"screen_name\": \"ramma_fuu_shota\", \"profile_background_color\": \"C0DEED\", \"notifications\": null, \"profile_banner_url\": \"https://pbs.twimg.com/profile_banners/3626691493/1457589931\", \"protected\": false, \"friends_count\": 229, \"utc_offset\": null, \"id_str\": \"3626691493\", \"profile_text_color\": \"333333\", \"followers_count\": 169, \"profile_background_image_url_https\": \"https://abs.twimg.com/images/themes/theme1/bg.png\", \"default_profile\": true, \"verified\": false, \"lang\": \"ja\", \"is_translator\": false, \"profile_link_color\": \"0084B4\", \"location\": \"\\u305d\\u306e\\u4ed6\\u8af8\\u3005\\u3002\\u591a\\u8da3\\u5473\\u306b\\u3088\\u308a\\u5e38\\u306b\\u91d1\\u6b20\\u3002  /\\u6a59\\u7d44/\\u5b89\\u7530\\u62c5/4\\u7537\", \"profile_background_tile\": false, \"listed_count\": 3, \"profile_sidebar_fill_color\": \"DDEEF6\", \"profile_image_url_https\": \"https://pbs.twimg.com/profile_images/710459879131992064/pbbDXK23_normal.jpg\"}, \"contributors\": null, \"favorite_count\": 0, \"in_reply_to_user_id\": null, \"in_reply_to_status_id_str\": null, \"timestamp_ms\": \"1462070000663\", \"in_reply_to_status_id\": null, \"favorited\": false, \"retweet_count\": 0, \"created_at\": \"Sun May 01 02:33:20 +0000 2016\", \"geo\": null, \"in_reply_to_user_id_str\": null, \"source\": \"<a href=\\\"http://twitter.com/download/android\\\" rel=\\\"nofollow\\\">Twitter for Android</a>\", \"text\": \"\\u30de\\u30c3\\u30b7\\u30e5\\u304c\\u4f1a\\u5fc3\\u306e\\u4e00\\u6483\\u3046\\u305f\\u3063\\u3066\\u308b\\u3088\", \"truncated\": false, \"id_str\": \"726600362518433792\", \"id\": 726600362518433792, \"entities\": {\"user_mentions\": [], \"urls\": [], \"symbols\": [], \"hashtags\": []}, \"retweeted\": false, \"filter_level\": \"low\", \"lang\": \"ja\", \"is_quote_status\": false, \"place\": null, \"in_reply_to_screen_name\": null}\r\n",
      "{\"coordinates\": null, \"user\": {\"contributors_enabled\": false, \"url\": null, \"profile_use_background_image\": true, \"follow_request_sent\": null, \"profile_background_image_url\": \"\", \"geo_enabled\": false, \"name\": \"\\u5c0f\\u7027\\u671b\", \"id\": 4920142764, \"default_profile_image\": false, \"following\": null, \"favourites_count\": 76, \"description\": \"\\u9858\\u3046\\u3060\\u3051\\u306e \\u305d\\u306e\\u5922\\u3088\\u308a\\u3082 \\u679c\\u3066\\u3057\\u306a\\u3044\\u3082\\u306e\\u8ffd\\u3044\\u304b\\u3051                    \\uff0d\\uff0d\\u2026 \\uff9f+     \\u307c\\u304f\\u3092\\u4fe1\\u3058\\u3066    +\\uff9f\\u2026\\uff0d\\uff0d\", \"statuses_count\": 1797, \"profile_sidebar_border_color\": \"C0DEED\", \"profile_image_url\": \"http://pbs.twimg.com/profile_images/720623781836771328/PMRvk6YA_normal.jpg\", \"created_at\": \"Wed Feb 17 09:10:24 +0000 2016\", \"time_zone\": null, \"screen_name\": \"nonnon_jwest\", \"profile_background_color\": \"F5F8FA\", \"notifications\": null, \"profile_banner_url\": \"https://pbs.twimg.com/profile_banners/4920142764/1458395564\", \"protected\": false, \"friends_count\": 44, \"utc_offset\": null, \"id_str\": \"4920142764\", \"profile_text_color\": \"333333\", \"followers_count\": 44, \"profile_background_image_url_https\": \"\", \"default_profile\": true, \"verified\": false, \"lang\": \"ja\", \"is_translator\": false, \"profile_link_color\": \"2B7BB9\", \"location\": \"\\u5927\\u4e8b\\u306a\\u4eba\\u306e\\u5fc3\\u306e\\u4e2d\", \"profile_background_tile\": false, \"listed_count\": 4, \"profile_sidebar_fill_color\": \"DDEEF6\", \"profile_image_url_https\": \"https://pbs.twimg.com/profile_images/720623781836771328/PMRvk6YA_normal.jpg\"}, \"contributors\": null, \"favorite_count\": 0, \"in_reply_to_user_id\": 726206563703132161, \"in_reply_to_status_id_str\": \"726599818630438912\", \"timestamp_ms\": \"1462070000663\", \"in_reply_to_status_id\": 726599818630438912, \"favorited\": false, \"retweet_count\": 0, \"created_at\": \"Sun May 01 02:33:20 +0000 2016\", \"geo\": null, \"in_reply_to_user_id_str\": \"726206563703132161\", \"source\": \"<a href=\\\"http://twitter.com/download/android\\\" rel=\\\"nofollow\\\">Twitter for Android</a>\", \"text\": \"@n_nanase94_0525 \\n\\u3061\\u3083\\u3046\\u3061\\u3083\\u3046 \\u7b11\\n\\u306a\\u306a\\u305b\\u307e\\u308b\\u3063\\u3066\\u547c\\u3070\\u308c\\u3066\\u308b\\u3084\\u308d\\uff1f\\n\\u305d\\u3063\\u304b\\u3089\\u3068\\u3063\\u3066\\u3001\\u307e\\u308b\\uff01\\u7b11\\n\\u4ffa\\u306f\\u56fa\\u5b9a\\u3068\\u304b\\u306a\\u3044\\u304b\\u3089\\u597d\\u304d\\u306b\\u547c\\u3093\\u3067\\u3048\\u3048\\u3088\\uff5e\", \"truncated\": false, \"id_str\": \"726600362518437888\", \"id\": 726600362518437888, \"entities\": {\"user_mentions\": [{\"id_str\": \"726206563703132161\", \"name\": \"\\u897f\\u91ce \\u4e03\\u702c\", \"id\": 726206563703132161, \"indices\": [0, 16], \"screen_name\": \"n_nanase94_0525\"}], \"urls\": [], \"symbols\": [], \"hashtags\": []}, \"retweeted\": false, \"filter_level\": \"low\", \"lang\": \"ja\", \"is_quote_status\": false, \"place\": null, \"in_reply_to_screen_name\": \"n_nanase94_0525\"}\r\n",
      "{\"coordinates\": null, \"user\": {\"contributors_enabled\": false, \"url\": null, \"profile_use_background_image\": true, \"follow_request_sent\": null, \"profile_background_image_url\": \"\", \"geo_enabled\": false, \"name\": \"\\u3075\\u3089  \\u2764\\ufe0e\", \"id\": 4788921104, \"default_profile_image\": false, \"following\": null, \"favourites_count\": 131, \"description\": \"\\u5de6 \\u624b \\u306e \\u85ac \\u6307 \\u306f \\u4e88 \\u7d04 \\u6e08 \\u307f (\\u00b4\\u3063\\u2022\\u0325o\\u2022\\u0325\\uff43`)\\u2661\\u2661\", \"statuses_count\": 400, \"profile_sidebar_border_color\": \"C0DEED\", \"profile_image_url\": \"http://pbs.twimg.com/profile_images/719160376688910336/dLLTY75k_normal.jpg\", \"created_at\": \"Wed Jan 20 13:47:46 +0000 2016\", \"time_zone\": null, \"screen_name\": \"__1984O911S\", \"profile_background_color\": \"F5F8FA\", \"notifications\": null, \"profile_banner_url\": \"https://pbs.twimg.com/profile_banners/4788921104/1462024583\", \"protected\": false, \"friends_count\": 65, \"utc_offset\": null, \"id_str\": \"4788921104\", \"profile_text_color\": \"333333\", \"followers_count\": 72, \"profile_background_image_url_https\": \"\", \"default_profile\": true, \"verified\": false, \"lang\": \"ja\", \"is_translator\": false, \"profile_link_color\": \"2B7BB9\", \"location\": \"   \\u263e\\u304a \\u96a3 \\u306f \\u611b \\u65b9 \\u3061 \\u3047 \\u308b \\u305f \\u3093\\u263d\", \"profile_background_tile\": false, \"listed_count\": 1, \"profile_sidebar_fill_color\": \"DDEEF6\", \"profile_image_url_https\": \"https://pbs.twimg.com/profile_images/719160376688910336/dLLTY75k_normal.jpg\"}, \"contributors\": null, \"favorite_count\": 0, \"in_reply_to_user_id\": null, \"retweeted_status\": {\"coordinates\": null, \"user\": {\"contributors_enabled\": false, \"url\": null, \"profile_use_background_image\": true, \"follow_request_sent\": null, \"profile_background_image_url\": \"http://abs.twimg.com/images/themes/theme1/bg.png\", \"geo_enabled\": false, \"name\": \"\\u00ff\", \"id\": 2308238010, \"default_profile_image\": false, \"following\": null, \"favourites_count\": 973, \"description\": \"\\u2729\\u2871\\u5b89\\u7530\\u7ae0\\u5927\\uff5c\\u3084\\u3059\\u3070\\u2729\\u2871\\uff5c\\u5927\\u4ebaeighter\", \"statuses_count\": 2136, \"profile_sidebar_border_color\": \"C0DEED\", \"profile_image_url\": \"http://pbs.twimg.com/profile_images/723903049777844224/vzBAKYZ-_normal.jpg\", \"created_at\": \"Fri Jan 24 11:56:25 +0000 2014\", \"time_zone\": null, \"screen_name\": \"yu_mugendai\", \"profile_background_color\": \"C0DEED\", \"notifications\": null, \"profile_banner_url\": \"https://pbs.twimg.com/profile_banners/2308238010/1461936304\", \"protected\": false, \"friends_count\": 311, \"utc_offset\": null, \"id_str\": \"2308238010\", \"profile_text_color\": \"333333\", \"followers_count\": 2888, \"profile_background_image_url_https\": \"https://abs.twimg.com/images/themes/theme1/bg.png\", \"default_profile\": true, \"verified\": false, \"lang\": \"ja\", \"is_translator\": false, \"profile_link_color\": \"0084B4\", \"location\": \"\\u95a2\\u6771\\u3002\\u30a8\\u30a4\\u30c8\\u3068\\u4e00\\u7dd2\\u306b\\u98f2\\u3080\\u306e\\u304c\\u5922\", \"profile_background_tile\": false, \"listed_count\": 16, \"profile_sidebar_fill_color\": \"DDEEF6\", \"profile_image_url_https\": \"https://pbs.twimg.com/profile_images/723903049777844224/vzBAKYZ-_normal.jpg\"}, \"contributors\": null, \"favorite_count\": 313, \"in_reply_to_user_id\": null, \"in_reply_to_status_id_str\": null, \"possibly_sensitive\": false, \"in_reply_to_status_id\": null, \"favorited\": false, \"retweet_count\": 118, \"created_at\": \"Sat Apr 30 05:27:45 +0000 2016\", \"geo\": null, \"extended_entities\": {\"media\": [{\"type\": \"video\", \"expanded_url\": \"http://twitter.com/yu_mugendai/status/726281866760720384/video/1\", \"url\": \"https://t.co/BjuywDQKSO\", \"media_url_https\": \"https://pbs.twimg.com/ext_tw_video_thumb/726281836393992192/pu/img/ex7XpahEmkTw5DNZ.jpg\", \"indices\": [21, 44], \"video_info\": {\"aspect_ratio\": [16, 9], \"duration_millis\": 2502, \"variants\": [{\"url\": \"https://video.twimg.com/ext_tw_video/726281836393992192/pu/vid/1280x720/hAxmzLZLi4-igZZ5.mp4\", \"bitrate\": 2176000, \"content_type\": \"video/mp4\"}, {\"url\": \"https://video.twimg.com/ext_tw_video/726281836393992192/pu/pl/u-deWg-IqVC-aKuK.m3u8\", \"content_type\": \"application/x-mpegURL\"}, {\"url\": \"https://video.twimg.com/ext_tw_video/726281836393992192/pu/vid/320x180/n4_BoAZFWixGmqBi.mp4\", \"bitrate\": 320000, \"content_type\": \"video/mp4\"}, {\"url\": \"https://video.twimg.com/ext_tw_video/726281836393992192/pu/pl/u-deWg-IqVC-aKuK.mpd\", \"content_type\": \"application/dash+xml\"}, {\"url\": \"https://video.twimg.com/ext_tw_video/726281836393992192/pu/vid/640x360/NJ1qKhaJGZ-kZaD5.mp4\", \"bitrate\": 832000, \"content_type\": \"video/mp4\"}]}, \"media_url\": \"http://pbs.twimg.com/ext_tw_video_thumb/726281836393992192/pu/img/ex7XpahEmkTw5DNZ.jpg\", \"display_url\": \"pic.twitter.com/BjuywDQKSO\", \"id_str\": \"726281836393992192\", \"id\": 726281836393992192, \"sizes\": {\"thumb\": {\"h\": 150, \"w\": 150, \"resize\": \"crop\"}, \"small\": {\"h\": 191, \"w\": 340, \"resize\": \"fit\"}, \"large\": {\"h\": 576, \"w\": 1024, \"resize\": \"fit\"}, \"medium\": {\"h\": 338, \"w\": 600, \"resize\": \"fit\"}}}]}, \"in_reply_to_user_id_str\": null, \"source\": \"<a href=\\\"http://twitter.com/download/iphone\\\" rel=\\\"nofollow\\\">Twitter for iPhone</a>\", \"text\": \"\\u3010\\u30af\\u30ed\\u30cb\\u30af\\u30eb\\u3011\\n\\n\\u820c\\u30da\\u30ed\\u304b\\u3089\\u306e\\u30a4\\u30b1\\u30e1\\u30f3\\u984f https://t.co/BjuywDQKSO\", \"truncated\": false, \"id_str\": \"726281866760720384\", \"id\": 726281866760720384, \"entities\": {\"user_mentions\": [], \"media\": [{\"type\": \"photo\", \"expanded_url\": \"http://twitter.com/yu_mugendai/status/726281866760720384/video/1\", \"url\": \"https://t.co/BjuywDQKSO\", \"media_url_https\": \"https://pbs.twimg.com/ext_tw_video_thumb/726281836393992192/pu/img/ex7XpahEmkTw5DNZ.jpg\", \"indices\": [21, 44], \"media_url\": \"http://pbs.twimg.com/ext_tw_video_thumb/726281836393992192/pu/img/ex7XpahEmkTw5DNZ.jpg\", \"display_url\": \"pic.twitter.com/BjuywDQKSO\", \"id_str\": \"726281836393992192\", \"id\": 726281836393992192, \"sizes\": {\"thumb\": {\"h\": 150, \"w\": 150, \"resize\": \"crop\"}, \"small\": {\"h\": 191, \"w\": 340, \"resize\": \"fit\"}, \"large\": {\"h\": 576, \"w\": 1024, \"resize\": \"fit\"}, \"medium\": {\"h\": 338, \"w\": 600, \"resize\": \"fit\"}}}], \"urls\": [], \"symbols\": [], \"hashtags\": []}, \"retweeted\": false, \"filter_level\": \"low\", \"lang\": \"ja\", \"is_quote_status\": false, \"place\": null, \"in_reply_to_screen_name\": null}, \"in_reply_to_status_id_str\": null, \"possibly_sensitive\": false, \"timestamp_ms\": \"1462070000666\", \"in_reply_to_status_id\": null, \"favorited\": false, \"retweet_count\": 0, \"created_at\": \"Sun May 01 02:33:20 +0000 2016\", \"geo\": null, \"extended_entities\": {\"media\": [{\"url\": \"https://t.co/BjuywDQKSO\", \"source_user_id\": 2308238010, \"source_status_id_str\": \"726281866760720384\", \"media_url_https\": \"https://pbs.twimg.com/ext_tw_video_thumb/726281836393992192/pu/img/ex7XpahEmkTw5DNZ.jpg\", \"video_info\": {\"aspect_ratio\": [16, 9], \"duration_millis\": 2502, \"variants\": [{\"url\": \"https://video.twimg.com/ext_tw_video/726281836393992192/pu/vid/1280x720/hAxmzLZLi4-igZZ5.mp4\", \"bitrate\": 2176000, \"content_type\": \"video/mp4\"}, {\"url\": \"https://video.twimg.com/ext_tw_video/726281836393992192/pu/pl/u-deWg-IqVC-aKuK.m3u8\", \"content_type\": \"application/x-mpegURL\"}, {\"url\": \"https://video.twimg.com/ext_tw_video/726281836393992192/pu/vid/320x180/n4_BoAZFWixGmqBi.mp4\", \"bitrate\": 320000, \"content_type\": \"video/mp4\"}, {\"url\": \"https://video.twimg.com/ext_tw_video/726281836393992192/pu/pl/u-deWg-IqVC-aKuK.mpd\", \"content_type\": \"application/dash+xml\"}, {\"url\": \"https://video.twimg.com/ext_tw_video/726281836393992192/pu/vid/640x360/NJ1qKhaJGZ-kZaD5.mp4\", \"bitrate\": 832000, \"content_type\": \"video/mp4\"}]}, \"media_url\": \"http://pbs.twimg.com/ext_tw_video_thumb/726281836393992192/pu/img/ex7XpahEmkTw5DNZ.jpg\", \"id_str\": \"726281836393992192\", \"id\": 726281836393992192, \"source_user_id_str\": \"2308238010\", \"type\": \"video\", \"indices\": [38, 61], \"expanded_url\": \"http://twitter.com/yu_mugendai/status/726281866760720384/video/1\", \"display_url\": \"pic.twitter.com/BjuywDQKSO\", \"source_status_id\": 726281866760720384, \"sizes\": {\"thumb\": {\"h\": 150, \"w\": 150, \"resize\": \"crop\"}, \"small\": {\"h\": 191, \"w\": 340, \"resize\": \"fit\"}, \"large\": {\"h\": 576, \"w\": 1024, \"resize\": \"fit\"}, \"medium\": {\"h\": 338, \"w\": 600, \"resize\": \"fit\"}}}]}, \"in_reply_to_user_id_str\": null, \"source\": \"<a href=\\\"http://twitter.com/download/iphone\\\" rel=\\\"nofollow\\\">Twitter for iPhone</a>\", \"text\": \"RT @yu_mugendai: \\u3010\\u30af\\u30ed\\u30cb\\u30af\\u30eb\\u3011\\n\\n\\u820c\\u30da\\u30ed\\u304b\\u3089\\u306e\\u30a4\\u30b1\\u30e1\\u30f3\\u984f https://t.co/BjuywDQKSO\", \"truncated\": false, \"id_str\": \"726600362530988033\", \"id\": 726600362530988033, \"entities\": {\"user_mentions\": [{\"id_str\": \"2308238010\", \"name\": \"\\u00ff\", \"id\": 2308238010, \"indices\": [3, 15], \"screen_name\": \"yu_mugendai\"}], \"media\": [{\"url\": \"https://t.co/BjuywDQKSO\", \"source_user_id\": 2308238010, \"source_status_id_str\": \"726281866760720384\", \"media_url_https\": \"https://pbs.twimg.com/ext_tw_video_thumb/726281836393992192/pu/img/ex7XpahEmkTw5DNZ.jpg\", \"media_url\": \"http://pbs.twimg.com/ext_tw_video_thumb/726281836393992192/pu/img/ex7XpahEmkTw5DNZ.jpg\", \"id_str\": \"726281836393992192\", \"id\": 726281836393992192, \"source_user_id_str\": \"2308238010\", \"type\": \"photo\", \"indices\": [38, 61], \"expanded_url\": \"http://twitter.com/yu_mugendai/status/726281866760720384/video/1\", \"display_url\": \"pic.twitter.com/BjuywDQKSO\", \"source_status_id\": 726281866760720384, \"sizes\": {\"thumb\": {\"h\": 150, \"w\": 150, \"resize\": \"crop\"}, \"small\": {\"h\": 191, \"w\": 340, \"resize\": \"fit\"}, \"large\": {\"h\": 576, \"w\": 1024, \"resize\": \"fit\"}, \"medium\": {\"h\": 338, \"w\": 600, \"resize\": \"fit\"}}}], \"urls\": [], \"symbols\": [], \"hashtags\": []}, \"retweeted\": false, \"filter_level\": \"low\", \"lang\": \"ja\", \"is_quote_status\": false, \"place\": null, \"in_reply_to_screen_name\": null}\r\n",
      "{\"coordinates\": null, \"user\": {\"contributors_enabled\": false, \"url\": null, \"profile_use_background_image\": false, \"follow_request_sent\": null, \"profile_background_image_url\": \"http://pbs.twimg.com/profile_background_images/661391316983619584/RRmW-BwP.jpg\", \"geo_enabled\": true, \"name\": \"Jakeline\", \"id\": 592332981, \"default_profile_image\": false, \"following\": null, \"favourites_count\": 6513, \"description\": \"Comigo \\u00e9 na base do amor!\", \"statuses_count\": 61899, \"profile_sidebar_border_color\": \"FFFFFF\", \"profile_image_url\": \"http://pbs.twimg.com/profile_images/726431614515970048/ui23-Yp2_normal.jpg\", \"created_at\": \"Mon May 28 00:10:40 +0000 2012\", \"time_zone\": \"Brasilia\", \"screen_name\": \"Eijak_\", \"profile_background_color\": \"FFFFFF\", \"notifications\": null, \"profile_banner_url\": \"https://pbs.twimg.com/profile_banners/592332981/1461991087\", \"protected\": false, \"friends_count\": 2094, \"utc_offset\": -10800, \"id_str\": \"592332981\", \"profile_text_color\": \"362720\", \"followers_count\": 2053, \"profile_background_image_url_https\": \"https://pbs.twimg.com/profile_background_images/661391316983619584/RRmW-BwP.jpg\", \"default_profile\": false, \"verified\": false, \"lang\": \"pt\", \"is_translator\": false, \"profile_link_color\": \"F5ABB5\", \"location\": \"01.06.15 \\u2764\\ufe0f\", \"profile_background_tile\": true, \"listed_count\": 4, \"profile_sidebar_fill_color\": \"E5507E\", \"profile_image_url_https\": \"https://pbs.twimg.com/profile_images/726431614515970048/ui23-Yp2_normal.jpg\"}, \"contributors\": null, \"favorite_count\": 0, \"in_reply_to_user_id\": null, \"in_reply_to_status_id_str\": null, \"timestamp_ms\": \"1462070000660\", \"in_reply_to_status_id\": null, \"favorited\": false, \"retweet_count\": 0, \"created_at\": \"Sun May 01 02:33:20 +0000 2016\", \"geo\": null, \"in_reply_to_user_id_str\": null, \"source\": \"<a href=\\\"http://twitter.com/download/iphone\\\" rel=\\\"nofollow\\\">Twitter for iPhone</a>\", \"text\": \"23:32\", \"truncated\": false, \"id_str\": \"726600362505953280\", \"id\": 726600362505953280, \"entities\": {\"user_mentions\": [], \"urls\": [], \"symbols\": [], \"hashtags\": []}, \"retweeted\": false, \"filter_level\": \"low\", \"lang\": \"und\", \"is_quote_status\": false, \"place\": {\"place_type\": \"city\", \"url\": \"https://api.twitter.com/1.1/geo/id/68e019afec7d0ba5.json\", \"full_name\": \"S\\u00e3o Paulo, Brasil\", \"attributes\": {}, \"bounding_box\": {\"type\": \"Polygon\", \"coordinates\": [[[-46.826039, -24.008814], [-46.826039, -23.356792], [-46.365052, -23.356792], [-46.365052, -24.008814]]]}, \"name\": \"S\\u00e3o Paulo\", \"id\": \"68e019afec7d0ba5\", \"country_code\": \"BR\", \"country\": \"Brasil\"}, \"in_reply_to_screen_name\": null}\r\n",
      "{\"coordinates\": null, \"user\": {\"contributors_enabled\": false, \"url\": null, \"profile_use_background_image\": true, \"follow_request_sent\": null, \"profile_background_image_url\": \"http://abs.twimg.com/images/themes/theme1/bg.png\", \"geo_enabled\": false, \"name\": \"\\u7d76\\u5bfe\\u306b\\u5b55\\u3093\\u3067\\u306f\\u3044\\u3051\\u306a\\u3044\\u7cbe\\u795e\\u75c5\\u68df\\u6df1\\u591c2\\u6642\", \"id\": 581750869, \"default_profile_image\": false, \"following\": null, \"favourites_count\": 125448, \"description\": \"\\u304a\\u533b\\u8005\\u3055\\u3093\\u306f\\u30e2\\u30d6\\u304a\\u3058\\u3055\\u3093\", \"statuses_count\": 146809, \"profile_sidebar_border_color\": \"C0DEED\", \"profile_image_url\": \"http://pbs.twimg.com/profile_images/695965097190002688/fah86FPc_normal.jpg\", \"created_at\": \"Wed May 16 11:18:57 +0000 2012\", \"time_zone\": \"Tokyo\", \"screen_name\": \"owlet_a\", \"profile_background_color\": \"C0DEED\", \"notifications\": null, \"profile_banner_url\": \"https://pbs.twimg.com/profile_banners/581750869/1399183947\", \"protected\": false, \"friends_count\": 402, \"utc_offset\": 32400, \"id_str\": \"581750869\", \"profile_text_color\": \"333333\", \"followers_count\": 456, \"profile_background_image_url_https\": \"https://abs.twimg.com/images/themes/theme1/bg.png\", \"default_profile\": true, \"verified\": false, \"lang\": \"ja\", \"is_translator\": false, \"profile_link_color\": \"0084B4\", \"location\": \"\\u30aa\\u30fc\\u30af\\u306e\\u30a2\\u30cc\\u30b9\", \"profile_background_tile\": false, \"listed_count\": 10, \"profile_sidebar_fill_color\": \"DDEEF6\", \"profile_image_url_https\": \"https://pbs.twimg.com/profile_images/695965097190002688/fah86FPc_normal.jpg\"}, \"contributors\": null, \"favorite_count\": 0, \"in_reply_to_user_id\": null, \"in_reply_to_status_id_str\": null, \"timestamp_ms\": \"1462070000659\", \"in_reply_to_status_id\": null, \"favorited\": false, \"retweet_count\": 0, \"created_at\": \"Sun May 01 02:33:20 +0000 2016\", \"geo\": null, \"in_reply_to_user_id_str\": null, \"source\": \"<a href=\\\"http://twitter.com/download/iphone\\\" rel=\\\"nofollow\\\">Twitter for iPhone</a>\", \"text\": \"\\u80a1\\u9593\\u306b\\u3057\\u304b\\u76ee\\u304c\\u884c\\u304b\\u306d\\u3048\\u3088\", \"truncated\": false, \"id_str\": \"726600362501660673\", \"id\": 726600362501660673, \"entities\": {\"user_mentions\": [], \"urls\": [], \"symbols\": [], \"hashtags\": []}, \"retweeted\": false, \"filter_level\": \"low\", \"lang\": \"ja\", \"is_quote_status\": false, \"place\": null, \"in_reply_to_screen_name\": null}\r\n",
      "{\"coordinates\": null, \"user\": {\"contributors_enabled\": false, \"url\": \"http://www.denenge.net\", \"profile_use_background_image\": true, \"follow_request_sent\": null, \"profile_background_image_url\": \"http://pbs.twimg.com/profile_background_images/474243474787561473/3zjHiuJA.jpeg\", \"geo_enabled\": false, \"name\": \"Denenge, UME\", \"id\": 2230289270, \"default_profile_image\": false, \"following\": null, \"favourites_count\": 33795, \"description\": \"Artist. Designer. Writer. Singer. Prof. FOCUS: Renegades+Badasses. Fashion+Costume. Inspire+Heal. SculptingSpace+Afro.Futurism. DenengeDesign. UberMotherEmpress\", \"statuses_count\": 18869, \"profile_sidebar_border_color\": \"FFFFFF\", \"profile_image_url\": \"http://pbs.twimg.com/profile_images/726439234714759169/Y8xBF-CS_normal.jpg\", \"created_at\": \"Wed Dec 04 17:56:35 +0000 2013\", \"time_zone\": \"Central Time (US & Canada)\", \"screen_name\": \"DenengeTheFirst\", \"profile_background_color\": \"EB7526\", \"notifications\": null, \"profile_banner_url\": \"https://pbs.twimg.com/profile_banners/2230289270/1462031951\", \"protected\": false, \"friends_count\": 629, \"utc_offset\": -18000, \"id_str\": \"2230289270\", \"profile_text_color\": \"333333\", \"followers_count\": 701, \"profile_background_image_url_https\": \"https://pbs.twimg.com/profile_background_images/474243474787561473/3zjHiuJA.jpeg\", \"default_profile\": false, \"verified\": false, \"lang\": \"en\", \"is_translator\": false, \"profile_link_color\": \"038543\", \"location\": \"theAfroFuturist.tumblr.com\", \"profile_background_tile\": true, \"listed_count\": 91, \"profile_sidebar_fill_color\": \"DDEEF6\", \"profile_image_url_https\": \"https://pbs.twimg.com/profile_images/726439234714759169/Y8xBF-CS_normal.jpg\"}, \"contributors\": null, \"favorite_count\": 0, \"in_reply_to_user_id\": null, \"retweeted_status\": {\"coordinates\": null, \"user\": {\"contributors_enabled\": false, \"url\": \"http://theintercept.com\", \"profile_use_background_image\": true, \"follow_request_sent\": null, \"profile_background_image_url\": \"http://pbs.twimg.com/profile_background_images/662713561/sxpij193ikh3rgn456pz.jpeg\", \"geo_enabled\": false, \"name\": \"jeremy scahill\", \"id\": 23839835, \"default_profile_image\": false, \"following\": null, \"favourites_count\": 173, \"description\": \"independent journalist, co founder of @theintercept PGP key/contact: https://firstlook.org/theintercept/staff/jeremy-scahill/\", \"statuses_count\": 20413, \"profile_sidebar_border_color\": \"FFFFFF\", \"profile_image_url\": \"http://pbs.twimg.com/profile_images/568816509741301760/sR2mQ2nb_normal.jpeg\", \"created_at\": \"Wed Mar 11 22:05:02 +0000 2009\", \"time_zone\": \"Eastern Time (US & Canada)\", \"screen_name\": \"jeremyscahill\", \"profile_background_color\": \"1A1B1F\", \"notifications\": null, \"profile_banner_url\": \"https://pbs.twimg.com/profile_banners/23839835/1407211848\", \"protected\": false, \"friends_count\": 3337, \"utc_offset\": -14400, \"id_str\": \"23839835\", \"profile_text_color\": \"666666\", \"followers_count\": 218197, \"profile_background_image_url_https\": \"https://pbs.twimg.com/profile_background_images/662713561/sxpij193ikh3rgn456pz.jpeg\", \"default_profile\": false, \"verified\": true, \"lang\": \"en\", \"is_translator\": false, \"profile_link_color\": \"2FC2EF\", \"location\": null, \"profile_background_tile\": true, \"listed_count\": 7482, \"profile_sidebar_fill_color\": \"252429\", \"profile_image_url_https\": \"https://pbs.twimg.com/profile_images/568816509741301760/sR2mQ2nb_normal.jpeg\"}, \"contributors\": null, \"favorite_count\": 469, \"in_reply_to_user_id\": null, \"in_reply_to_status_id_str\": null, \"possibly_sensitive\": false, \"in_reply_to_status_id\": null, \"favorited\": false, \"retweet_count\": 396, \"created_at\": \"Sat Apr 30 21:24:55 +0000 2016\", \"geo\": null, \"extended_entities\": {\"media\": [{\"type\": \"photo\", \"expanded_url\": \"http://twitter.com/jeremyscahill/status/726522747459915776/photo/1\", \"url\": \"https://t.co/u7W1NeVlfK\", \"media_url_https\": \"https://pbs.twimg.com/media/ChUglpaWgAAZ9WW.jpg\", \"indices\": [113, 136], \"media_url\": \"http://pbs.twimg.com/media/ChUglpaWgAAZ9WW.jpg\", \"display_url\": \"pic.twitter.com/u7W1NeVlfK\", \"id_str\": \"726522746033831936\", \"id\": 726522746033831936, \"sizes\": {\"thumb\": {\"h\": 150, \"w\": 150, \"resize\": \"crop\"}, \"small\": {\"h\": 516, \"w\": 340, \"resize\": \"fit\"}, \"large\": {\"h\": 1553, \"w\": 1024, \"resize\": \"fit\"}, \"medium\": {\"h\": 910, \"w\": 600, \"resize\": \"fit\"}}}]}, \"in_reply_to_user_id_str\": null, \"source\": \"<a href=\\\"http://twitter.com\\\" rel=\\\"nofollow\\\">Twitter Web Client</a>\", \"text\": \"The great rebel, Father Daniel Berrigan, has passed away at 94. This world was made better because he walked it. https://t.co/u7W1NeVlfK\", \"truncated\": false, \"id_str\": \"726522747459915776\", \"id\": 726522747459915776, \"entities\": {\"user_mentions\": [], \"media\": [{\"type\": \"photo\", \"expanded_url\": \"http://twitter.com/jeremyscahill/status/726522747459915776/photo/1\", \"url\": \"https://t.co/u7W1NeVlfK\", \"media_url_https\": \"https://pbs.twimg.com/media/ChUglpaWgAAZ9WW.jpg\", \"indices\": [113, 136], \"media_url\": \"http://pbs.twimg.com/media/ChUglpaWgAAZ9WW.jpg\", \"display_url\": \"pic.twitter.com/u7W1NeVlfK\", \"id_str\": \"726522746033831936\", \"id\": 726522746033831936, \"sizes\": {\"thumb\": {\"h\": 150, \"w\": 150, \"resize\": \"crop\"}, \"small\": {\"h\": 516, \"w\": 340, \"resize\": \"fit\"}, \"large\": {\"h\": 1553, \"w\": 1024, \"resize\": \"fit\"}, \"medium\": {\"h\": 910, \"w\": 600, \"resize\": \"fit\"}}}], \"urls\": [], \"symbols\": [], \"hashtags\": []}, \"retweeted\": false, \"filter_level\": \"low\", \"lang\": \"en\", \"is_quote_status\": false, \"place\": null, \"in_reply_to_screen_name\": null}, \"in_reply_to_status_id_str\": null, \"possibly_sensitive\": false, \"timestamp_ms\": \"1462070000661\", \"in_reply_to_status_id\": null, \"favorited\": false, \"retweet_count\": 0, \"created_at\": \"Sun May 01 02:33:20 +0000 2016\", \"geo\": null, \"extended_entities\": {\"media\": [{\"url\": \"https://t.co/u7W1NeVlfK\", \"source_user_id\": 23839835, \"source_status_id_str\": \"726522747459915776\", \"media_url_https\": \"https://pbs.twimg.com/media/ChUglpaWgAAZ9WW.jpg\", \"media_url\": \"http://pbs.twimg.com/media/ChUglpaWgAAZ9WW.jpg\", \"id_str\": \"726522746033831936\", \"id\": 726522746033831936, \"source_user_id_str\": \"23839835\", \"type\": \"photo\", \"indices\": [139, 140], \"expanded_url\": \"http://twitter.com/jeremyscahill/status/726522747459915776/photo/1\", \"display_url\": \"pic.twitter.com/u7W1NeVlfK\", \"source_status_id\": 726522747459915776, \"sizes\": {\"thumb\": {\"h\": 150, \"w\": 150, \"resize\": \"crop\"}, \"small\": {\"h\": 516, \"w\": 340, \"resize\": \"fit\"}, \"large\": {\"h\": 1553, \"w\": 1024, \"resize\": \"fit\"}, \"medium\": {\"h\": 910, \"w\": 600, \"resize\": \"fit\"}}}]}, \"in_reply_to_user_id_str\": null, \"source\": \"<a href=\\\"http://twitter.com\\\" rel=\\\"nofollow\\\">Twitter Web Client</a>\", \"text\": \"RT @jeremyscahill: The great rebel, Father Daniel Berrigan, has passed away at 94. This world was made better because he walked it. https:/\\u2026\", \"truncated\": false, \"id_str\": \"726600362510155776\", \"id\": 726600362510155776, \"entities\": {\"user_mentions\": [{\"id_str\": \"23839835\", \"name\": \"jeremy scahill\", \"id\": 23839835, \"indices\": [3, 17], \"screen_name\": \"jeremyscahill\"}], \"media\": [{\"url\": \"https://t.co/u7W1NeVlfK\", \"source_user_id\": 23839835, \"source_status_id_str\": \"726522747459915776\", \"media_url_https\": \"https://pbs.twimg.com/media/ChUglpaWgAAZ9WW.jpg\", \"media_url\": \"http://pbs.twimg.com/media/ChUglpaWgAAZ9WW.jpg\", \"id_str\": \"726522746033831936\", \"id\": 726522746033831936, \"source_user_id_str\": \"23839835\", \"type\": \"photo\", \"indices\": [139, 140], \"expanded_url\": \"http://twitter.com/jeremyscahill/status/726522747459915776/photo/1\", \"display_url\": \"pic.twitter.com/u7W1NeVlfK\", \"source_status_id\": 726522747459915776, \"sizes\": {\"thumb\": {\"h\": 150, \"w\": 150, \"resize\": \"crop\"}, \"small\": {\"h\": 516, \"w\": 340, \"resize\": \"fit\"}, \"large\": {\"h\": 1553, \"w\": 1024, \"resize\": \"fit\"}, \"medium\": {\"h\": 910, \"w\": 600, \"resize\": \"fit\"}}}], \"urls\": [], \"symbols\": [], \"hashtags\": []}, \"retweeted\": false, \"filter_level\": \"low\", \"lang\": \"en\", \"is_quote_status\": false, \"place\": null, \"in_reply_to_screen_name\": null}\r\n",
      "{\"coordinates\": null, \"user\": {\"contributors_enabled\": false, \"url\": null, \"profile_use_background_image\": true, \"follow_request_sent\": null, \"profile_background_image_url\": \"\", \"geo_enabled\": true, \"name\": \"Strwbry\\u2764\\ufe0f\", \"id\": 713618671868850177, \"default_profile_image\": false, \"following\": null, \"favourites_count\": 463, \"description\": \"13 || 04-23-16 || Di diay ko gwapa\", \"statuses_count\": 3458, \"profile_sidebar_border_color\": \"C0DEED\", \"profile_image_url\": \"http://pbs.twimg.com/profile_images/726326195667640320/l-bB_rWn_normal.jpg\", \"created_at\": \"Sat Mar 26 06:48:44 +0000 2016\", \"time_zone\": null, \"screen_name\": \"berhaiza08\", \"profile_background_color\": \"F5F8FA\", \"notifications\": null, \"profile_banner_url\": \"https://pbs.twimg.com/profile_banners/713618671868850177/1462004461\", \"protected\": false, \"friends_count\": 150, \"utc_offset\": null, \"id_str\": \"713618671868850177\", \"profile_text_color\": \"333333\", \"followers_count\": 157, \"profile_background_image_url_https\": \"\", \"default_profile\": true, \"verified\": false, \"lang\": \"en\", \"is_translator\": false, \"profile_link_color\": \"2B7BB9\", \"location\": \"BXU\", \"profile_background_tile\": false, \"listed_count\": 1, \"profile_sidebar_fill_color\": \"DDEEF6\", \"profile_image_url_https\": \"https://pbs.twimg.com/profile_images/726326195667640320/l-bB_rWn_normal.jpg\"}, \"contributors\": null, \"favorite_count\": 0, \"in_reply_to_user_id\": null, \"in_reply_to_status_id_str\": null, \"timestamp_ms\": \"1462070000661\", \"in_reply_to_status_id\": null, \"favorited\": false, \"retweet_count\": 0, \"created_at\": \"Sun May 01 02:33:20 +0000 2016\", \"geo\": null, \"in_reply_to_user_id_str\": null, \"source\": \"<a href=\\\"http://twitter.com/download/android\\\" rel=\\\"nofollow\\\">Twitter for Android</a>\", \"text\": \"HAHAAHAHHA\", \"truncated\": false, \"id_str\": \"726600362510012418\", \"id\": 726600362510012418, \"entities\": {\"user_mentions\": [], \"urls\": [], \"symbols\": [], \"hashtags\": []}, \"retweeted\": false, \"filter_level\": \"low\", \"lang\": \"it\", \"is_quote_status\": false, \"place\": null, \"in_reply_to_screen_name\": null}\r\n",
      "{\"coordinates\": null, \"user\": {\"contributors_enabled\": false, \"url\": null, \"profile_use_background_image\": true, \"follow_request_sent\": null, \"profile_background_image_url\": \"http://abs.twimg.com/images/themes/theme1/bg.png\", \"geo_enabled\": true, \"name\": \"Flaqa\\u2661\", \"id\": 3438137171, \"default_profile_image\": false, \"following\": null, \"favourites_count\": 1066, \"description\": \"No cambi\\u00e9, dej\\u00e9 de ser idiota. \\r\\nNo dej\\u00e9 de creer, empec\\u00e9 a desconfiar. \\r\\nNo dej\\u00e9 de sentir, par\\u00e9 de demostrar;)\\r\\n#Seguime & Te Sigo\\u2606\", \"statuses_count\": 1153, \"profile_sidebar_border_color\": \"C0DEED\", \"profile_image_url\": \"http://pbs.twimg.com/profile_images/720117608280956929/f0nu-Vwv_normal.jpg\", \"created_at\": \"Mon Aug 24 16:13:04 +0000 2015\", \"time_zone\": null, \"screen_name\": \"FlorFer17838623\", \"profile_background_color\": \"C0DEED\", \"notifications\": null, \"profile_banner_url\": \"https://pbs.twimg.com/profile_banners/3438137171/1461464947\", \"protected\": false, \"friends_count\": 693, \"utc_offset\": null, \"id_str\": \"3438137171\", \"profile_text_color\": \"333333\", \"followers_count\": 497, \"profile_background_image_url_https\": \"https://abs.twimg.com/images/themes/theme1/bg.png\", \"default_profile\": true, \"verified\": false, \"lang\": \"es\", \"is_translator\": false, \"profile_link_color\": \"0084B4\", \"location\": \"Villa valeria, Cordoba\", \"profile_background_tile\": false, \"listed_count\": 0, \"profile_sidebar_fill_color\": \"DDEEF6\", \"profile_image_url_https\": \"https://pbs.twimg.com/profile_images/720117608280956929/f0nu-Vwv_normal.jpg\"}, \"contributors\": null, \"favorite_count\": 0, \"in_reply_to_user_id\": null, \"in_reply_to_status_id_str\": null, \"timestamp_ms\": \"1462070000666\", \"in_reply_to_status_id\": null, \"favorited\": false, \"retweet_count\": 0, \"created_at\": \"Sun May 01 02:33:20 +0000 2016\", \"geo\": null, \"in_reply_to_user_id_str\": null, \"source\": \"<a href=\\\"http://twitter.com/download/android\\\" rel=\\\"nofollow\\\">Twitter for Android</a>\", \"text\": \"Ojala\\ud83d\\ude47 que mi pap\\u00e1 me de plata para salir\\ud83d\\udc83\\ud83d\\udc6f\", \"truncated\": false, \"id_str\": \"726600362531147779\", \"id\": 726600362531147779, \"entities\": {\"user_mentions\": [], \"urls\": [], \"symbols\": [], \"hashtags\": []}, \"retweeted\": false, \"filter_level\": \"low\", \"lang\": \"es\", \"is_quote_status\": false, \"place\": null, \"in_reply_to_screen_name\": null}\r\n",
      "{\"coordinates\": null, \"user\": {\"contributors_enabled\": false, \"url\": null, \"profile_use_background_image\": true, \"follow_request_sent\": null, \"profile_background_image_url\": \"http://abs.twimg.com/images/themes/theme1/bg.png\", \"geo_enabled\": true, \"name\": \"\\u029aaz\\u00fcmi\\u025e\", \"id\": 3255860017, \"default_profile_image\": false, \"following\": null, \"favourites_count\": 815, \"description\": \"BIGBANG\\u2661\\ub300\\uc131\\u2661 \\u30c6\\u30bd\\u30f3\\u304f\\u3093\\u306b\\u4f1a\\u3046\\u305f\\u3081\\u306b\\u751f\\u304d\\u3066\\u307e\\u3059*\\u0b18(\\u0a6d*\\u02ca\\u1d55\\u02cb)\\u0a6d* \\u0a48\\u2729\\u2027\\u208a\\u02da\\u30da\\u30f3\\u30df\\u53c2\\u6226\\u21924/27\\u798f\\u5ca1\\u30015/3.4.5.14\\u5e55\\u5f35 .... 10th anniv.live7/30.31\\u4e21\\u65e5\\u53c2\\u6226\\u2661*\\u3002\", \"statuses_count\": 1331, \"profile_sidebar_border_color\": \"C0DEED\", \"profile_image_url\": \"http://pbs.twimg.com/profile_images/722751591766306816/ZZsRyNI0_normal.jpg\", \"created_at\": \"Thu Jun 25 16:25:33 +0000 2015\", \"time_zone\": null, \"screen_name\": \"BB_azumi\", \"profile_background_color\": \"C0DEED\", \"notifications\": null, \"profile_banner_url\": \"https://pbs.twimg.com/profile_banners/3255860017/1461238276\", \"protected\": false, \"friends_count\": 171, \"utc_offset\": null, \"id_str\": \"3255860017\", \"profile_text_color\": \"333333\", \"followers_count\": 68, \"profile_background_image_url_https\": \"https://abs.twimg.com/images/themes/theme1/bg.png\", \"default_profile\": true, \"verified\": false, \"lang\": \"ja\", \"is_translator\": false, \"profile_link_color\": \"0084B4\", \"location\": \"chiba japan\", \"profile_background_tile\": false, \"listed_count\": 0, \"profile_sidebar_fill_color\": \"DDEEF6\", \"profile_image_url_https\": \"https://pbs.twimg.com/profile_images/722751591766306816/ZZsRyNI0_normal.jpg\"}, \"contributors\": null, \"favorite_count\": 0, \"in_reply_to_user_id\": null, \"in_reply_to_status_id_str\": null, \"timestamp_ms\": \"1462070000658\", \"in_reply_to_status_id\": null, \"favorited\": false, \"retweet_count\": 0, \"created_at\": \"Sun May 01 02:33:20 +0000 2016\", \"geo\": null, \"in_reply_to_user_id_str\": null, \"source\": \"<a href=\\\"http://twitter.com/download/iphone\\\" rel=\\\"nofollow\\\">Twitter for iPhone</a>\", \"text\": \"\\u3068\\u306b\\u304b\\u304f\\u30bd\\u30a6\\u30eb\\u30b3\\u30f3\\u304c\\u6700\\u9ad8\\u3059\\u304e\\u3066\\u3001\\u4f59\\u97fb\\u306b\\u6d78\\u3063\\u3066\\u305f\\u3068\\u3044\\u3046\\u304b\\u5f15\\u304d\\u305a\\u3063\\u3066\\u305f\\u3068\\u3044\\u3046\\u304bw\\n\\n\\u3067\\u3082\\u3088\\u304f\\u8003\\u3048\\u305f\\u3089MADE\\u306f5/1\\u304b\\u3089\\u59cb\\u307e\\u3063\\u305f\\u3093\\u3060\\u306d\\u263a\\ufe0f\\ud83d\\udc51\\n\\n#MADE1stAnniversary\", \"truncated\": false, \"id_str\": \"726600362497462273\", \"id\": 726600362497462273, \"entities\": {\"user_mentions\": [], \"urls\": [], \"symbols\": [], \"hashtags\": [{\"text\": \"MADE1stAnniversary\", \"indices\": [70, 89]}]}, \"retweeted\": false, \"filter_level\": \"low\", \"lang\": \"ja\", \"is_quote_status\": false, \"place\": null, \"in_reply_to_screen_name\": null}\r\n",
      "{\"coordinates\": null, \"user\": {\"contributors_enabled\": false, \"url\": \"http://sayat.me/MSH1417\", \"profile_use_background_image\": true, \"follow_request_sent\": null, \"profile_background_image_url\": \"http://pbs.twimg.com/profile_background_images/378800000089360689/af1db1b996a87ea7628badcda5851a1f.jpeg\", \"geo_enabled\": true, \"name\": \"\\u0639\\u0627\\u0644\\u0646\\u0647\\u0627\\u0626\\u064a #\\u0627\\u0644\\u0646\\u0635\\u0631\", \"id\": 1299809352, \"default_profile_image\": false, \"following\": null, \"favourites_count\": 96, \"description\": \"\\u0647\\u0646\\u0627\\u0643 \\u0645\\u0646\\u0627\\u0637\\u0642 \\u0645\\u0636\\u0637\\u0631\\u0628\\u0647 \\u0641\\u064a \\u0639\\u0642\\u0644\\u064a .. \\u062a\\u0631\\u0641\\u0639 \\u0644\\u0627\\u0641\\u062a\\u0627\\u062a \\u0639\\u062f\\u0627\\u0626\\u064a\\u0647 \\u0648\\u062a\\u0637\\u0627\\u0644\\u0628 \\u0628\\u0640 \\u0627\\u0644\\u0625\\u0633\\u062a\\u0642\\u0644\\u0627\\u0644 ..\\u0627\\u0644\\u0646\\u0635\\u0631 \\u0639\\u0634\\u0642 \\u0627\\u0644\\u0637\\u0641\\u0648\\u0644\\u0640\\u0629 .. @Dana_Milan1\", \"statuses_count\": 195189, \"profile_sidebar_border_color\": \"FFFFFF\", \"profile_image_url\": \"http://pbs.twimg.com/profile_images/726518703291011074/Jijhx-n2_normal.jpg\", \"created_at\": \"Mon Mar 25 14:59:34 +0000 2013\", \"time_zone\": \"Hawaii\", \"screen_name\": \"MashLuo\", \"profile_background_color\": \"F9FF4F\", \"notifications\": null, \"profile_banner_url\": \"https://pbs.twimg.com/profile_banners/1299809352/1461965921\", \"protected\": false, \"friends_count\": 362, \"utc_offset\": -36000, \"id_str\": \"1299809352\", \"profile_text_color\": \"333333\", \"followers_count\": 6115, \"profile_background_image_url_https\": \"https://pbs.twimg.com/profile_background_images/378800000089360689/af1db1b996a87ea7628badcda5851a1f.jpeg\", \"default_profile\": false, \"verified\": false, \"lang\": \"ar\", \"is_translator\": false, \"profile_link_color\": \"0044CC\", \"location\": \"Deutschland\", \"profile_background_tile\": true, \"listed_count\": 33, \"profile_sidebar_fill_color\": \"F6FFD1\", \"profile_image_url_https\": \"https://pbs.twimg.com/profile_images/726518703291011074/Jijhx-n2_normal.jpg\"}, \"contributors\": null, \"favorite_count\": 0, \"in_reply_to_user_id\": 1377296840, \"in_reply_to_status_id_str\": \"726600082020286464\", \"timestamp_ms\": \"1462070000662\", \"in_reply_to_status_id\": 726600082020286464, \"favorited\": false, \"retweet_count\": 0, \"created_at\": \"Sun May 01 02:33:20 +0000 2016\", \"geo\": null, \"in_reply_to_user_id_str\": \"1377296840\", \"source\": \"<a href=\\\"http://twitter.com/download/iphone\\\" rel=\\\"nofollow\\\">Twitter for iPhone</a>\", \"text\": \"@hfc__sa \\n\\u0639 \\u0645\\u062f\\u0631\\u0633\\u062a\\u0643\", \"truncated\": false, \"id_str\": \"726600362514354177\", \"id\": 726600362514354177, \"entities\": {\"user_mentions\": [{\"id_str\": \"1377296840\", \"name\": \"\\u0633\\u064e.\", \"id\": 1377296840, \"indices\": [0, 8], \"screen_name\": \"hfc__sa\"}], \"urls\": [], \"symbols\": [], \"hashtags\": []}, \"retweeted\": false, \"filter_level\": \"low\", \"lang\": \"ar\", \"is_quote_status\": false, \"place\": null, \"in_reply_to_screen_name\": \"hfc__sa\"}\r\n",
      "{\"coordinates\": null, \"user\": {\"contributors_enabled\": false, \"url\": \"http://www.givefack.com\", \"profile_use_background_image\": true, \"follow_request_sent\": null, \"profile_background_image_url\": \"http://pbs.twimg.com/profile_background_images/432072168524877825/2dvl66cO.jpeg\", \"geo_enabled\": true, \"name\": \"GDMF Thugstvble\", \"id\": 1516214672, \"default_profile_image\": false, \"following\": null, \"favourites_count\": 6273, \"description\": \"EDM producer..includes Trap Dubstep it's all Electronic Dance Music...mmmk? also jvckvss and irreverent af\", \"statuses_count\": 15796, \"profile_sidebar_border_color\": \"000000\", \"profile_image_url\": \"http://pbs.twimg.com/profile_images/726292174921326593/2-2IwA93_normal.jpg\", \"created_at\": \"Fri Jun 14 11:53:13 +0000 2013\", \"time_zone\": \"Central Time (US & Canada)\", \"screen_name\": \"ThugstableOrNah\", \"profile_background_color\": \"7CBDEB\", \"notifications\": null, \"profile_banner_url\": \"https://pbs.twimg.com/profile_banners/1516214672/1461744514\", \"protected\": false, \"friends_count\": 2258, \"utc_offset\": -18000, \"id_str\": \"1516214672\", \"profile_text_color\": \"5C91B9\", \"followers_count\": 1316, \"profile_background_image_url_https\": \"https://pbs.twimg.com/profile_background_images/432072168524877825/2dvl66cO.jpeg\", \"default_profile\": false, \"verified\": false, \"lang\": \"en\", \"is_translator\": false, \"profile_link_color\": \"131517\", \"location\": \"Los Angeles, CA\", \"profile_background_tile\": true, \"listed_count\": 59, \"profile_sidebar_fill_color\": \"1C1C1C\", \"profile_image_url_https\": \"https://pbs.twimg.com/profile_images/726292174921326593/2-2IwA93_normal.jpg\"}, \"contributors\": null, \"favorite_count\": 0, \"in_reply_to_user_id\": null, \"in_reply_to_status_id_str\": null, \"timestamp_ms\": \"1462070000664\", \"in_reply_to_status_id\": null, \"favorited\": false, \"retweet_count\": 0, \"created_at\": \"Sun May 01 02:33:20 +0000 2016\", \"geo\": null, \"in_reply_to_user_id_str\": null, \"source\": \"<a href=\\\"http://twitter.com/download/android\\\" rel=\\\"nofollow\\\">Twitter for Android</a>\", \"text\": \"I may not make it..hence why last min plans always dicey. But saw other shows in near future that wete at same venue.\", \"truncated\": false, \"id_str\": \"726600362522628096\", \"id\": 726600362522628096, \"entities\": {\"user_mentions\": [], \"urls\": [], \"symbols\": [], \"hashtags\": []}, \"retweeted\": false, \"filter_level\": \"low\", \"lang\": \"en\", \"is_quote_status\": false, \"place\": null, \"in_reply_to_screen_name\": null}\r\n",
      "{\"coordinates\": null, \"user\": {\"contributors_enabled\": false, \"url\": null, \"profile_use_background_image\": false, \"follow_request_sent\": null, \"profile_background_image_url\": \"http://abs.twimg.com/images/themes/theme1/bg.png\", \"geo_enabled\": true, \"name\": \"mt querida\", \"id\": 3046615643, \"default_profile_image\": false, \"following\": null, \"favourites_count\": 2347, \"description\": \"Prazer em ser, diferente de voc\\u00ea\", \"statuses_count\": 14118, \"profile_sidebar_border_color\": \"000000\", \"profile_image_url\": \"http://pbs.twimg.com/profile_images/717097227622211584/P_SOm5Ap_normal.jpg\", \"created_at\": \"Fri Feb 20 12:21:40 +0000 2015\", \"time_zone\": \"Brasilia\", \"screen_name\": \"euluannaa\", \"profile_background_color\": \"000000\", \"notifications\": null, \"profile_banner_url\": \"https://pbs.twimg.com/profile_banners/3046615643/1459804432\", \"protected\": false, \"friends_count\": 250, \"utc_offset\": -10800, \"id_str\": \"3046615643\", \"profile_text_color\": \"000000\", \"followers_count\": 454, \"profile_background_image_url_https\": \"https://abs.twimg.com/images/themes/theme1/bg.png\", \"default_profile\": false, \"verified\": false, \"lang\": \"pt\", \"is_translator\": false, \"profile_link_color\": \"89C9FA\", \"location\": \"021\", \"profile_background_tile\": false, \"listed_count\": 1, \"profile_sidebar_fill_color\": \"000000\", \"profile_image_url_https\": \"https://pbs.twimg.com/profile_images/717097227622211584/P_SOm5Ap_normal.jpg\"}, \"contributors\": null, \"favorite_count\": 0, \"in_reply_to_user_id\": null, \"retweeted_status\": {\"coordinates\": null, \"user\": {\"contributors_enabled\": false, \"url\": \"https://www.instagram.com/protegiar\", \"profile_use_background_image\": false, \"follow_request_sent\": null, \"profile_background_image_url\": \"http://pbs.twimg.com/profile_background_images/458335813441302528/FGils2fH.jpeg\", \"geo_enabled\": false, \"name\": \"Protegiar\", \"id\": 772557632, \"default_profile_image\": false, \"following\": null, \"favourites_count\": 6, \"description\": \"Apenas uma garota que compartilha um pouco dos sentimentos em frases\\u2744 Ative as notifica\\u00e7\\u00f5es e n\\u00e3o perca as frases \\u2b50 http://padronizei.tumblr.com\", \"statuses_count\": 18206, \"profile_sidebar_border_color\": \"000000\", \"profile_image_url\": \"http://pbs.twimg.com/profile_images/716368039898443776/XDX3wQWh_normal.jpg\", \"created_at\": \"Wed Aug 22 00:31:08 +0000 2012\", \"time_zone\": \"Brasilia\", \"screen_name\": \"protegiar\", \"profile_background_color\": \"030303\", \"notifications\": null, \"profile_banner_url\": \"https://pbs.twimg.com/profile_banners/772557632/1454607662\", \"protected\": false, \"friends_count\": 8930, \"utc_offset\": -10800, \"id_str\": \"772557632\", \"profile_text_color\": \"333333\", \"followers_count\": 161487, \"profile_background_image_url_https\": \"https://pbs.twimg.com/profile_background_images/458335813441302528/FGils2fH.jpeg\", \"default_profile\": false, \"verified\": false, \"lang\": \"pt\", \"is_translator\": false, \"profile_link_color\": \"ABB8C2\", \"location\": null, \"profile_background_tile\": true, \"listed_count\": 47, \"profile_sidebar_fill_color\": \"DDEEF6\", \"profile_image_url_https\": \"https://pbs.twimg.com/profile_images/716368039898443776/XDX3wQWh_normal.jpg\"}, \"contributors\": null, \"favorite_count\": 183, \"in_reply_to_user_id\": null, \"in_reply_to_status_id_str\": null, \"in_reply_to_status_id\": null, \"favorited\": false, \"retweet_count\": 335, \"created_at\": \"Sun May 01 02:26:18 +0000 2016\", \"geo\": null, \"in_reply_to_user_id_str\": null, \"source\": \"<a href=\\\"http://twitter.com/download/android\\\" rel=\\\"nofollow\\\">Twitter for Android</a>\", \"text\": \"Se n\\u00e3o quer, n\\u00e3o d\\u00ea esperan\\u00e7a.\", \"truncated\": false, \"id_str\": \"726598592023121922\", \"id\": 726598592023121922, \"entities\": {\"user_mentions\": [], \"urls\": [], \"symbols\": [], \"hashtags\": []}, \"retweeted\": false, \"filter_level\": \"low\", \"lang\": \"pt\", \"is_quote_status\": false, \"place\": null, \"in_reply_to_screen_name\": null}, \"in_reply_to_status_id_str\": null, \"timestamp_ms\": \"1462070000660\", \"in_reply_to_status_id\": null, \"favorited\": false, \"retweet_count\": 0, \"created_at\": \"Sun May 01 02:33:20 +0000 2016\", \"geo\": null, \"in_reply_to_user_id_str\": null, \"source\": \"<a href=\\\"http://twitter.com/download/android\\\" rel=\\\"nofollow\\\">Twitter for Android</a>\", \"text\": \"RT @protegiar: Se n\\u00e3o quer, n\\u00e3o d\\u00ea esperan\\u00e7a.\", \"truncated\": false, \"id_str\": \"726600362505965568\", \"id\": 726600362505965568, \"entities\": {\"user_mentions\": [{\"id_str\": \"772557632\", \"name\": \"Protegiar\", \"id\": 772557632, \"indices\": [3, 13], \"screen_name\": \"protegiar\"}], \"urls\": [], \"symbols\": [], \"hashtags\": []}, \"retweeted\": false, \"filter_level\": \"low\", \"lang\": \"pt\", \"is_quote_status\": false, \"place\": null, \"in_reply_to_screen_name\": null}\r\n",
      "{\"coordinates\": null, \"user\": {\"contributors_enabled\": false, \"url\": null, \"profile_use_background_image\": true, \"follow_request_sent\": null, \"profile_background_image_url\": \"http://abs.twimg.com/images/themes/theme1/bg.png\", \"geo_enabled\": false, \"name\": \"QUEEN #1\", \"id\": 2832142308, \"default_profile_image\": false, \"following\": null, \"favourites_count\": 4066, \"description\": \"||San Lorenzo|| \\u2022Promo 2016\\u2022\", \"statuses_count\": 2608, \"profile_sidebar_border_color\": \"C0DEED\", \"profile_image_url\": \"http://pbs.twimg.com/profile_images/720741480621588481/9GVC1zvP_normal.jpg\", \"created_at\": \"Thu Sep 25 18:44:40 +0000 2014\", \"time_zone\": \"Santiago\", \"screen_name\": \"EiluveAzulgrana\", \"profile_background_color\": \"C0DEED\", \"notifications\": null, \"profile_banner_url\": \"https://pbs.twimg.com/profile_banners/2832142308/1460907267\", \"protected\": false, \"friends_count\": 1035, \"utc_offset\": -10800, \"id_str\": \"2832142308\", \"profile_text_color\": \"333333\", \"followers_count\": 955, \"profile_background_image_url_https\": \"https://abs.twimg.com/images/themes/theme1/bg.png\", \"default_profile\": true, \"verified\": false, \"lang\": \"es\", \"is_translator\": false, \"profile_link_color\": \"0084B4\", \"location\": null, \"profile_background_tile\": false, \"listed_count\": 0, \"profile_sidebar_fill_color\": \"DDEEF6\", \"profile_image_url_https\": \"https://pbs.twimg.com/profile_images/720741480621588481/9GVC1zvP_normal.jpg\"}, \"contributors\": null, \"favorite_count\": 0, \"in_reply_to_user_id\": null, \"retweeted_status\": {\"coordinates\": null, \"user\": {\"contributors_enabled\": false, \"url\": \"http://Instagram.com/fixyoues\", \"profile_use_background_image\": true, \"follow_request_sent\": null, \"profile_background_image_url\": \"http://pbs.twimg.com/profile_background_images/664887897678565376/F5YoYp5D.jpg\", \"geo_enabled\": true, \"name\": \"\\u3164\\u3164\\u3164\", \"id\": 853219472, \"default_profile_image\": false, \"following\": null, \"favourites_count\": 187713, \"description\": \"when you try your best, but you don't succeed\", \"statuses_count\": 1836, \"profile_sidebar_border_color\": \"000000\", \"profile_image_url\": \"http://pbs.twimg.com/profile_images/726050155510816769/7hek8K0i_normal.jpg\", \"created_at\": \"Sat Sep 29 16:50:00 +0000 2012\", \"time_zone\": \"Madrid\", \"screen_name\": \"FixYouEs\", \"profile_background_color\": \"EDCEC2\", \"notifications\": null, \"profile_banner_url\": \"https://pbs.twimg.com/profile_banners/853219472/1461880593\", \"protected\": false, \"friends_count\": 80, \"utc_offset\": 7200, \"id_str\": \"853219472\", \"profile_text_color\": \"A88394\", \"followers_count\": 77629, \"profile_background_image_url_https\": \"https://pbs.twimg.com/profile_background_images/664887897678565376/F5YoYp5D.jpg\", \"default_profile\": false, \"verified\": false, \"lang\": \"es\", \"is_translator\": false, \"profile_link_color\": \"293754\", \"location\": \"chico cansado y aburrido\", \"profile_background_tile\": true, \"listed_count\": 678, \"profile_sidebar_fill_color\": \"461847\", \"profile_image_url_https\": \"https://pbs.twimg.com/profile_images/726050155510816769/7hek8K0i_normal.jpg\"}, \"contributors\": null, \"favorite_count\": 622, \"in_reply_to_user_id\": null, \"in_reply_to_status_id_str\": null, \"in_reply_to_status_id\": null, \"favorited\": false, \"retweet_count\": 488, \"created_at\": \"Wed Apr 13 19:34:34 +0000 2016\", \"geo\": null, \"in_reply_to_user_id_str\": null, \"source\": \"<a href=\\\"http://twitter.com\\\" rel=\\\"nofollow\\\">Twitter Web Client</a>\", \"text\": \"lo peor de todo es que yo cre\\u00eda en las personas, ahora solo creo en los libros.\", \"truncated\": false, \"id_str\": \"720334383526227968\", \"id\": 720334383526227968, \"entities\": {\"user_mentions\": [], \"urls\": [], \"symbols\": [], \"hashtags\": []}, \"retweeted\": false, \"filter_level\": \"low\", \"lang\": \"es\", \"is_quote_status\": false, \"place\": null, \"in_reply_to_screen_name\": null}, \"in_reply_to_status_id_str\": null, \"timestamp_ms\": \"1462070000663\", \"in_reply_to_status_id\": null, \"favorited\": false, \"retweet_count\": 0, \"created_at\": \"Sun May 01 02:33:20 +0000 2016\", \"geo\": null, \"in_reply_to_user_id_str\": null, \"source\": \"<a href=\\\"http://twitter.com/download/android\\\" rel=\\\"nofollow\\\">Twitter for Android</a>\", \"text\": \"RT @FixYouEs: lo peor de todo es que yo cre\\u00eda en las personas, ahora solo creo en los libros.\", \"truncated\": false, \"id_str\": \"726600362518523904\", \"id\": 726600362518523904, \"entities\": {\"user_mentions\": [{\"id_str\": \"853219472\", \"name\": \"\\u3164\\u3164\\u3164\", \"id\": 853219472, \"indices\": [3, 12], \"screen_name\": \"FixYouEs\"}], \"urls\": [], \"symbols\": [], \"hashtags\": []}, \"retweeted\": false, \"filter_level\": \"low\", \"lang\": \"es\", \"is_quote_status\": false, \"place\": null, \"in_reply_to_screen_name\": null}\r\n",
      "{\"coordinates\": null, \"user\": {\"contributors_enabled\": false, \"url\": null, \"profile_use_background_image\": true, \"follow_request_sent\": null, \"profile_background_image_url\": \"http://abs.twimg.com/images/themes/theme1/bg.png\", \"geo_enabled\": false, \"name\": \"Virginia Mendoza\", \"id\": 1646120479, \"default_profile_image\": false, \"following\": null, \"favourites_count\": 0, \"description\": \"Enamorada de la vida !! De mi profesi\\u00f3n y de lo que soy !!!\", \"statuses_count\": 368, \"profile_sidebar_border_color\": \"C0DEED\", \"profile_image_url\": \"http://pbs.twimg.com/profile_images/568571509224902658/KKKKhJQz_normal.jpeg\", \"created_at\": \"Sun Aug 04 20:40:03 +0000 2013\", \"time_zone\": \"Central Time (US & Canada)\", \"screen_name\": \"MenzVirg\", \"profile_background_color\": \"C0DEED\", \"notifications\": null, \"profile_banner_url\": \"https://pbs.twimg.com/profile_banners/1646120479/1424393000\", \"protected\": false, \"friends_count\": 98, \"utc_offset\": -18000, \"id_str\": \"1646120479\", \"profile_text_color\": \"333333\", \"followers_count\": 32, \"profile_background_image_url_https\": \"https://abs.twimg.com/images/themes/theme1/bg.png\", \"default_profile\": true, \"verified\": false, \"lang\": \"es\", \"is_translator\": false, \"profile_link_color\": \"0084B4\", \"location\": \"Villahermosa \", \"profile_background_tile\": false, \"listed_count\": 1, \"profile_sidebar_fill_color\": \"DDEEF6\", \"profile_image_url_https\": \"https://pbs.twimg.com/profile_images/568571509224902658/KKKKhJQz_normal.jpeg\"}, \"contributors\": null, \"favorite_count\": 0, \"in_reply_to_user_id\": null, \"in_reply_to_status_id_str\": null, \"possibly_sensitive\": false, \"timestamp_ms\": \"1462070000665\", \"in_reply_to_status_id\": null, \"favorited\": false, \"retweet_count\": 0, \"created_at\": \"Sun May 01 02:33:20 +0000 2016\", \"geo\": null, \"in_reply_to_user_id_str\": null, \"source\": \"<a href=\\\"http://twitterfeed.com\\\" rel=\\\"nofollow\\\">twitterfeed</a>\", \"text\": \"Foto: Bautizan a especie de escarabajo como \\\"Chewbacca\\\": El escarabajo fue hallado cerca de Pap\\u00faa Nueva Guinea. https://t.co/woDcznlqL7\", \"truncated\": false, \"id_str\": \"726600362526838784\", \"id\": 726600362526838784, \"entities\": {\"user_mentions\": [], \"urls\": [{\"expanded_url\": \"http://bit.ly/1r7onNN\", \"url\": \"https://t.co/woDcznlqL7\", \"display_url\": \"bit.ly/1r7onNN\", \"indices\": [112, 135]}], \"symbols\": [], \"hashtags\": []}, \"retweeted\": false, \"filter_level\": \"low\", \"lang\": \"es\", \"is_quote_status\": false, \"place\": null, \"in_reply_to_screen_name\": null}\r\n",
      "{\"coordinates\": null, \"user\": {\"contributors_enabled\": false, \"url\": \"https://sayat.me/njoodnh1\", \"profile_use_background_image\": true, \"follow_request_sent\": null, \"profile_background_image_url\": \"http://abs.twimg.com/images/themes/theme1/bg.png\", \"geo_enabled\": false, \"name\": \"Njud\", \"id\": 2688999223, \"default_profile_image\": false, \"following\": null, \"favourites_count\": 87, \"description\": \"[\\u0645\\u0646 \\u0643\\u0627\\u0646\\u062a \\u0628\\u062f\\u0627\\u064a\\u062a\\u0647 \\u0645\\u062d\\u0631\\u0642\\u0629 \\u0643\\u0627\\u0646\\u062a \\u0646\\u0647\\u0627\\u064a\\u062a\\u0647 \\u0645\\u0634\\u0631\\u0642\\u0629\\u2728] \\u060c \\u064a\\u0627\\u0631\\u0628 \\u0625\\u062c\\u0639\\u0644\\u0646\\u064a \\u0645\\u0645\\u0646 \\u064a\\u0645\\u0631 \\u0643\\u0631\\u064a\\u0645\\u0627 \\u0628\\u0644\\u0627 \\u0636\\u0631\\u0631 \\u0637\\u064a\\u0651\\u0628 \\u0627\\u0644\\u0630\\u0643\\u0631 \\u0648\\u0627\\u0644\\u0623\\u062b\\u0631. (\\u0633\\u0628\\u062d\\u0627\\u0646 \\u0627\\u0644\\u0644\\u0647 \\u0648\\u0627\\u0644\\u062d\\u0645\\u062f\\u0644\\u0644\\u0647 \\u0648\\u0644\\u0627\\u0627\\u0644\\u0647 \\u0627\\u0644\\u0627 \\u0627\\u0644\\u0644\\u0647 \\u0648\\u0627\\u0644\\u0644\\u0647 \\u0627\\u0643\\u0628\\u0631)\", \"statuses_count\": 14841, \"profile_sidebar_border_color\": \"C0DEED\", \"profile_image_url\": \"http://pbs.twimg.com/profile_images/724246248123994112/O6idu5P1_normal.jpg\", \"created_at\": \"Tue Jul 29 02:46:30 +0000 2014\", \"time_zone\": \"Midway Island\", \"screen_name\": \"njoodnah1\", \"profile_background_color\": \"C0DEED\", \"notifications\": null, \"profile_banner_url\": \"https://pbs.twimg.com/profile_banners/2688999223/1461508736\", \"protected\": false, \"friends_count\": 249, \"utc_offset\": -39600, \"id_str\": \"2688999223\", \"profile_text_color\": \"333333\", \"followers_count\": 293, \"profile_background_image_url_https\": \"https://abs.twimg.com/images/themes/theme1/bg.png\", \"default_profile\": true, \"verified\": false, \"lang\": \"en\", \"is_translator\": false, \"profile_link_color\": \"0084B4\", \"location\": \"Kingdom of Saudi Arabia\", \"profile_background_tile\": false, \"listed_count\": 3, \"profile_sidebar_fill_color\": \"DDEEF6\", \"profile_image_url_https\": \"https://pbs.twimg.com/profile_images/724246248123994112/O6idu5P1_normal.jpg\"}, \"contributors\": null, \"favorite_count\": 0, \"in_reply_to_user_id\": null, \"in_reply_to_status_id_str\": null, \"timestamp_ms\": \"1462070000666\", \"in_reply_to_status_id\": null, \"favorited\": false, \"retweet_count\": 0, \"created_at\": \"Sun May 01 02:33:20 +0000 2016\", \"geo\": null, \"in_reply_to_user_id_str\": null, \"source\": \"<a href=\\\"http://twitter.com/download/iphone\\\" rel=\\\"nofollow\\\">Twitter for iPhone</a>\", \"text\": \"\\u0648\\u0642\\u062a \\u0627\\u0644\\u0627\\u062e\\u062a\\u0628\\u0627\\u0631\\u0627\\u062a \\u0627\\u062e\\u062a\\u0645 \\u0643\\u0644 \\u0627\\u0644\\u0645\\u0642\\u0627\\u0644\\u0628 \\u0627\\u0644\\u0644\\u064a \\u0628\\u0627\\u0644\\u064a\\u0648\\u062a\\u064a\\u0648\\u0628\\ud83d\\udc94\\ud83d\\udc94\\ud83d\\udc94\", \"truncated\": false, \"id_str\": \"726600362531147777\", \"id\": 726600362531147777, \"entities\": {\"user_mentions\": [], \"urls\": [], \"symbols\": [], \"hashtags\": []}, \"retweeted\": false, \"filter_level\": \"low\", \"lang\": \"ar\", \"is_quote_status\": false, \"place\": null, \"in_reply_to_screen_name\": null}\r\n",
      "{\"coordinates\": null, \"user\": {\"contributors_enabled\": false, \"url\": null, \"profile_use_background_image\": true, \"follow_request_sent\": null, \"profile_background_image_url\": \"http://pbs.twimg.com/profile_background_images/505192482120802304/zKBvKm_l.png\", \"geo_enabled\": false, \"name\": \"Best Mendler Pics\", \"id\": 2777674861, \"default_profile_image\": false, \"following\": null, \"favourites_count\": 89, \"description\": null, \"statuses_count\": 3003, \"profile_sidebar_border_color\": \"FFFFFF\", \"profile_image_url\": \"http://pbs.twimg.com/profile_images/505186197300191233/XlILkrnS_normal.png\", \"created_at\": \"Fri Aug 29 02:49:53 +0000 2014\", \"time_zone\": null, \"screen_name\": \"Mendlerpics\", \"profile_background_color\": \"C0DEED\", \"notifications\": null, \"profile_banner_url\": \"https://pbs.twimg.com/profile_banners/2777674861/1442253302\", \"protected\": false, \"friends_count\": 29, \"utc_offset\": null, \"id_str\": \"2777674861\", \"profile_text_color\": \"333333\", \"followers_count\": 102, \"profile_background_image_url_https\": \"https://pbs.twimg.com/profile_background_images/505192482120802304/zKBvKm_l.png\", \"default_profile\": false, \"verified\": false, \"lang\": \"es\", \"is_translator\": false, \"profile_link_color\": \"0084B4\", \"location\": null, \"profile_background_tile\": true, \"listed_count\": 2, \"profile_sidebar_fill_color\": \"DDEEF6\", \"profile_image_url_https\": \"https://pbs.twimg.com/profile_images/505186197300191233/XlILkrnS_normal.png\"}, \"contributors\": null, \"favorite_count\": 0, \"in_reply_to_user_id\": null, \"retweeted_status\": {\"coordinates\": null, \"user\": {\"contributors_enabled\": false, \"url\": \"http://www.facebook.com/BridgitMendler\", \"profile_use_background_image\": false, \"follow_request_sent\": null, \"profile_background_image_url\": \"http://pbs.twimg.com/profile_background_images/821569907/a1401b4f549592e853e3456abd753b50.jpeg\", \"geo_enabled\": false, \"name\": \"Bridgit Mendler\", \"id\": 37457377, \"default_profile_image\": false, \"following\": null, \"favourites_count\": 48, \"description\": \"Hi, I'm Bridgit Mendler :) Debut album Hello My Name Is... available NOW!! Get the album feat. Ready or Not on iTunes - http://smarturl.it/bmitunesa1\", \"statuses_count\": 6002, \"profile_sidebar_border_color\": \"000000\", \"profile_image_url\": \"http://pbs.twimg.com/profile_images/705122023333191680/OyNEhnyD_normal.jpg\", \"created_at\": \"Sun May 03 17:25:10 +0000 2009\", \"time_zone\": \"Pacific Time (US & Canada)\", \"screen_name\": \"bridgitmendler\", \"profile_background_color\": \"FFFFFF\", \"notifications\": null, \"profile_banner_url\": \"https://pbs.twimg.com/profile_banners/37457377/1456949190\", \"protected\": false, \"friends_count\": 175, \"utc_offset\": -25200, \"id_str\": \"37457377\", \"profile_text_color\": \"333333\", \"followers_count\": 4811048, \"profile_background_image_url_https\": \"https://pbs.twimg.com/profile_background_images/821569907/a1401b4f549592e853e3456abd753b50.jpeg\", \"default_profile\": false, \"verified\": true, \"lang\": \"en\", \"is_translator\": false, \"profile_link_color\": \"E83333\", \"location\": \"california\", \"profile_background_tile\": false, \"listed_count\": 5264, \"profile_sidebar_fill_color\": \"F6F6F6\", \"profile_image_url_https\": \"https://pbs.twimg.com/profile_images/705122023333191680/OyNEhnyD_normal.jpg\"}, \"contributors\": null, \"favorite_count\": 505, \"in_reply_to_user_id\": null, \"in_reply_to_status_id_str\": null, \"possibly_sensitive\": false, \"in_reply_to_status_id\": null, \"favorited\": false, \"retweet_count\": 209, \"created_at\": \"Fri Apr 29 18:07:49 +0000 2016\", \"geo\": null, \"extended_entities\": {\"media\": [{\"type\": \"photo\", \"expanded_url\": \"http://twitter.com/bridgitmendler/status/726110756823953408/photo/1\", \"url\": \"https://t.co/KYloZ7Yx3K\", \"media_url_https\": \"https://pbs.twimg.com/media/ChOp4rmUgAAtX0f.jpg\", \"indices\": [115, 138], \"media_url\": \"http://pbs.twimg.com/media/ChOp4rmUgAAtX0f.jpg\", \"display_url\": \"pic.twitter.com/KYloZ7Yx3K\", \"id_str\": \"726110756178001920\", \"id\": 726110756178001920, \"sizes\": {\"thumb\": {\"h\": 141, \"w\": 141, \"resize\": \"crop\"}, \"small\": {\"h\": 78, \"w\": 340, \"resize\": \"fit\"}, \"large\": {\"h\": 141, \"w\": 617, \"resize\": \"fit\"}, \"medium\": {\"h\": 137, \"w\": 600, \"resize\": \"fit\"}}}]}, \"in_reply_to_user_id_str\": null, \"source\": \"<a href=\\\"http://twitter.com\\\" rel=\\\"nofollow\\\">Twitter Web Client</a>\", \"text\": \"a connection to a song that exists purely because when u hear it, it reminds u how to feel something\\ud83d\\udc9b @katertot527 https://t.co/KYloZ7Yx3K\", \"truncated\": false, \"id_str\": \"726110756823953408\", \"id\": 726110756823953408, \"entities\": {\"user_mentions\": [{\"id_str\": \"57460957\", \"name\": \"2katez\", \"id\": 57460957, \"indices\": [102, 114], \"screen_name\": \"katertot527\"}], \"media\": [{\"type\": \"photo\", \"expanded_url\": \"http://twitter.com/bridgitmendler/status/726110756823953408/photo/1\", \"url\": \"https://t.co/KYloZ7Yx3K\", \"media_url_https\": \"https://pbs.twimg.com/media/ChOp4rmUgAAtX0f.jpg\", \"indices\": [115, 138], \"media_url\": \"http://pbs.twimg.com/media/ChOp4rmUgAAtX0f.jpg\", \"display_url\": \"pic.twitter.com/KYloZ7Yx3K\", \"id_str\": \"726110756178001920\", \"id\": 726110756178001920, \"sizes\": {\"thumb\": {\"h\": 141, \"w\": 141, \"resize\": \"crop\"}, \"small\": {\"h\": 78, \"w\": 340, \"resize\": \"fit\"}, \"large\": {\"h\": 141, \"w\": 617, \"resize\": \"fit\"}, \"medium\": {\"h\": 137, \"w\": 600, \"resize\": \"fit\"}}}], \"urls\": [], \"symbols\": [], \"hashtags\": []}, \"retweeted\": false, \"filter_level\": \"low\", \"lang\": \"en\", \"is_quote_status\": false, \"place\": null, \"in_reply_to_screen_name\": null}, \"in_reply_to_status_id_str\": null, \"possibly_sensitive\": false, \"timestamp_ms\": \"1462070000658\", \"in_reply_to_status_id\": null, \"favorited\": false, \"retweet_count\": 0, \"created_at\": \"Sun May 01 02:33:20 +0000 2016\", \"geo\": null, \"extended_entities\": {\"media\": [{\"url\": \"https://t.co/KYloZ7Yx3K\", \"source_user_id\": 37457377, \"source_status_id_str\": \"726110756823953408\", \"media_url_https\": \"https://pbs.twimg.com/media/ChOp4rmUgAAtX0f.jpg\", \"media_url\": \"http://pbs.twimg.com/media/ChOp4rmUgAAtX0f.jpg\", \"id_str\": \"726110756178001920\", \"id\": 726110756178001920, \"source_user_id_str\": \"37457377\", \"type\": \"photo\", \"indices\": [139, 140], \"expanded_url\": \"http://twitter.com/bridgitmendler/status/726110756823953408/photo/1\", \"display_url\": \"pic.twitter.com/KYloZ7Yx3K\", \"source_status_id\": 726110756823953408, \"sizes\": {\"thumb\": {\"h\": 141, \"w\": 141, \"resize\": \"crop\"}, \"small\": {\"h\": 78, \"w\": 340, \"resize\": \"fit\"}, \"large\": {\"h\": 141, \"w\": 617, \"resize\": \"fit\"}, \"medium\": {\"h\": 137, \"w\": 600, \"resize\": \"fit\"}}}]}, \"in_reply_to_user_id_str\": null, \"source\": \"<a href=\\\"https://about.twitter.com/products/tweetdeck\\\" rel=\\\"nofollow\\\">TweetDeck</a>\", \"text\": \"RT @bridgitmendler: a connection to a song that exists purely because when u hear it, it reminds u how to feel something\\ud83d\\udc9b @katertot527 http\\u2026\", \"truncated\": false, \"id_str\": \"726600362497576960\", \"id\": 726600362497576960, \"entities\": {\"user_mentions\": [{\"id_str\": \"37457377\", \"name\": \"Bridgit Mendler\", \"id\": 37457377, \"indices\": [3, 18], \"screen_name\": \"bridgitmendler\"}, {\"id_str\": \"57460957\", \"name\": \"2katez\", \"id\": 57460957, \"indices\": [122, 134], \"screen_name\": \"katertot527\"}], \"media\": [{\"url\": \"https://t.co/KYloZ7Yx3K\", \"source_user_id\": 37457377, \"source_status_id_str\": \"726110756823953408\", \"media_url_https\": \"https://pbs.twimg.com/media/ChOp4rmUgAAtX0f.jpg\", \"media_url\": \"http://pbs.twimg.com/media/ChOp4rmUgAAtX0f.jpg\", \"id_str\": \"726110756178001920\", \"id\": 726110756178001920, \"source_user_id_str\": \"37457377\", \"type\": \"photo\", \"indices\": [139, 140], \"expanded_url\": \"http://twitter.com/bridgitmendler/status/726110756823953408/photo/1\", \"display_url\": \"pic.twitter.com/KYloZ7Yx3K\", \"source_status_id\": 726110756823953408, \"sizes\": {\"thumb\": {\"h\": 141, \"w\": 141, \"resize\": \"crop\"}, \"small\": {\"h\": 78, \"w\": 340, \"resize\": \"fit\"}, \"large\": {\"h\": 141, \"w\": 617, \"resize\": \"fit\"}, \"medium\": {\"h\": 137, \"w\": 600, \"resize\": \"fit\"}}}], \"urls\": [], \"symbols\": [], \"hashtags\": []}, \"retweeted\": false, \"filter_level\": \"low\", \"lang\": \"en\", \"is_quote_status\": false, \"place\": null, \"in_reply_to_screen_name\": null}\r\n",
      "{\"coordinates\": null, \"user\": {\"contributors_enabled\": false, \"url\": null, \"profile_use_background_image\": true, \"follow_request_sent\": null, \"profile_background_image_url\": \"http://abs.twimg.com/images/themes/theme1/bg.png\", \"geo_enabled\": true, \"name\": \"WNTN\", \"id\": 2693150311, \"default_profile_image\": false, \"following\": null, \"favourites_count\": 2230, \"description\": \"bo1 sextapes chicken\", \"statuses_count\": 4544, \"profile_sidebar_border_color\": \"C0DEED\", \"profile_image_url\": \"http://pbs.twimg.com/profile_images/721855308595900417/eRTWRYaE_normal.jpg\", \"created_at\": \"Wed Jul 30 14:53:17 +0000 2014\", \"time_zone\": \"Pacific Time (US & Canada)\", \"screen_name\": \"Wontage\", \"profile_background_color\": \"C0DEED\", \"notifications\": null, \"profile_banner_url\": \"https://pbs.twimg.com/profile_banners/2693150311/1459402058\", \"protected\": false, \"friends_count\": 289, \"utc_offset\": -25200, \"id_str\": \"2693150311\", \"profile_text_color\": \"333333\", \"followers_count\": 844, \"profile_background_image_url_https\": \"https://abs.twimg.com/images/themes/theme1/bg.png\", \"default_profile\": true, \"verified\": false, \"lang\": \"en\", \"is_translator\": false, \"profile_link_color\": \"0084B4\", \"location\": \"yes my avi is me \", \"profile_background_tile\": false, \"listed_count\": 2, \"profile_sidebar_fill_color\": \"DDEEF6\", \"profile_image_url_https\": \"https://pbs.twimg.com/profile_images/721855308595900417/eRTWRYaE_normal.jpg\"}, \"contributors\": null, \"favorite_count\": 0, \"in_reply_to_user_id\": 84401700, \"in_reply_to_status_id_str\": \"726600115243212800\", \"timestamp_ms\": \"1462070000664\", \"in_reply_to_status_id\": 726600115243212800, \"favorited\": false, \"retweet_count\": 0, \"created_at\": \"Sun May 01 02:33:20 +0000 2016\", \"geo\": null, \"in_reply_to_user_id_str\": \"84401700\", \"source\": \"<a href=\\\"http://twitter.com/download/iphone\\\" rel=\\\"nofollow\\\">Twitter for iPhone</a>\", \"text\": \"@Mcgillligan @CSGO_StArLiGht @RegalStrikes shut the fuck up you fat bastard regal is ass you moron\", \"truncated\": false, \"id_str\": \"726600362522775552\", \"id\": 726600362522775552, \"entities\": {\"user_mentions\": [{\"id_str\": \"84401700\", \"name\": \"\\u14aaOG\\u15e9\\u144e\", \"id\": 84401700, \"indices\": [0, 12], \"screen_name\": \"Mcgillligan\"}, {\"id_str\": \"1125124513\", \"name\": \"Starlight\", \"id\": 1125124513, \"indices\": [13, 28], \"screen_name\": \"CSGO_StArLiGht\"}, {\"id_str\": \"2790506572\", \"name\": \"Regal Strikes\", \"id\": 2790506572, \"indices\": [29, 42], \"screen_name\": \"RegalStrikes\"}], \"urls\": [], \"symbols\": [], \"hashtags\": []}, \"retweeted\": false, \"filter_level\": \"low\", \"lang\": \"en\", \"is_quote_status\": false, \"place\": null, \"in_reply_to_screen_name\": \"Mcgillligan\"}\r\n",
      "{\"coordinates\": null, \"user\": {\"contributors_enabled\": false, \"url\": \"http://ameblo.jp/snow2now-huyuyukigekka/\", \"profile_use_background_image\": true, \"follow_request_sent\": null, \"profile_background_image_url\": \"\", \"geo_enabled\": false, \"name\": \"\\u30eb\\u30ab\\u26065/9,6/13\\u6c60\\u888b\\u30e9\\u30a4\\u30d6\", \"id\": 4879287965, \"default_profile_image\": false, \"following\": null, \"favourites_count\": 1090, \"description\": \"\\u7d75\\u63cf\\u3044\\u305f\\u308a\\u540c\\u4eba\\u8a8c\\u4f5c\\u3063\\u305f\\u308a\\u30b3\\u30b9\\u30d7\\u30ec\\u3057\\u305f\\u308a\\u30e9\\u30a4\\u30d6\\u3057\\u305f\\u308a\\u3057\\u3066\\u308b\\u3068\\u3042\\u308b\\u7f8e\\u5927\\u751f\\u3002\\u6771\\u4eac\\u55b0\\u7a2e\\u5927\\u597d\\u304d\\uff01 \\u30a2\\u30a4\\u30b3\\u30f3\\u30d8\\u30c3\\u30c0\\u30fc\\u5199\\u771f\\u672c\\u4eba\\u3001\\u30a4\\u30e9\\u30b9\\u30c8\\u306f\\u81ea\\u4f5c\\u3067\\u3059\\u3002\\u60aa\\u7528\\u3001\\u7121\\u65ad\\u8ee2\\u8f09\\u7981\\u6b62\\uff01 \\u51fa\\u6f14\\u30e9\\u30a4\\u30d6\\u21925/9 ,6/13\\u6c60\\u888b\\u30d3\\u30c3\\u30b0\\u30d0\\u30f3\\u30dc\\u30c3\\u30af\\u30b9\\u2606\\u30a8\\u30f3\\u30bf\\u30e1\\u30ae\\u30eb\\u30c9\\u30e9\\u30a4\\u30d618:00\\u304b\\u3089\\uff01\", \"statuses_count\": 395, \"profile_sidebar_border_color\": \"C0DEED\", \"profile_image_url\": \"http://pbs.twimg.com/profile_images/721737209502572544/CMlCpDgo_normal.jpg\", \"created_at\": \"Fri Feb 05 23:38:36 +0000 2016\", \"time_zone\": \"Pacific Time (US & Canada)\", \"screen_name\": \"AHAHAHAshine\", \"profile_background_color\": \"F5F8FA\", \"notifications\": null, \"profile_banner_url\": \"https://pbs.twimg.com/profile_banners/4879287965/1461596981\", \"protected\": false, \"friends_count\": 62, \"utc_offset\": -25200, \"id_str\": \"4879287965\", \"profile_text_color\": \"333333\", \"followers_count\": 73, \"profile_background_image_url_https\": \"\", \"default_profile\": true, \"verified\": false, \"lang\": \"ja\", \"is_translator\": false, \"profile_link_color\": \"2B7BB9\", \"location\": \"\\u30c1\\u30e7\\u30fc\\u30ab\\u30fc\\u7cfb\\u95c7\\u304b\\u308f\\u5973\\u5b50\", \"profile_background_tile\": false, \"listed_count\": 1, \"profile_sidebar_fill_color\": \"DDEEF6\", \"profile_image_url_https\": \"https://pbs.twimg.com/profile_images/721737209502572544/CMlCpDgo_normal.jpg\"}, \"contributors\": null, \"favorite_count\": 0, \"in_reply_to_user_id\": null, \"in_reply_to_status_id_str\": null, \"timestamp_ms\": \"1462070000665\", \"in_reply_to_status_id\": null, \"favorited\": false, \"retweet_count\": 0, \"created_at\": \"Sun May 01 02:33:20 +0000 2016\", \"geo\": null, \"in_reply_to_user_id_str\": null, \"source\": \"<a href=\\\"http://twitter.com\\\" rel=\\\"nofollow\\\">Twitter Web Client</a>\", \"text\": \"\\uff15\\u6708\\u306b\\u306a\\u3063\\u305f\\u3057\\u305d\\u308d\\u305d\\u308d\\u30e9\\u30a4\\u30d6\\u306e\\u4e8b\\u3084\\u308a\\u305f\\u3044\\u306e\\u306b\\u307e\\u3060\\u539f\\u7a3f\\u304c\\u7d42\\u308f\\u3089\\u306a\\u3044\\u306a\\u3046\\u30fb\\u30fb\\u30fb\\u30fb\", \"truncated\": false, \"id_str\": \"726600362526826497\", \"id\": 726600362526826497, \"entities\": {\"user_mentions\": [], \"urls\": [], \"symbols\": [], \"hashtags\": []}, \"retweeted\": false, \"filter_level\": \"low\", \"lang\": \"ja\", \"is_quote_status\": false, \"place\": null, \"in_reply_to_screen_name\": null}\r\n",
      "{\"coordinates\": null, \"user\": {\"contributors_enabled\": false, \"url\": \"http://Instagram.com/fabiansaid\", \"profile_use_background_image\": true, \"follow_request_sent\": null, \"profile_background_image_url\": \"http://abs.twimg.com/images/themes/theme14/bg.gif\", \"geo_enabled\": false, \"name\": \"Said\", \"id\": 127937016, \"default_profile_image\": false, \"following\": null, \"favourites_count\": 7165, \"description\": \"ITESM (LIN) / 1998\", \"statuses_count\": 12069, \"profile_sidebar_border_color\": \"EEEEEE\", \"profile_image_url\": \"http://pbs.twimg.com/profile_images/718411126594101248/EV2Xzsn6_normal.jpg\", \"created_at\": \"Tue Mar 30 17:23:49 +0000 2010\", \"time_zone\": \"Mountain Time (US & Canada)\", \"screen_name\": \"fabiansaid7\", \"profile_background_color\": \"131516\", \"notifications\": null, \"profile_banner_url\": \"https://pbs.twimg.com/profile_banners/127937016/1460117535\", \"protected\": false, \"friends_count\": 472, \"utc_offset\": -21600, \"id_str\": \"127937016\", \"profile_text_color\": \"333333\", \"followers_count\": 461, \"profile_background_image_url_https\": \"https://abs.twimg.com/images/themes/theme14/bg.gif\", \"default_profile\": false, \"verified\": false, \"lang\": \"es\", \"is_translator\": false, \"profile_link_color\": \"009999\", \"location\": null, \"profile_background_tile\": true, \"listed_count\": 0, \"profile_sidebar_fill_color\": \"EFEFEF\", \"profile_image_url_https\": \"https://pbs.twimg.com/profile_images/718411126594101248/EV2Xzsn6_normal.jpg\"}, \"contributors\": null, \"favorite_count\": 0, \"in_reply_to_user_id\": null, \"in_reply_to_status_id_str\": null, \"possibly_sensitive\": false, \"timestamp_ms\": \"1462070000665\", \"in_reply_to_status_id\": null, \"favorited\": false, \"retweet_count\": 0, \"created_at\": \"Sun May 01 02:33:20 +0000 2016\", \"geo\": null, \"quoted_status\": {\"coordinates\": null, \"user\": {\"contributors_enabled\": false, \"url\": null, \"profile_use_background_image\": true, \"follow_request_sent\": null, \"profile_background_image_url\": \"\", \"geo_enabled\": false, \"name\": \"ping\\u00fcinator\", \"id\": 708020802914897920, \"default_profile_image\": false, \"following\": null, \"favourites_count\": 282, \"description\": \"Hola soy #Ping\\u00fcinator el terror de los tigres. creaci\\u00f3n de @palomazomontoya #Palomatoons #AquiPuroRayado la mascota del pueblo\", \"statuses_count\": 580, \"profile_sidebar_border_color\": \"C0DEED\", \"profile_image_url\": \"http://pbs.twimg.com/profile_images/708334987867594752/axIZOeaR_normal.jpg\", \"created_at\": \"Thu Mar 10 20:04:48 +0000 2016\", \"time_zone\": null, \"screen_name\": \"pinguinatormty\", \"profile_background_color\": \"F5F8FA\", \"notifications\": null, \"profile_banner_url\": \"https://pbs.twimg.com/profile_banners/708020802914897920/1461618852\", \"protected\": false, \"friends_count\": 143, \"utc_offset\": null, \"id_str\": \"708020802914897920\", \"profile_text_color\": \"333333\", \"followers_count\": 906, \"profile_background_image_url_https\": \"\", \"default_profile\": true, \"verified\": false, \"lang\": \"en\", \"is_translator\": false, \"profile_link_color\": \"2B7BB9\", \"location\": null, \"profile_background_tile\": false, \"listed_count\": 5, \"profile_sidebar_fill_color\": \"DDEEF6\", \"profile_image_url_https\": \"https://pbs.twimg.com/profile_images/708334987867594752/axIZOeaR_normal.jpg\"}, \"contributors\": null, \"favorite_count\": 0, \"in_reply_to_user_id\": null, \"in_reply_to_status_id_str\": null, \"in_reply_to_status_id\": null, \"favorited\": false, \"retweet_count\": 0, \"created_at\": \"Sun May 01 01:49:31 +0000 2016\", \"geo\": null, \"in_reply_to_user_id_str\": null, \"source\": \"<a href=\\\"http://twitter.com/download/iphone\\\" rel=\\\"nofollow\\\">Twitter for iPhone</a>\", \"text\": \"La ultima vez que se fue el Tuca, fue despu\\u00e9s del 4-1 en liguilla. Califiquen tigres para hacerles d me nuevo el favor... \\ud83d\\ude02\", \"truncated\": false, \"id_str\": \"726589333801594880\", \"id\": 726589333801594880, \"entities\": {\"user_mentions\": [], \"urls\": [], \"symbols\": [], \"hashtags\": []}, \"retweeted\": false, \"filter_level\": \"low\", \"lang\": \"es\", \"is_quote_status\": false, \"place\": null, \"in_reply_to_screen_name\": null}, \"in_reply_to_user_id_str\": null, \"source\": \"<a href=\\\"http://twitter.com/download/iphone\\\" rel=\\\"nofollow\\\">Twitter for iPhone</a>\", \"text\": \"\\ud83d\\ude25 https://t.co/9fCjeHN9af\", \"truncated\": false, \"id_str\": \"726600362526797824\", \"quoted_status_id\": 726589333801594880, \"id\": 726600362526797824, \"entities\": {\"user_mentions\": [], \"urls\": [{\"expanded_url\": \"https://twitter.com/pinguinatormty/status/726589333801594880\", \"url\": \"https://t.co/9fCjeHN9af\", \"display_url\": \"twitter.com/pinguinatormty\\u2026\", \"indices\": [2, 25]}], \"symbols\": [], \"hashtags\": []}, \"retweeted\": false, \"filter_level\": \"low\", \"lang\": \"und\", \"is_quote_status\": true, \"place\": null, \"quoted_status_id_str\": \"726589333801594880\", \"in_reply_to_screen_name\": null}\r\n",
      "{\"coordinates\": null, \"user\": {\"contributors_enabled\": false, \"url\": null, \"profile_use_background_image\": true, \"follow_request_sent\": null, \"profile_background_image_url\": \"http://abs.twimg.com/images/themes/theme1/bg.png\", \"geo_enabled\": false, \"name\": \"mendler queen\", \"id\": 2811153893, \"default_profile_image\": false, \"following\": null, \"favourites_count\": 127, \"description\": null, \"statuses_count\": 2908, \"profile_sidebar_border_color\": \"C0DEED\", \"profile_image_url\": \"http://pbs.twimg.com/profile_images/519200337148665857/yrhmrAyt_normal.png\", \"created_at\": \"Mon Oct 06 18:52:00 +0000 2014\", \"time_zone\": null, \"screen_name\": \"MendlerQ\", \"profile_background_color\": \"C0DEED\", \"notifications\": null, \"protected\": false, \"friends_count\": 58, \"utc_offset\": null, \"id_str\": \"2811153893\", \"profile_text_color\": \"333333\", \"followers_count\": 71, \"profile_background_image_url_https\": \"https://abs.twimg.com/images/themes/theme1/bg.png\", \"default_profile\": true, \"verified\": false, \"lang\": \"es\", \"is_translator\": false, \"profile_link_color\": \"0084B4\", \"location\": null, \"profile_background_tile\": false, \"listed_count\": 2, \"profile_sidebar_fill_color\": \"DDEEF6\", \"profile_image_url_https\": \"https://pbs.twimg.com/profile_images/519200337148665857/yrhmrAyt_normal.png\"}, \"contributors\": null, \"favorite_count\": 0, \"in_reply_to_user_id\": null, \"retweeted_status\": {\"coordinates\": null, \"user\": {\"contributors_enabled\": false, \"url\": \"http://www.facebook.com/BridgitMendler\", \"profile_use_background_image\": false, \"follow_request_sent\": null, \"profile_background_image_url\": \"http://pbs.twimg.com/profile_background_images/821569907/a1401b4f549592e853e3456abd753b50.jpeg\", \"geo_enabled\": false, \"name\": \"Bridgit Mendler\", \"id\": 37457377, \"default_profile_image\": false, \"following\": null, \"favourites_count\": 48, \"description\": \"Hi, I'm Bridgit Mendler :) Debut album Hello My Name Is... available NOW!! Get the album feat. Ready or Not on iTunes - http://smarturl.it/bmitunesa1\", \"statuses_count\": 6002, \"profile_sidebar_border_color\": \"000000\", \"profile_image_url\": \"http://pbs.twimg.com/profile_images/705122023333191680/OyNEhnyD_normal.jpg\", \"created_at\": \"Sun May 03 17:25:10 +0000 2009\", \"time_zone\": \"Pacific Time (US & Canada)\", \"screen_name\": \"bridgitmendler\", \"profile_background_color\": \"FFFFFF\", \"notifications\": null, \"profile_banner_url\": \"https://pbs.twimg.com/profile_banners/37457377/1456949190\", \"protected\": false, \"friends_count\": 175, \"utc_offset\": -25200, \"id_str\": \"37457377\", \"profile_text_color\": \"333333\", \"followers_count\": 4811048, \"profile_background_image_url_https\": \"https://pbs.twimg.com/profile_background_images/821569907/a1401b4f549592e853e3456abd753b50.jpeg\", \"default_profile\": false, \"verified\": true, \"lang\": \"en\", \"is_translator\": false, \"profile_link_color\": \"E83333\", \"location\": \"california\", \"profile_background_tile\": false, \"listed_count\": 5264, \"profile_sidebar_fill_color\": \"F6F6F6\", \"profile_image_url_https\": \"https://pbs.twimg.com/profile_images/705122023333191680/OyNEhnyD_normal.jpg\"}, \"contributors\": null, \"favorite_count\": 505, \"in_reply_to_user_id\": null, \"in_reply_to_status_id_str\": null, \"possibly_sensitive\": false, \"in_reply_to_status_id\": null, \"favorited\": false, \"retweet_count\": 209, \"created_at\": \"Fri Apr 29 18:07:49 +0000 2016\", \"geo\": null, \"extended_entities\": {\"media\": [{\"type\": \"photo\", \"expanded_url\": \"http://twitter.com/bridgitmendler/status/726110756823953408/photo/1\", \"url\": \"https://t.co/KYloZ7Yx3K\", \"media_url_https\": \"https://pbs.twimg.com/media/ChOp4rmUgAAtX0f.jpg\", \"indices\": [115, 138], \"media_url\": \"http://pbs.twimg.com/media/ChOp4rmUgAAtX0f.jpg\", \"display_url\": \"pic.twitter.com/KYloZ7Yx3K\", \"id_str\": \"726110756178001920\", \"id\": 726110756178001920, \"sizes\": {\"thumb\": {\"h\": 141, \"w\": 141, \"resize\": \"crop\"}, \"small\": {\"h\": 78, \"w\": 340, \"resize\": \"fit\"}, \"large\": {\"h\": 141, \"w\": 617, \"resize\": \"fit\"}, \"medium\": {\"h\": 137, \"w\": 600, \"resize\": \"fit\"}}}]}, \"in_reply_to_user_id_str\": null, \"source\": \"<a href=\\\"http://twitter.com\\\" rel=\\\"nofollow\\\">Twitter Web Client</a>\", \"text\": \"a connection to a song that exists purely because when u hear it, it reminds u how to feel something\\ud83d\\udc9b @katertot527 https://t.co/KYloZ7Yx3K\", \"truncated\": false, \"id_str\": \"726110756823953408\", \"id\": 726110756823953408, \"entities\": {\"user_mentions\": [{\"id_str\": \"57460957\", \"name\": \"2katez\", \"id\": 57460957, \"indices\": [102, 114], \"screen_name\": \"katertot527\"}], \"media\": [{\"type\": \"photo\", \"expanded_url\": \"http://twitter.com/bridgitmendler/status/726110756823953408/photo/1\", \"url\": \"https://t.co/KYloZ7Yx3K\", \"media_url_https\": \"https://pbs.twimg.com/media/ChOp4rmUgAAtX0f.jpg\", \"indices\": [115, 138], \"media_url\": \"http://pbs.twimg.com/media/ChOp4rmUgAAtX0f.jpg\", \"display_url\": \"pic.twitter.com/KYloZ7Yx3K\", \"id_str\": \"726110756178001920\", \"id\": 726110756178001920, \"sizes\": {\"thumb\": {\"h\": 141, \"w\": 141, \"resize\": \"crop\"}, \"small\": {\"h\": 78, \"w\": 340, \"resize\": \"fit\"}, \"large\": {\"h\": 141, \"w\": 617, \"resize\": \"fit\"}, \"medium\": {\"h\": 137, \"w\": 600, \"resize\": \"fit\"}}}], \"urls\": [], \"symbols\": [], \"hashtags\": []}, \"retweeted\": false, \"filter_level\": \"low\", \"lang\": \"en\", \"is_quote_status\": false, \"place\": null, \"in_reply_to_screen_name\": null}, \"in_reply_to_status_id_str\": null, \"possibly_sensitive\": false, \"timestamp_ms\": \"1462070000666\", \"in_reply_to_status_id\": null, \"favorited\": false, \"retweet_count\": 0, \"created_at\": \"Sun May 01 02:33:20 +0000 2016\", \"geo\": null, \"extended_entities\": {\"media\": [{\"url\": \"https://t.co/KYloZ7Yx3K\", \"source_user_id\": 37457377, \"source_status_id_str\": \"726110756823953408\", \"media_url_https\": \"https://pbs.twimg.com/media/ChOp4rmUgAAtX0f.jpg\", \"media_url\": \"http://pbs.twimg.com/media/ChOp4rmUgAAtX0f.jpg\", \"id_str\": \"726110756178001920\", \"id\": 726110756178001920, \"source_user_id_str\": \"37457377\", \"type\": \"photo\", \"indices\": [139, 140], \"expanded_url\": \"http://twitter.com/bridgitmendler/status/726110756823953408/photo/1\", \"display_url\": \"pic.twitter.com/KYloZ7Yx3K\", \"source_status_id\": 726110756823953408, \"sizes\": {\"thumb\": {\"h\": 141, \"w\": 141, \"resize\": \"crop\"}, \"small\": {\"h\": 78, \"w\": 340, \"resize\": \"fit\"}, \"large\": {\"h\": 141, \"w\": 617, \"resize\": \"fit\"}, \"medium\": {\"h\": 137, \"w\": 600, \"resize\": \"fit\"}}}]}, \"in_reply_to_user_id_str\": null, \"source\": \"<a href=\\\"https://about.twitter.com/products/tweetdeck\\\" rel=\\\"nofollow\\\">TweetDeck</a>\", \"text\": \"RT @bridgitmendler: a connection to a song that exists purely because when u hear it, it reminds u how to feel something\\ud83d\\udc9b @katertot527 http\\u2026\", \"truncated\": false, \"id_str\": \"726600362531147776\", \"id\": 726600362531147776, \"entities\": {\"user_mentions\": [{\"id_str\": \"37457377\", \"name\": \"Bridgit Mendler\", \"id\": 37457377, \"indices\": [3, 18], \"screen_name\": \"bridgitmendler\"}, {\"id_str\": \"57460957\", \"name\": \"2katez\", \"id\": 57460957, \"indices\": [122, 134], \"screen_name\": \"katertot527\"}], \"media\": [{\"url\": \"https://t.co/KYloZ7Yx3K\", \"source_user_id\": 37457377, \"source_status_id_str\": \"726110756823953408\", \"media_url_https\": \"https://pbs.twimg.com/media/ChOp4rmUgAAtX0f.jpg\", \"media_url\": \"http://pbs.twimg.com/media/ChOp4rmUgAAtX0f.jpg\", \"id_str\": \"726110756178001920\", \"id\": 726110756178001920, \"source_user_id_str\": \"37457377\", \"type\": \"photo\", \"indices\": [139, 140], \"expanded_url\": \"http://twitter.com/bridgitmendler/status/726110756823953408/photo/1\", \"display_url\": \"pic.twitter.com/KYloZ7Yx3K\", \"source_status_id\": 726110756823953408, \"sizes\": {\"thumb\": {\"h\": 141, \"w\": 141, \"resize\": \"crop\"}, \"small\": {\"h\": 78, \"w\": 340, \"resize\": \"fit\"}, \"large\": {\"h\": 141, \"w\": 617, \"resize\": \"fit\"}, \"medium\": {\"h\": 137, \"w\": 600, \"resize\": \"fit\"}}}], \"urls\": [], \"symbols\": [], \"hashtags\": []}, \"retweeted\": false, \"filter_level\": \"low\", \"lang\": \"en\", \"is_quote_status\": false, \"place\": null, \"in_reply_to_screen_name\": null}\r\n"
     ]
    }
   ],
   "source": [
    "!cat /Users/Neuromancer/twitter-files/tweets.20160501-123319.json"
   ]
  },
  {
   "cell_type": "code",
   "execution_count": null,
   "metadata": {
    "collapsed": true
   },
   "outputs": [],
   "source": []
  }
 ],
 "metadata": {
  "kernelspec": {
   "display_name": "Python 3",
   "language": "python",
   "name": "python3"
  },
  "language_info": {
   "codemirror_mode": {
    "name": "ipython",
    "version": 3
   },
   "file_extension": ".py",
   "mimetype": "text/x-python",
   "name": "python",
   "nbconvert_exporter": "python",
   "pygments_lexer": "ipython3",
   "version": "3.4.4"
  }
 },
 "nbformat": 4,
 "nbformat_minor": 0
}
