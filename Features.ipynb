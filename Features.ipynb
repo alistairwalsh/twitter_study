{
 "cells": [
  {
   "cell_type": "markdown",
   "metadata": {},
   "source": [
    "# twython"
   ]
  },
  {
   "cell_type": "markdown",
   "metadata": {},
   "source": [
    "What if we want tweets that include particular users, the next example '759251', '612473' are CNN and BBC"
   ]
  },
  {
   "cell_type": "code",
   "execution_count": 1,
   "metadata": {
    "collapsed": false
   },
   "outputs": [
    {
     "name": "stdout",
     "output_type": "stream",
     "text": [
      "RT @CNN: UCLA students used belts and cords to secure doors during yesterday's shooting https://t.co/LwRClWEYUU https://t.co/syNMge8BS0\n",
      "RT @CNN: He's accused of war crimes in Somalia. Now he works security at a U.S. airport. https://t.co/SvXgzzFlR2 https://t.co/TruijxE6oS\n",
      "RT @BBCNews: Just 3 weeks until #EUref! \n",
      "\n",
      "Take our quiz to find out how much you know about the EU? 🇪🇺\n",
      "\n",
      "https://t.co/SljnoH9SIq\n",
      "RT @BBCNews: Just 3 weeks until #EUref! \n",
      "\n",
      "Take our quiz to find out how much you know about the EU? 🇪🇺\n",
      "\n",
      "https://t.co/SljnoH9SIq\n",
      "@BBCNews #London Farah &amp; Rutherford headline Birmingham - Olympic champions Mo Farah and Greg Rutherford are am... https://t.co/DIz10gLGtD\n",
      "@BBCNews for the sake of our CHILDRENS CHILDRENS FUTURE ---we have to stop the invasion STOP BREEDING FOR MONEY AND PASSPORTS --WE WANT OUR\n",
      "@CNN @cnni @MSNBC @abcnews @NBCNews @CBSNews @FoxNews @megynkelly  https://t.co/CA3vIT7G9G\n",
      "@BBCNews swahili\n",
      "@CNN I m Chinese using Korean name. My name is L Yahmin\n",
      "RT @CNN: Police: Pakistani woman died after being beaten, set on fire for rejecting marriage proposal https://t.co/xXJ3ttkQ8W https://t.co/…\n",
      "Written 10 Tweets\n"
     ]
    }
   ],
   "source": [
    "from nltk.twitter import Twitter\n",
    "\n",
    "tw = Twitter()\n",
    "tw.tweets(follow=['759251', '612473'], limit=10) # see what CNN and BBC are talking about"
   ]
  },
  {
   "cell_type": "markdown",
   "metadata": {},
   "source": [
    "### Saving data to file\n",
    "Writing to the screen is great but what if we want to keep the data we're gathering?\n",
    "Twython will save a json file in the \"twitter-files\" folder"
   ]
  },
  {
   "cell_type": "code",
   "execution_count": 7,
   "metadata": {
    "collapsed": false
   },
   "outputs": [
    {
     "name": "stdout",
     "output_type": "stream",
     "text": [
      "Writing to /Users/Neuromancer/twitter-files/tweets.20160503-111428.json\n",
      "Written 25 Tweets\n"
     ]
    }
   ],
   "source": [
    "tw = Twitter()\n",
    "tw.tweets(to_screen=False, limit=25)"
   ]
  },
  {
   "cell_type": "code",
   "execution_count": 10,
   "metadata": {
    "collapsed": false
   },
   "outputs": [
    {
     "name": "stdout",
     "output_type": "stream",
     "text": [
      "RT @befourceline: i'm dying ya'll this store had toilet paper with hilary clinton's face on it https://t.co/wWGOI3SXf0\n",
      "News that you have quit wasting our time. Konst your for Bernie sanders right? Don't worry its Hilary Clinton who https://t.co/4guTHNnZGe\n",
      "RT @HaleyJonay: Supporting Hilary Clinton just because she is a woman is the opposite of feminism.\n",
      "Clinton raises $26 million in April for presidential bid: https://t.co/z2P0GygKJx\n",
      "RT @MilkenInstitute: .@FrankLuntz: I believe Hilary Clinton will be the next President and that the Democrats have a 50-50 shot of taking t…\n",
      "@JudgeJeanine Would you please bring a body language expert on your show to discuss Hilary Clinton &amp; Donald Trump body language.\n",
      "RT @ASweezy91: The fact that there is a video of Hilary Clinton lying for 13 minutes straight on YouTube is hilarious\n",
      "RT @ImLizzieM: I think we all wish we had this Hilary running for president instead of Hillary Clinton https://t.co/vRNeZwdVUM\n",
      "@JudgeJeanine Does Hilary Clinton ever look anyone in the eye while giving her speeches or does she just look from one monitor to another?\n",
      "The fact that there is a video of Hilary Clinton lying for 13 minutes straight on YouTube is hilarious\n",
      "Written 10 Tweets\n"
     ]
    }
   ],
   "source": [
    "tw.tweets(keywords='hilary clinton', stream=False, limit=10)"
   ]
  },
  {
   "cell_type": "code",
   "execution_count": 11,
   "metadata": {
    "collapsed": true
   },
   "outputs": [],
   "source": [
    "from nltk.twitter import Query, Streamer, Twitter, TweetViewer, TweetWriter, credsfromfile"
   ]
  },
  {
   "cell_type": "code",
   "execution_count": 14,
   "metadata": {
    "collapsed": false
   },
   "outputs": [
    {
     "name": "stdout",
     "output_type": "stream",
     "text": [
      "…まもりゅに逢いたいなあ…(お日さま園でボールを蹴っている)\n",
      "うっさいなぁ～、愛してるって！\n",
      "RT @ShawnMendes: Stuck in @iamjojo land on youtube .. So amazing\n",
      "RT @TheRealHiphop4: This Girl Tried To Kill Herself. 1 Year Later, The Family Found Out The Motive Was Hiding Inside Their House.........ht…\n",
      "次は、館山です。The next station is Tateyama\n",
      "RT @TheRealHiphop4: This Girl Tried To Kill Herself. 1 Year Later, The Family Found Out The Motive Was Hiding Inside Their House.........ht…\n",
      "@Titose_1609 マジすか……行きます行きます 先輩の舌信用しとりますんで楽しみや〜\n",
      "RT @TheRealHiphop4: This Girl Tried To Kill Herself. 1 Year Later, The Family Found Out The Motive Was Hiding Inside Their House.........ht…\n",
      "RT @Anasofiaromerou: Es algo que simplemente me esta dejando de importar\n",
      "@PatriciaRobil @EducationalPics harhar. 😂\n",
      "Written 10 Tweets\n"
     ]
    }
   ],
   "source": [
    "oauth = credsfromfile()\n",
    "client = Streamer(**oauth)\n",
    "client.register(TweetViewer(limit=10))\n",
    "client.sample()"
   ]
  },
  {
   "cell_type": "markdown",
   "metadata": {},
   "source": [
    "# limits on getting data from Twitter\n",
    "\n",
    "the maximum number of tweets you can receive is the last 3,200 tweets, regardless of the query criteria. With a specific keyword, you can typically only poll the last 5,000 tweets per keyword. You are further limited by the number of requests you can make in a certain time period. The Twitter request limits have changed over the years but are currently limited to 180 requests in a 15 minute period."
   ]
  },
  {
   "cell_type": "markdown",
   "metadata": {},
   "source": [
    "# Twitter\n",
    "\n",
    "- What an API is\n",
    "- The Twitter Firehose API\n",
    "\n",
    "Isn't free but returns 100% of the tweets that match your search terms\n",
    "\n",
    "- the Twitter Search API\n",
    "\n",
    "looks at past tweets\n",
    "\n",
    "- the Twitter Streaming API\n",
    "\n",
    "looks at tweets as they happen\n"
   ]
  },
  {
   "cell_type": "markdown",
   "metadata": {},
   "source": [
    "# Let's go deeper\n",
    "\n",
    "The credsfromfile( ) method setups up oauth from the file with your codes in it. \n",
    "\n",
    "The Streamer( ) function accesses the Twitter streaming API.\n",
    "\n",
    "The register( ) method specifies whether we want to view the data on a terminal or write it to a file.\n",
    "\n",
    "The sample( ) method returns a random sample from the streaming data"
   ]
  },
  {
   "cell_type": "code",
   "execution_count": 16,
   "metadata": {
    "collapsed": false
   },
   "outputs": [
    {
     "name": "stdout",
     "output_type": "stream",
     "text": [
      "RT @NBA_Skits: LeBron James will reportedly star in Space Jam 2, directed by Justin Lin from the Fast &amp; Furious series. https://t.co/8ywxbW…\n",
      "I don't know what to do like I'm so confused\n",
      "@sakanako14 1人でお買い物？\n",
      "暇だちゃ暇だよ🤓\n",
      "La historia se vuelve a repetir una vez mas 😔\n",
      "RT @Kapoor_Mrs: I go now the movie watch and good night everyone😴💭💞\n",
      "\n",
      "#MainAurMrRiight  #BarunSobti  ✨ https://t.co/uLUdCjzW2S\n",
      "RT @itswisewordes: \"My favorite hello, my hardest goodbye.\"\n",
      "Fujifjlm Finepix S5200 5.1 Mp Digital Camera With 10x Optical Zoom https://t.co/y57tHdlJLN Last Second OutBid ↺RT, Favorite, Sha\n",
      "RT @rtinglife: Kim &amp; Kanye https://t.co/uMp5N8XfNf\n",
      "A5: Working in bed probably. My desk is a mess so I've migrated to me bed #creativecoffeehour\n",
      "@ZulianiChiara vos tenés cara de Magdalena y nadie t dice nada\n",
      "Written 10 Tweets\n"
     ]
    }
   ],
   "source": [
    "oauth = credsfromfile()\n",
    "client = Streamer(**oauth)\n",
    "client.register(TweetViewer(limit=10))\n",
    "client.sample()"
   ]
  },
  {
   "cell_type": "markdown",
   "metadata": {},
   "source": [
    "# Using search terms"
   ]
  },
  {
   "cell_type": "markdown",
   "metadata": {},
   "source": [
    "the filter( ) method will return tweets that mention refugee OR germany (upper case or lower case is ignored)"
   ]
  },
  {
   "cell_type": "code",
   "execution_count": 17,
   "metadata": {
    "collapsed": false
   },
   "outputs": [
    {
     "name": "stdout",
     "output_type": "stream",
     "text": [
      "Cate Blanchett appointed UN refugee agency’s goodwill ambassador https://t.co/mMotA0Xosp\n",
      "coins.australia.1.penny.1957.....#195 https://t.co/t9VaEqjMHL https://t.co/K42nKmyyeI\n",
      "RT @GuardianAus: Somali refugee in critical condition after setting herself alight on Nauru https://t.co/ZNg3fCtpky\n",
      "RT @freshwater8: ABC24: Dutton says Refugee Advocates are to blame for asylum seekers self harming themselves.\n",
      "Not! Repeat NOT LNP unrelent…\n",
      "Appraisement thine main office yet denotative offices entering australia: uFufJuVHR\n",
      "RT @Free_Media_Hub: How Syrian women are gaining new confidence in Turkish refugee camp https://t.co/YaPfz9djSo\n",
      "Complaints after Australia Post increases cost of stamp to $1... https://t.co/LjKjoFsaDJ #australiapost\n",
      "Government to raise New Zealand's refugee quota for first time in nearly 30 years – TVNZ https://t.co/d1TgJ9P3cP\n",
      "RT @Kon__K: Peter #Dutton's barbaric #refugee policies are what's driving #refugees to self - harm. We're trying to stop it. https://t.co/e…\n",
      "RT @AmyFeldtmann: The delusion is extraordinary. 'helping the vulnerable' 'Marles doing good job'. Keep up the Kool Aid everyone. https://t…\n",
      "Written 10 Tweets\n"
     ]
    }
   ],
   "source": [
    "client = Streamer(**oauth)\n",
    "client.register(TweetViewer(limit=10))\n",
    "client.filter(track='australia, refugee')"
   ]
  },
  {
   "cell_type": "markdown",
   "metadata": {},
   "source": []
  },
  {
   "cell_type": "code",
   "execution_count": 20,
   "metadata": {
    "collapsed": false
   },
   "outputs": [
    {
     "name": "stdout",
     "output_type": "stream",
     "text": [
      "{'contributors': None,\n",
      " 'coordinates': None,\n",
      " 'created_at': 'Mon May 02 23:57:28 +0000 2016',\n",
      " 'entities': {'hashtags': [], 'symbols': [], 'urls': [], 'user_mentions': []},\n",
      " 'favorite_count': 0,\n",
      " 'favorited': False,\n",
      " 'geo': None,\n",
      " 'id': 727285912405729280,\n",
      " 'id_str': '727285912405729280',\n",
      " 'in_reply_to_screen_name': None,\n",
      " 'in_reply_to_status_id': None,\n",
      " 'in_reply_to_status_id_str': None,\n",
      " 'in_reply_to_user_id': None,\n",
      " 'in_reply_to_user_id_str': None,\n",
      " 'is_quote_status': False,\n",
      " 'lang': 'en',\n",
      " 'metadata': {'iso_language_code': 'en', 'result_type': 'recent'},\n",
      " 'place': None,\n",
      " 'retweet_count': 0,\n",
      " 'retweeted': False,\n",
      " 'source': '<a href=\"http://samraker.com\" '\n",
      "           'rel=\"nofollow\">swizzard_botmaster</a>',\n",
      " 'text': \"We're looking for a NLTK War Chariot to join our team!\",\n",
      " 'truncated': False,\n",
      " 'user': {'contributors_enabled': False,\n",
      "          'created_at': 'Mon Jun 22 23:29:46 +0000 2015',\n",
      "          'default_profile': True,\n",
      "          'default_profile_image': False,\n",
      "          'description': 'Civilization 5-based tech jobs by @swizzard '\n",
      "                         '#BotAlly',\n",
      "          'entities': {'description': {'urls': []},\n",
      "                       'url': {'urls': [{'display_url': 'linkedin.com',\n",
      "                                         'expanded_url': 'http://www.linkedin.com',\n",
      "                                         'indices': [...],\n",
      "                                         'url': 'http://t.co/3gG68vpoI5'}]}},\n",
      "          'favourites_count': 0,\n",
      "          'follow_request_sent': False,\n",
      "          'followers_count': 34,\n",
      "          'following': False,\n",
      "          'friends_count': 0,\n",
      "          'geo_enabled': False,\n",
      "          'has_extended_profile': False,\n",
      "          'id': 3342186154,\n",
      "          'id_str': '3342186154',\n",
      "          'is_translation_enabled': False,\n",
      "          'is_translator': False,\n",
      "          'lang': 'en',\n",
      "          'listed_count': 47,\n",
      "          'location': '',\n",
      "          'name': 'Timeless Tech Talent',\n",
      "          'notifications': False,\n",
      "          'profile_background_color': 'C0DEED',\n",
      "          'profile_background_image_url': 'http://abs.twimg.com/images/themes/theme1/bg.png',\n",
      "          'profile_background_image_url_https': 'https://abs.twimg.com/images/themes/theme1/bg.png',\n",
      "          'profile_background_tile': False,\n",
      "          'profile_image_url': 'http://pbs.twimg.com/profile_images/613127776430788608/ZatnOnAu_normal.png',\n",
      "          'profile_image_url_https': 'https://pbs.twimg.com/profile_images/613127776430788608/ZatnOnAu_normal.png',\n",
      "          'profile_link_color': '0084B4',\n",
      "          'profile_sidebar_border_color': 'C0DEED',\n",
      "          'profile_sidebar_fill_color': 'DDEEF6',\n",
      "          'profile_text_color': '333333',\n",
      "          'profile_use_background_image': True,\n",
      "          'protected': False,\n",
      "          'screen_name': 'civ5_jobs',\n",
      "          'statuses_count': 15268,\n",
      "          'time_zone': None,\n",
      "          'url': 'http://t.co/3gG68vpoI5',\n",
      "          'utc_offset': None,\n",
      "          'verified': False}}\n"
     ]
    }
   ],
   "source": [
    "client = Query(**oauth)\n",
    "tweets = client.search_tweets(keywords='nltk', limit=10)\n",
    "tweet = next(tweets)\n",
    "from pprint import pprint\n",
    "pprint(tweet, depth=6)"
   ]
  },
  {
   "cell_type": "markdown",
   "metadata": {},
   "source": [
    "<p>Example:</p><pre linenumbers=\"off\" class=\"brush: jscript\">\"contributors\":\n",
    "[\n",
    "    {\n",
    "        \"id\":819797,\n",
    "        \"id_str\":\"819797\",\n",
    "        \"screen_name\":\"episod\"\n",
    "    }\n",
    "]\n",
    "</pre></td></tr><tr><th>coordinates</th><td><a href=\"#obj-coordinates\">Coordinates</a></td><td><em>Nullable</em>. Represents the geographic location of this Tweet as reported by the user or client application. The inner coordinates array is formatted as <a href=\"http://www.geojson.org/\">geoJSON</a> (longitude first, then latitude).\n",
    "<p>Example:</p><pre linenumbers=\"off\" class=\"brush: jscript\">\"coordinates\":\n",
    "{\n",
    "    \"coordinates\":\n",
    "    [\n",
    "        -75.14310264,\n",
    "        40.05701649\n",
    "    ],\n",
    "    \"type\":\"Point\"\n",
    "}\n",
    "</pre></td></tr><tr><th>created_at</th><td>String</td><td>UTC time when this Tweet was created.\n",
    "<p>Example:</p><pre linenumbers=\"off\" class=\"brush: jscript\">\"created_at\":\"Wed Aug 27 13:08:45 +0000 2008\"\n",
    "</pre></td></tr><tr><th>current_user_retweet</th><td>Object</td><td><em>Perspectival</em>. Only surfaces on methods supporting the <code>include_my_retweet</code> parameter, when set to true. Details the Tweet ID of the user&#8217;s own retweet (if existent) of this Tweet.\n",
    "<p>Example:</p><pre linenumbers=\"off\" class=\"brush: jscript\">\"current_user_retweet\": {\n",
    "  \"id\": 26815871309,\n",
    "  \"id_str\": \"26815871309\"\n",
    "}\n",
    "</pre></td></tr><tr><th>entities</th><td><a href=\"/overview/api/entities\">Entities</a></td><td>Entities which have been parsed out of the text of the Tweet. Additionally see <a href=\"/overview/api/entities-in-twitter-objects\">Entities in Twitter Objects</a>.\n",
    "<p>Example:</p><pre linenumbers=\"off\" class=\"brush: jscript\">\"entities\":\n",
    "{\n",
    "    \"hashtags\":[],\n",
    "    \"urls\":[],\n",
    "    \"user_mentions\":[]\n",
    "}\n",
    "</pre></td></tr><tr><th>favorite_count</th><td>Integer</td><td><em>Nullable</em>. Indicates approximately how many times this Tweet has been &#8220;<a href=\"/rest/reference/post/favorites/create\">liked</a>&#8221; by Twitter users.\n",
    "<p>Example:</p><pre linenumbers=\"off\" class=\"brush: jscript\">\"favorite_count\":1138\n",
    "</pre></td></tr><tr><th>favorited</th><td>Boolean</td><td><em>Nullable</em>. <em>Perspectival</em>. Indicates whether this Tweet has been liked by the authenticating user.\n",
    "<p>Example:</p><pre linenumbers=\"off\" class=\"brush: jscript\">\"favorited\":true\n",
    "</pre></td></tr><tr><th>filter_level</th><td>String</td><td><p>Indicates the maximum value of the <a href=\"/streaming/overview/request-parameters#filter_level\">filter_level</a> parameter which may be used and still stream this Tweet. So a value of <code>medium</code> will be streamed on <code>none</code>, <code>low</code>, and <code>medium</code> streams.</p><p>Example:</p><pre linenumbers=\"off\" class=\"brush: jscript\">\"filter_level\": \"medium\"\n",
    "</pre></td></tr><tr><th>geo</th><td>Object</td><td><em><strong>Deprecated</strong>. Nullable.</em> Use the &#8220;coordinates&#8221; field instead. <a href=\"http://groups.google.com/group/twitter-development-talk/browse_thread/thread/9e4ea75178174908\">Discussion</a></td></tr><tr><th>id</th><td>Int64</td><td>The integer representation of the unique identifier for this Tweet. This number is greater than 53 bits and some programming languages may have difficulty/silent defects in interpreting it. Using a signed 64 bit integer for storing this identifier is safe. Use <code>id_str</code> for fetching the identifier to stay on the safe side. See <a href=\"/overview/api/twitter-ids-json-and-snowflake\">Twitter IDs, JSON and Snowflake</a>.\n",
    "<p>Example:</p><pre linenumbers=\"off\" class=\"brush: jscript\">\"id\":114749583439036416\n",
    "</pre></td></tr><tr><th>id_str</th><td>String</td><td>The string representation of the unique identifier for this Tweet. Implementations should use this rather than the large integer in <code>id</code>. <a href=\"http://groups.google.com/group/twitter-development-talk/browse_thread/thread/6a16efa375532182/\">Discussion</a>.\n",
    "<p>Example:</p><pre linenumbers=\"off\" class=\"brush: jscript\">\"id_str\":\"114749583439036416\"\n",
    "</pre></td></tr><tr><th>in_reply_to_screen_name</th><td>String</td><td><em>Nullable.</em> If the represented Tweet is a reply, this field will contain the screen name of the original Tweet&#8217;s author.\n",
    "<p>Example:</p><pre linenumbers=\"off\" class=\"brush: jscript\">\"in_reply_to_screen_name\":\"twitterapi\"\n",
    "</pre></td></tr><tr><th>in_reply_to_status_id</th><td>Int64</td><td><em>Nullable.</em> If the represented Tweet is a reply, this field will contain the integer representation of the original Tweet&#8217;s ID.\n",
    "<p>Example:</p><pre linenumbers=\"off\" class=\"brush: jscript\">\"in_reply_to_status_id\":114749583439036416\n",
    "</pre></td></tr><tr><th>in_reply_to_status_id_str</th><td>String</td><td><em>Nullable.</em> If the represented Tweet is a reply, this field will contain the string representation of the original Tweet&#8217;s ID.\n",
    "<p>Example:</p><pre linenumbers=\"off\" class=\"brush: jscript\">\"in_reply_to_status_id_str\":\"114749583439036416\"\n",
    "</pre></td></tr><tr><th>in_reply_to_user_id</th><td>Int64</td><td><em>Nullable.</em> If the represented Tweet is a reply, this field will contain the integer representation of the original Tweet&#8217;s author ID. This will not necessarily always be the user directly mentioned in the Tweet.\n",
    "<p>Example:</p><pre linenumbers=\"off\" class=\"brush: jscript\">\"in_reply_to_user_id\":819797\n",
    "</pre></td></tr><tr><th>in_reply_to_user_id_str</th><td>String</td><td><em>Nullable.</em> If the represented Tweet is a reply, this field will contain the string representation of the original Tweet&#8217;s author ID. This will not necessarily always be the user directly mentioned in the Tweet.\n",
    "<p>Example:</p><pre linenumbers=\"off\" class=\"brush: jscript\">\"in_reply_to_user_id_str\":\"819797\"\n",
    "</pre></td></tr><tr><th>lang</th><td>String</td><td><em>Nullable.</em> When present, indicates a <a href=\"http://tools.ietf.org/html/bcp47\">BCP 47</a> language identifier corresponding to the machine-detected language of the Tweet text, or &#8220;<code>und</code>&#8221; if no language could be detected.\n",
    "<p>Example:</p><pre linenumbers=\"off\" class=\"brush: jscript\">\"lang\": \"en\"\n",
    "</pre></td></tr><tr><th>place</th><td><a href=\"/overview/api/places\">Places</a></td><td><em>Nullable.</em> When present, indicates that the tweet is associated (but not necessarily originating from) a <a href=\"/overview/api/places\">Place</a>.\n",
    "<p>Example:</p><pre linenumbers=\"off\" class=\"brush: jscript\">\"place\":\n",
    "{\n",
    "    \"attributes\":{},\n",
    "     \"bounding_box\":\n",
    "    {\n",
    "        \"coordinates\":\n",
    "        [[\n",
    "                [-77.119759,38.791645],\n",
    "                [-76.909393,38.791645],\n",
    "                [-76.909393,38.995548],\n",
    "                [-77.119759,38.995548]\n",
    "        ]],\n",
    "        \"type\":\"Polygon\"\n",
    "    },\n",
    "     \"country\":\"United States\",\n",
    "     \"country_code\":\"US\",\n",
    "     \"full_name\":\"Washington, DC\",\n",
    "     \"id\":\"01fbe706f872cb32\",\n",
    "     \"name\":\"Washington\",\n",
    "     \"place_type\":\"city\",\n",
    "     \"url\": \"http://api.twitter.com/1/geo/id/01fbe706f872cb32.json\"\n",
    "}\n",
    "</pre></td></tr><tr><th>possibly_sensitive</th><td>Boolean</td><td><em>Nullable.</em> This field only surfaces when a tweet contains a link. The meaning of the field doesn&#8217;t pertain to the tweet content itself, but instead it is an indicator that the URL contained in the tweet may contain content or media identified as sensitive content.\n",
    "<p>Example:</p><pre linenumbers=\"off\" class=\"brush: jscript\">\"possibly_sensitive\":true\n",
    "</pre></td></tr><tr><th>quoted_status_id</th><td>Int64</td><td>This field only surfaces when the Tweet is a quote Tweet. This field contains the integer value Tweet ID of the quoted Tweet.\n",
    "<p>Example:</p><pre linenumbers=\"off\" class=\"brush: jscript\">\"quoted_status_id\":114749583439036416\n",
    "</pre></td></tr><tr><th>quoted_status_id_str</th><td>String</td><td>This field only surfaces when the Tweet is a quote Tweet. This is the string representation Tweet ID of the quoted Tweet.\n",
    "<p>Example:</p><pre linenumbers=\"off\" class=\"brush: jscript\">\"quoted_status_id_str\":\"114749583439036416\"\n",
    "</pre></td></tr><tr><th>quoted_status</th><td><a href=\"/overview/api/tweets\">Tweet</a></td><td>This field only surfaces when the Tweet is a quote Tweet. This attribute contains the Tweet object of the original Tweet that was quoted.</td></tr><tr><th>scopes</th><td>Object</td><td>A set of key-value pairs indicating the intended contextual delivery of the containing Tweet. Currently used by Twitter&#8217;s Promoted Products.\n",
    "<p>Example:</p><pre linenumbers=\"off\" class=\"brush: jscript\">\"scopes\":{\"followers\":false}\n",
    "</pre></td></tr><tr><th>retweet_count</th><td>Int</td><td>Number of times this Tweet has been retweeted. This field is no longer capped at 99 and will <strong>not</strong> turn into a String for &#8220;100+&#8221;\n",
    "<p>Example:</p><pre linenumbers=\"off\" class=\"brush: jscript\">\"retweet_count\":1585\n",
    "</pre></td></tr><tr><th>retweeted</th><td>Boolean</td><td><em>Perspectival</em>. Indicates whether this Tweet has been retweeted by the authenticating user.\n",
    "<p>Example:</p><pre linenumbers=\"off\" class=\"brush: jscript\">\"retweeted\":false\n",
    "</pre></td></tr><tr><th>retweeted_status</th><td><a href=\"/overview/api/tweets\">Tweet</a></td><td>Users can amplify the broadcast of tweets authored by other users by <a href=\"/rest/reference/post/statuses/retweet/%3Aid\">retweeting</a>. Retweets can be distinguished from typical Tweets by the existence of a <code>retweeted_status</code> attribute. This attribute contains a representation of the <em>original</em> Tweet that was retweeted. Note that retweets of retweets do not show representations of the intermediary retweet, but only the original tweet. (Users can also <a href=\"/rest/reference/post/statuses/destroy/%3Aid\">unretweet</a> a retweet they created by deleting their retweet.)</td></tr><tr><th>source</th><td>String</td><td>Utility used to post the Tweet, as an HTML-formatted string. Tweets from the Twitter website have a source value of <code>web</code>.\n",
    "<p>Example:</p><pre linenumbers=\"off\" class=\"brush: jscript\">\"source\":\"\\u003Ca href=\\\"http:\\/\\/itunes.apple.com\\/us\\/app\\/twitter\\/id409789998?mt=12\\\" rel=\\\"nofollow\\\"\\u003ETwitter for Mac\\u003C\\/a\\u003E\"\n",
    "          \n",
    "</pre></td></tr><tr><th>text</th><td>String</td><td>The actual UTF-8 text of the status update. See <a href=\"https://github.com/twitter/twitter-text/blob/master/rb/lib/twitter-text/regex.rb\">twitter-text</a> for details on what is currently considered valid characters.\n",
    "<p>Example:</p><pre linenumbers=\"off\" class=\"brush: jscript\">\"text\":\"Tweet Button, Follow Button, and Web Intents javascript now support SSL http:\\/\\/t.co\\/9fbA0oYy ^TS\"\n",
    "</pre></td></tr><tr><th>truncated</th><td>Boolean</td><td>Indicates whether the value of the <code>text</code> parameter was truncated, for example, as a result of a retweet exceeding the 140 character Tweet length. Truncated text will end in ellipsis, like this <code>...</code> Since Twitter now rejects long Tweets vs truncating them, the large majority of Tweets will have this set to <code>false</code>.<br /> Note that while native retweets may have their toplevel <code>text</code> property shortened, the original text will be available under the <code>retweeted_status</code> object and the <code>truncated</code> parameter will be set to the value of the original status (in most cases, <code>false</code>).\n",
    "<p>Example:</p><pre linenumbers=\"off\" class=\"brush: jscript\">\"truncated\":true\n",
    "</pre></td></tr><tr><th>user</th><td><a href=\"/overview/api/users\">Users</a></td><td>The user who posted this Tweet. Perspectival attributes embedded within this object are unreliable. See <a href=\"/docs/faq/basics/why-are-embedded-objects-stale-or-inaccurate\">Why are embedded objects stale or inaccurate?</a>.\n",
    "<p>Example:</p><pre linenumbers=\"off\" class=\"brush: jscript\">\"user\":{\"statuses_count\":3080, \"favourites_count\":22, \"protected\":false, \"profile_text_color\":\"437792\", \"profile_image_url\":\"...\", \"name\":\"Twitter API\", \"profile_sidebar_fill_color\":\"a9d9f1\", \"listed_count\":9252, \"following\":true, \"profile_background_tile\":false, \"utc_offset\":-28800, \"description\":\"The Real Twitter API. I tweet about API changes, service issues and happily answer questions about Twitter and our API. Don't get an answer? It's on my website.\", \"location\":\"San Francisco, CA\", \"contributors_enabled\":true, \"verified\":true, \"profile_link_color\":\"0094C2\", \"followers_count\":665829, \"url\":\"http:\\/\\/dev.twitter.com\", \"default_profile\":false, \"profile_sidebar_border_color\":\"0094C2\", \"screen_name\":\"twitterapi\", \"default_profile_image\":false, \"notifications\":false, \"display_url\":null, \"show_all_inline_media\":false, \"geo_enabled\":true, \"profile_use_background_image\":true, \"friends_count\":32, \"id_str\":\"6253282\", \"entities\":{\"hashtags\":[], \"urls\":[], \"user_mentions\":[]}, \"expanded_url\":null, \"is_translator\":false, \"lang\":\"en\", \"time_zone\":\"Pacific Time (US &amp; Canada)\", \"created_at\":\"Wed May 23 06:01:13 +0000 2007\", \"profile_background_color\":\"e8f2f7\", \"id\":6253282, \"follow_request_sent\":false, \"profile_background_image_url_https\":\"...\", \"profile_background_image_url\":\"...\", \"profile_image_url_https\":\"...\"}\n",
    "</pre></td></tr><tr><th>withheld_copyright</th><td>Boolean</td><td>When present and set to &#8220;true&#8221;, it indicates that this piece of content has been withheld due to a <a href=\"http://en.wikipedia.org/wiki/Digital_Millennium_Copyright_Act\">DMCA complaint</a>.\n",
    "<p>Example:</p><pre linenumbers=\"off\" class=\"brush: jscript\">\"withheld_copyright\": true\n",
    "</pre></td></tr><tr><th>withheld_in_countries</th><td>Array of String</td><td>When present, indicates a list of uppercase <a href=\"http://en.wikipedia.org/wiki/ISO_3166-1_alpha-2\">two-letter country codes</a> this content is withheld from. Twitter supports the following non-country values for this field:\n",
    "<p></p><ul><ul><li>&#8220;XX&#8221; - Content is withheld in all countries</li><li>&#8220;XY&#8221; - Content is withheld due to a DMCA request.</li><ul></ul></ul></ul><p>Example:</p><pre linenumbers=\"off\" class=\"brush: jscript\">\"withheld_in_countries\": [\"GR\", \"HK\", \"MY\"]\n",
    "</pre></td></tr><tr><th>withheld_scope</th><td>String</td><td><p>When present, indicates whether the content being withheld is the &#8220;status&#8221; or a &#8220;user.&#8221;</p><p><span>Example:</span></p><pre linenumbers=\"off\" class=\"brush: jscript\">\"withheld_scope\": \"status\"\n",
    "</pre></td></tr></tbody></table><h3 id=\"obj-contributors\">Contributors</h3><p>If there are no contributors for a status, then there will be an empty or</p><pre class=\"brush: jscript\">\"contributors\" : {}</pre><p>. This field will only be populated if the user has contributors enabled on his or her account — this is a beta feature that is not yet generally available to all.</p><table class=\"platform-object\"><thead><tr><th>Field</th><th>Type</th><th>Description</th></tr></thead><tbody><tr><th>id</th><td>Int64</td><td>The integer representation of the ID of the user who contributed to this Tweet.\n",
    "<p>Example:</p><pre linenumbers=\"off\" class=\"brush: jscript\">\"id\":819797\n",
    "</pre></td></tr><tr><th>id_str</th><td>String</td><td>The string representation of the ID of the user who contributed to this Tweet.\n",
    "<p>Example:</p><pre linenumbers=\"off\" class=\"brush: jscript\">\"id_str\":\"819797\"\n",
    "</pre></td></tr><tr><th>screen_name</th><td>String</td><td>The screen name of the user who contributed to this Tweet.\n",
    "<p>Example:</p><pre linenumbers=\"off\" class=\"brush: jscript\">\"screen_name\":\"episod\"\n",
    "</pre></td></tr></tbody></table><h3 id=\"obj-coordinates\">Coordinates</h3><table class=\"platform-object\"><thead><tr><th>Field</th><th>Type</th><th>Description</th></tr></thead><tbody><tr><th>coordinates</th><td>Collection of Float</td><td>The longitude and latitude of the Tweet&#8217;s location, as an collection in the form of [longitude, latitude].\n",
    "<p>Example:</p><pre linenumbers=\"off\" class=\"brush: jscript\">\"coordinates\":[-97.51087576,35.46500176]\n",
    "</pre></td></tr><tr><th>type</th><td>String</td><td>The type of data encoded in the coordinates property. This will be &#8220;Point&#8221; for Tweet coordinates fields.\n",
    "<p>Example:</p>"
   ]
  },
  {
   "cell_type": "markdown",
   "metadata": {},
   "source": [
    "![anatomy of a tweet](https://html1-f.scribdassets.com/1569f418gje8qd/images/1-060d2e8d12.png)"
   ]
  },
  {
   "cell_type": "code",
   "execution_count": null,
   "metadata": {
    "collapsed": true
   },
   "outputs": [],
   "source": []
  }
 ],
 "metadata": {
  "kernelspec": {
   "display_name": "Python 3",
   "language": "python",
   "name": "python3"
  },
  "language_info": {
   "codemirror_mode": {
    "name": "ipython",
    "version": 3
   },
   "file_extension": ".py",
   "mimetype": "text/x-python",
   "name": "python",
   "nbconvert_exporter": "python",
   "pygments_lexer": "ipython3",
   "version": "3.4.4"
  }
 },
 "nbformat": 4,
 "nbformat_minor": 0
}
