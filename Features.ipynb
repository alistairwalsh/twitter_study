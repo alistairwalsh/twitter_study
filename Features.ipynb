{
 "cells": [
  {
   "cell_type": "markdown",
   "metadata": {},
   "source": [
    "# twython"
   ]
  },
  {
   "cell_type": "markdown",
   "metadata": {},
   "source": [
    "What if we want tweets that include particular users, the next example '759251', '612473' are CNN and BBC"
   ]
  },
  {
   "cell_type": "code",
   "execution_count": 6,
   "metadata": {
    "collapsed": false
   },
   "outputs": [
    {
     "name": "stdout",
     "output_type": "stream",
     "text": [
      "RT @CNN: Today marks the 5th anniversary of the death of Osama bin Laden. #WeGotHim airs tonight 8pET https://t.co/8faS5scaxk https://t.co/…\n",
      "@CNN @BernieSanders @jeffzeleny &amp; Clinton must have been called out 4 AGAIN flipflopping...this time on COAL. So he made her meaculpa 4 her!\n",
      "@CNN @FoxNews @seanhannity The Latin culture has gone in the gutter, the children cussing at Trump supporters is bad https://t.co/ngXkrtiBi8\n",
      "@CNN Obama is an outsider.\n",
      "RT @CNN: Drum roll, please... The teen accepted to all 8 Ivy League schools has made her choice https://t.co/vwzkMDS2s7 https://t.co/Z7rjKK…\n",
      "@CNN @POTUS  Is that Hillary Clinton insulting Native American Indians, even back when she was Secretary of State she was doing it.\n",
      "@CNN WHY ARE PEOPLE SO SCARE TO CALL THIS RIOTING AND DISORDERLY CONDUCT THEY SHOULD BE ARRESTED AND NOT DEFENDED BY THE LEFT ANIMALS\n",
      "@CNN @donlemon hey stick that middle finger up your racist ass. I seen the video footage. Asshole.\n",
      "RT @CNN: Drum roll, please... The teen accepted to all 8 Ivy League schools has made her choice https://t.co/vwzkMDS2s7 https://t.co/Z7rjKK…\n",
      "@cnn @FoxNews It's time to protect our border with a wall. https://t.co/KUeZLhpQ2a\n",
      "Written 10 Tweets\n"
     ]
    }
   ],
   "source": [
    "from nltk.twitter import Twitter\n",
    "\n",
    "tw = Twitter()\n",
    "tw.tweets(follow=['759251', '612473'], limit=10) # see what CNN and BBC are talking about"
   ]
  },
  {
   "cell_type": "markdown",
   "metadata": {},
   "source": [
    "### Saving data to file\n",
    "Writing to the screen is great but what if we want to keep the data we're gathering?\n",
    "Twython will save a json file in the \"twitter-files\" folder"
   ]
  },
  {
   "cell_type": "code",
   "execution_count": 7,
   "metadata": {
    "collapsed": false
   },
   "outputs": [
    {
     "name": "stdout",
     "output_type": "stream",
     "text": [
      "Writing to /Users/Neuromancer/twitter-files/tweets.20160503-111428.json\n",
      "Written 25 Tweets\n"
     ]
    }
   ],
   "source": [
    "tw = Twitter()\n",
    "tw.tweets(to_screen=False, limit=25)"
   ]
  },
  {
   "cell_type": "code",
   "execution_count": 10,
   "metadata": {
    "collapsed": false
   },
   "outputs": [
    {
     "name": "stdout",
     "output_type": "stream",
     "text": [
      "RT @befourceline: i'm dying ya'll this store had toilet paper with hilary clinton's face on it https://t.co/wWGOI3SXf0\n",
      "News that you have quit wasting our time. Konst your for Bernie sanders right? Don't worry its Hilary Clinton who https://t.co/4guTHNnZGe\n",
      "RT @HaleyJonay: Supporting Hilary Clinton just because she is a woman is the opposite of feminism.\n",
      "Clinton raises $26 million in April for presidential bid: https://t.co/z2P0GygKJx\n",
      "RT @MilkenInstitute: .@FrankLuntz: I believe Hilary Clinton will be the next President and that the Democrats have a 50-50 shot of taking t…\n",
      "@JudgeJeanine Would you please bring a body language expert on your show to discuss Hilary Clinton &amp; Donald Trump body language.\n",
      "RT @ASweezy91: The fact that there is a video of Hilary Clinton lying for 13 minutes straight on YouTube is hilarious\n",
      "RT @ImLizzieM: I think we all wish we had this Hilary running for president instead of Hillary Clinton https://t.co/vRNeZwdVUM\n",
      "@JudgeJeanine Does Hilary Clinton ever look anyone in the eye while giving her speeches or does she just look from one monitor to another?\n",
      "The fact that there is a video of Hilary Clinton lying for 13 minutes straight on YouTube is hilarious\n",
      "Written 10 Tweets\n"
     ]
    }
   ],
   "source": [
    "tw.tweets(keywords='hilary clinton', stream=False, limit=10)"
   ]
  },
  {
   "cell_type": "code",
   "execution_count": 11,
   "metadata": {
    "collapsed": true
   },
   "outputs": [],
   "source": [
    "from nltk.twitter import Query, Streamer, Twitter, TweetViewer, TweetWriter, credsfromfile"
   ]
  },
  {
   "cell_type": "code",
   "execution_count": 14,
   "metadata": {
    "collapsed": false
   },
   "outputs": [
    {
     "name": "stdout",
     "output_type": "stream",
     "text": [
      "…まもりゅに逢いたいなあ…(お日さま園でボールを蹴っている)\n",
      "うっさいなぁ～、愛してるって！\n",
      "RT @ShawnMendes: Stuck in @iamjojo land on youtube .. So amazing\n",
      "RT @TheRealHiphop4: This Girl Tried To Kill Herself. 1 Year Later, The Family Found Out The Motive Was Hiding Inside Their House.........ht…\n",
      "次は、館山です。The next station is Tateyama\n",
      "RT @TheRealHiphop4: This Girl Tried To Kill Herself. 1 Year Later, The Family Found Out The Motive Was Hiding Inside Their House.........ht…\n",
      "@Titose_1609 マジすか……行きます行きます 先輩の舌信用しとりますんで楽しみや〜\n",
      "RT @TheRealHiphop4: This Girl Tried To Kill Herself. 1 Year Later, The Family Found Out The Motive Was Hiding Inside Their House.........ht…\n",
      "RT @Anasofiaromerou: Es algo que simplemente me esta dejando de importar\n",
      "@PatriciaRobil @EducationalPics harhar. 😂\n",
      "Written 10 Tweets\n"
     ]
    }
   ],
   "source": [
    "oauth = credsfromfile()\n",
    "client = Streamer(**oauth)\n",
    "client.register(TweetViewer(limit=10))\n",
    "client.sample()"
   ]
  },
  {
   "cell_type": "markdown",
   "metadata": {},
   "source": [
    "# limits on getting data from Twitter\n",
    "\n",
    "the maximum number of tweets you can receive is the last 3,200 tweets, regardless of the query criteria. With a specific keyword, you can typically only poll the last 5,000 tweets per keyword. You are further limited by the number of requests you can make in a certain time period. The Twitter request limits have changed over the years but are currently limited to 180 requests in a 15 minute period."
   ]
  },
  {
   "cell_type": "code",
   "execution_count": null,
   "metadata": {
    "collapsed": true
   },
   "outputs": [],
   "source": []
  }
 ],
 "metadata": {
  "kernelspec": {
   "display_name": "Python 3",
   "language": "python",
   "name": "python3"
  },
  "language_info": {
   "codemirror_mode": {
    "name": "ipython",
    "version": 3
   },
   "file_extension": ".py",
   "mimetype": "text/x-python",
   "name": "python",
   "nbconvert_exporter": "python",
   "pygments_lexer": "ipython3",
   "version": "3.4.4"
  }
 },
 "nbformat": 4,
 "nbformat_minor": 0
}
